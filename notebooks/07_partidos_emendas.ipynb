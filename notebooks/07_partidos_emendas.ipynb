{
 "cells": [
  {
   "cell_type": "markdown",
   "metadata": {},
   "source": [
    "## Atribuir partidos às emendas\n",
    "\n",
    "Este notebook carrega `emendas_por_favorecido.csv` e `deputados_dados_partidos.json` e associa o partido de cada autor de emenda sem modificar o arquivo original."
   ]
  },
  {
   "cell_type": "code",
   "execution_count": 1,
   "metadata": {
    "id": "import"
   },
   "outputs": [],
   "source": [
    "import pandas as pd\n",
    "import json\n",
    "from unidecode import unidecode"
   ]
  },
  {
   "cell_type": "code",
   "execution_count": 4,
   "metadata": {
    "id": "load"
   },
   "outputs": [],
   "source": [
    "# Carrega partidos a partir do JSON\n",
    "with open('../data/deputados_dados_partidos.json') as f:\n",
    "    deputados = json.load(f)['dados']\n",
    "deputados_df = pd.DataFrame(deputados)[['nome', 'siglaPartido']]\n",
    "deputados_df['norm_name'] = deputados_df['nome'].apply(lambda x: unidecode(x).upper())"
   ]
  },
  {
   "cell_type": "code",
   "execution_count": 5,
   "metadata": {
    "id": "merge"
   },
   "outputs": [],
   "source": [
    "# Lê emendas e realiza merge sem alterar o CSV original\n",
    "emendas = pd.read_csv('../data/emendas_por_favorecido.csv')\n",
    "emendas['norm_name'] = emendas['Nome do Autor da Emenda'].apply(lambda x: unidecode(x).upper())\n",
    "resultado = emendas.merge(deputados_df[['norm_name', 'siglaPartido']], on='norm_name', how='left')\n",
    "resultado.drop(columns='norm_name', inplace=True)"
   ]
  },
  {
   "cell_type": "code",
   "execution_count": 7,
   "metadata": {
    "id": "save"
   },
   "outputs": [
    {
     "data": {
      "application/vnd.microsoft.datawrangler.viewer.v0+json": {
       "columns": [
        {
         "name": "index",
         "rawType": "int64",
         "type": "integer"
        },
        {
         "name": "Código da Emenda",
         "rawType": "float64",
         "type": "float"
        },
        {
         "name": "Código do Autor da Emenda",
         "rawType": "int64",
         "type": "integer"
        },
        {
         "name": "Nome do Autor da Emenda",
         "rawType": "object",
         "type": "string"
        },
        {
         "name": "Número da emenda",
         "rawType": "int64",
         "type": "integer"
        },
        {
         "name": "Tipo de Emenda",
         "rawType": "object",
         "type": "string"
        },
        {
         "name": "Ano/Mês",
         "rawType": "int64",
         "type": "integer"
        },
        {
         "name": "Código do Favorecido",
         "rawType": "int64",
         "type": "integer"
        },
        {
         "name": "Favorecido",
         "rawType": "object",
         "type": "string"
        },
        {
         "name": "Natureza Jurídica",
         "rawType": "object",
         "type": "string"
        },
        {
         "name": "Tipo Favorecido",
         "rawType": "object",
         "type": "string"
        },
        {
         "name": "UF Favorecido",
         "rawType": "object",
         "type": "string"
        },
        {
         "name": "Município Favorecido",
         "rawType": "object",
         "type": "string"
        },
        {
         "name": "Valor Recebido",
         "rawType": "int64",
         "type": "integer"
        },
        {
         "name": "siglaPartido",
         "rawType": "object",
         "type": "unknown"
        }
       ],
       "ref": "e5130a4e-b4cf-463a-acbb-e76e463ddca4",
       "rows": [
        [
         "0",
         "202445000000.0",
         "4497",
         "PROF. PAULO FERNANDO",
         "5",
         "Emenda Individual - Transferências Especiais",
         "202412",
         "394601000126",
         "DISTRITO FEDERAL",
         "Estado ou Distrito Federal",
         "Pessoa Jurídica",
         "DF",
         "BRASÍLIA",
         "28276676",
         null
        ],
        [
         "1",
         "202444000000.0",
         "4378",
         "FRED LINHARES",
         "13",
         "Emenda Individual - Transferências Especiais",
         "202412",
         "394601000126",
         "DISTRITO FEDERAL",
         "Estado ou Distrito Federal",
         "Pessoa Jurídica",
         "DF",
         "BRASÍLIA",
         "141093592",
         "REPUBLICANOS"
        ],
        [
         "2",
         "202444000000.0",
         "4449",
         "PROF. REGINALDO VERAS",
         "13",
         "Emenda Individual - Transferências Especiais",
         "202412",
         "394601000126",
         "DISTRITO FEDERAL",
         "Estado ou Distrito Federal",
         "Pessoa Jurídica",
         "DF",
         "BRASÍLIA",
         "214702562",
         "PV"
        ],
        [
         "3",
         "202442000000.0",
         "4166",
         "PASTOR SARGENTO ISIDORIO",
         "1",
         "Emenda Individual - Transferências Especiais",
         "202412",
         "13937032000160",
         "ESTADO DA BAHIA",
         "Estado ou Distrito Federal",
         "Pessoa Jurídica",
         "BA",
         "SALVADOR",
         "813112613",
         "AVANTE"
        ],
        [
         "4",
         "202442000000.0",
         "4190",
         "JOSEILDO RAMOS",
         "10",
         "Emenda Individual - Transferências Especiais",
         "202412",
         "13937032000160",
         "ESTADO DA BAHIA",
         "Estado ou Distrito Federal",
         "Pessoa Jurídica",
         "BA",
         "SALVADOR",
         "130000000",
         "PT"
        ]
       ],
       "shape": {
        "columns": 14,
        "rows": 5
       }
      },
      "text/html": [
       "<div>\n",
       "<style scoped>\n",
       "    .dataframe tbody tr th:only-of-type {\n",
       "        vertical-align: middle;\n",
       "    }\n",
       "\n",
       "    .dataframe tbody tr th {\n",
       "        vertical-align: top;\n",
       "    }\n",
       "\n",
       "    .dataframe thead th {\n",
       "        text-align: right;\n",
       "    }\n",
       "</style>\n",
       "<table border=\"1\" class=\"dataframe\">\n",
       "  <thead>\n",
       "    <tr style=\"text-align: right;\">\n",
       "      <th></th>\n",
       "      <th>Código da Emenda</th>\n",
       "      <th>Código do Autor da Emenda</th>\n",
       "      <th>Nome do Autor da Emenda</th>\n",
       "      <th>Número da emenda</th>\n",
       "      <th>Tipo de Emenda</th>\n",
       "      <th>Ano/Mês</th>\n",
       "      <th>Código do Favorecido</th>\n",
       "      <th>Favorecido</th>\n",
       "      <th>Natureza Jurídica</th>\n",
       "      <th>Tipo Favorecido</th>\n",
       "      <th>UF Favorecido</th>\n",
       "      <th>Município Favorecido</th>\n",
       "      <th>Valor Recebido</th>\n",
       "      <th>siglaPartido</th>\n",
       "    </tr>\n",
       "  </thead>\n",
       "  <tbody>\n",
       "    <tr>\n",
       "      <th>0</th>\n",
       "      <td>2.024450e+11</td>\n",
       "      <td>4497</td>\n",
       "      <td>PROF. PAULO FERNANDO</td>\n",
       "      <td>5</td>\n",
       "      <td>Emenda Individual - Transferências Especiais</td>\n",
       "      <td>202412</td>\n",
       "      <td>394601000126</td>\n",
       "      <td>DISTRITO FEDERAL</td>\n",
       "      <td>Estado ou Distrito Federal</td>\n",
       "      <td>Pessoa Jurídica</td>\n",
       "      <td>DF</td>\n",
       "      <td>BRASÍLIA</td>\n",
       "      <td>28276676</td>\n",
       "      <td>NaN</td>\n",
       "    </tr>\n",
       "    <tr>\n",
       "      <th>1</th>\n",
       "      <td>2.024440e+11</td>\n",
       "      <td>4378</td>\n",
       "      <td>FRED LINHARES</td>\n",
       "      <td>13</td>\n",
       "      <td>Emenda Individual - Transferências Especiais</td>\n",
       "      <td>202412</td>\n",
       "      <td>394601000126</td>\n",
       "      <td>DISTRITO FEDERAL</td>\n",
       "      <td>Estado ou Distrito Federal</td>\n",
       "      <td>Pessoa Jurídica</td>\n",
       "      <td>DF</td>\n",
       "      <td>BRASÍLIA</td>\n",
       "      <td>141093592</td>\n",
       "      <td>REPUBLICANOS</td>\n",
       "    </tr>\n",
       "    <tr>\n",
       "      <th>2</th>\n",
       "      <td>2.024440e+11</td>\n",
       "      <td>4449</td>\n",
       "      <td>PROF. REGINALDO VERAS</td>\n",
       "      <td>13</td>\n",
       "      <td>Emenda Individual - Transferências Especiais</td>\n",
       "      <td>202412</td>\n",
       "      <td>394601000126</td>\n",
       "      <td>DISTRITO FEDERAL</td>\n",
       "      <td>Estado ou Distrito Federal</td>\n",
       "      <td>Pessoa Jurídica</td>\n",
       "      <td>DF</td>\n",
       "      <td>BRASÍLIA</td>\n",
       "      <td>214702562</td>\n",
       "      <td>PV</td>\n",
       "    </tr>\n",
       "    <tr>\n",
       "      <th>3</th>\n",
       "      <td>2.024420e+11</td>\n",
       "      <td>4166</td>\n",
       "      <td>PASTOR SARGENTO ISIDORIO</td>\n",
       "      <td>1</td>\n",
       "      <td>Emenda Individual - Transferências Especiais</td>\n",
       "      <td>202412</td>\n",
       "      <td>13937032000160</td>\n",
       "      <td>ESTADO DA BAHIA</td>\n",
       "      <td>Estado ou Distrito Federal</td>\n",
       "      <td>Pessoa Jurídica</td>\n",
       "      <td>BA</td>\n",
       "      <td>SALVADOR</td>\n",
       "      <td>813112613</td>\n",
       "      <td>AVANTE</td>\n",
       "    </tr>\n",
       "    <tr>\n",
       "      <th>4</th>\n",
       "      <td>2.024420e+11</td>\n",
       "      <td>4190</td>\n",
       "      <td>JOSEILDO RAMOS</td>\n",
       "      <td>10</td>\n",
       "      <td>Emenda Individual - Transferências Especiais</td>\n",
       "      <td>202412</td>\n",
       "      <td>13937032000160</td>\n",
       "      <td>ESTADO DA BAHIA</td>\n",
       "      <td>Estado ou Distrito Federal</td>\n",
       "      <td>Pessoa Jurídica</td>\n",
       "      <td>BA</td>\n",
       "      <td>SALVADOR</td>\n",
       "      <td>130000000</td>\n",
       "      <td>PT</td>\n",
       "    </tr>\n",
       "  </tbody>\n",
       "</table>\n",
       "</div>"
      ],
      "text/plain": [
       "   Código da Emenda  Código do Autor da Emenda   Nome do Autor da Emenda  \\\n",
       "0      2.024450e+11                       4497      PROF. PAULO FERNANDO   \n",
       "1      2.024440e+11                       4378             FRED LINHARES   \n",
       "2      2.024440e+11                       4449     PROF. REGINALDO VERAS   \n",
       "3      2.024420e+11                       4166  PASTOR SARGENTO ISIDORIO   \n",
       "4      2.024420e+11                       4190            JOSEILDO RAMOS   \n",
       "\n",
       "   Número da emenda                                Tipo de Emenda  Ano/Mês  \\\n",
       "0                 5  Emenda Individual - Transferências Especiais   202412   \n",
       "1                13  Emenda Individual - Transferências Especiais   202412   \n",
       "2                13  Emenda Individual - Transferências Especiais   202412   \n",
       "3                 1  Emenda Individual - Transferências Especiais   202412   \n",
       "4                10  Emenda Individual - Transferências Especiais   202412   \n",
       "\n",
       "   Código do Favorecido        Favorecido           Natureza Jurídica  \\\n",
       "0          394601000126  DISTRITO FEDERAL  Estado ou Distrito Federal   \n",
       "1          394601000126  DISTRITO FEDERAL  Estado ou Distrito Federal   \n",
       "2          394601000126  DISTRITO FEDERAL  Estado ou Distrito Federal   \n",
       "3        13937032000160   ESTADO DA BAHIA  Estado ou Distrito Federal   \n",
       "4        13937032000160   ESTADO DA BAHIA  Estado ou Distrito Federal   \n",
       "\n",
       "   Tipo Favorecido UF Favorecido Município Favorecido  Valor Recebido  \\\n",
       "0  Pessoa Jurídica            DF             BRASÍLIA        28276676   \n",
       "1  Pessoa Jurídica            DF             BRASÍLIA       141093592   \n",
       "2  Pessoa Jurídica            DF             BRASÍLIA       214702562   \n",
       "3  Pessoa Jurídica            BA             SALVADOR       813112613   \n",
       "4  Pessoa Jurídica            BA             SALVADOR       130000000   \n",
       "\n",
       "   siglaPartido  \n",
       "0           NaN  \n",
       "1  REPUBLICANOS  \n",
       "2            PV  \n",
       "3        AVANTE  \n",
       "4            PT  "
      ]
     },
     "execution_count": 7,
     "metadata": {},
     "output_type": "execute_result"
    }
   ],
   "source": [
    "# Salva nova versão sem alterar o arquivo original\n",
    "resultado.to_csv('../data/emendas_por_favorecido_partidos.csv', index=False)\n",
    "resultado.head()"
   ]
  }
 ],
 "metadata": {
  "kernelspec": {
   "display_name": "base",
   "language": "python",
   "name": "python3"
  },
  "language_info": {
   "codemirror_mode": {
    "name": "ipython",
    "version": 3
   },
   "file_extension": ".py",
   "mimetype": "text/x-python",
   "name": "python",
   "nbconvert_exporter": "python",
   "pygments_lexer": "ipython3",
   "version": "3.11.7"
  }
 },
 "nbformat": 4,
 "nbformat_minor": 5
}
