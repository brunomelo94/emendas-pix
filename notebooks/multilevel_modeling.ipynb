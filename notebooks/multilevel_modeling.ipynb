{
 "cells": [
  {
   "cell_type": "markdown",
   "id": "d1425ccb",
   "metadata": {},
   "source": [
    "# Modelagem Multinível do Efeito das Emendas PIX\n",
    "\n",
    "Este notebook implementa a estratégia **multilevel step-up** descrita no TCC.\n",
    "As etapas são:\n",
    "1. **Modelo nulo**: estima a variância intra-partidos sem variáveis explanatórias.\n",
    "2. **Modelo com interceptos aleatórios**: inclui `emendas_pix_per_capita_partido_prefeito_eleito` como efeito fixo, permitindo interceptos diferentes por partido.\n",
    "3. **Modelo com interceptos e inclinações aleatórios**: além do intercepto, o efeito das emendas por habitante varia entre partidos.\n",
    "4. **Modelo completo**: adiciona as variáveis *dummy* dos clusters socioeconômicos, controlando perfis municipais.\n"
   ]
  },
  {
   "cell_type": "code",
   "execution_count": null,
   "id": "aa27b9e8",
   "metadata": {},
   "outputs": [],
   "source": [
    "import pandas as pd\n",
    "import statsmodels.formula.api as smf\n",
    "import numpy as np\n",
    "import matplotlib.pyplot as plt\n",
    "import seaborn as sns\n",
    "import statsmodels.api as sm # estimação de modelos\n",
    "from scipy import stats # estatística chi2\n",
    "from statsmodels.iolib.summary2 import summary_col # comparação entre modelos\n",
    "from scipy.stats import gaussian_kde # inserção de KDEs em gráficos\n",
    "from matplotlib.gridspec import GridSpec # plotagem de gráficos separados\n",
    "import time # definição do intervalo de tempo entre gráficos com animação\n",
    "import imageio # para geração de figura GIF\n",
    "from tqdm import tqdm # adiciona um indicador de progresso do código\n"
   ]
  },
  {
   "cell_type": "code",
   "execution_count": null,
   "id": "431334f2",
   "metadata": {},
   "outputs": [],
   "source": [
    "# Carrega a base unificada com dummies de clusters\n",
    "base = pd.read_csv('../data/dados_com_clusters.csv')\n",
    "\n",
    "# Remover 1s da coluna 'porcentual_votos_partido_prefeito_eleito'\n",
    "base = base[base['porcentagem_votos_validos_2024'] < 1]\n",
    "\n",
    "# Remover valores extremos da coluna 'emendas_pix_per_capita_partido_prefeito_eleito'\n",
    "def remove_outliers(df, column):\n",
    "    Q1 = df[column].quantile(0.25)\n",
    "    Q3 = df[column].quantile(0.75)\n",
    "    IQR = Q3 - Q1\n",
    "    lower_bound = Q1 - 1.5 * IQR\n",
    "    upper_bound = Q3 + 1.5 * IQR\n",
    "    return df[(df[column] >= lower_bound) & (df[column] <= upper_bound)]\n",
    "\n",
    "base = remove_outliers(base, 'emendas_pix_per_capita_partido_prefeito_eleito')\n",
    "\n",
    "# Converte as colunas de cluster para inteiro (0/1)\n",
    "for col in ['cluster_0', 'cluster_1', 'cluster_2', 'cluster_3']:\n",
    "    base[col] = base[col].fillna(False).astype(int)\n"
   ]
  },
  {
   "cell_type": "code",
   "execution_count": null,
   "id": "fbc06dfd",
   "metadata": {},
   "outputs": [],
   "source": [
    "# Modelo nulo\n",
    "null_model = smf.mixedlm(\n",
    "    'porcentagem_votos_validos_2024 ~ 1',\n",
    "    base,\n",
    "    groups=base['sigla_partido_prefeito_eleito']\n",
    ")\n",
    "null_res = null_model.fit()\n",
    "print(null_res.summary())\n"
   ]
  },
  {
   "cell_type": "code",
   "execution_count": null,
   "id": "b412d6b0",
   "metadata": {},
   "outputs": [],
   "source": [
    "# Modelo com interceptos aleatórios\n",
    "ri_model = smf.mixedlm(\n",
    "    'porcentagem_votos_validos_2024 ~ emendas_pix_per_capita_partido_prefeito_eleito',\n",
    "    base,\n",
    "    groups=base['sigla_partido_prefeito_eleito']\n",
    ")\n",
    "ri_res = ri_model.fit()\n",
    "print(ri_res.summary())\n"
   ]
  },
  {
   "cell_type": "code",
   "execution_count": null,
   "id": "af297405",
   "metadata": {},
   "outputs": [],
   "source": [
    "# Modelo com interceptos e inclinações aleatórios\n",
    "rs_model = smf.mixedlm(\n",
    "    'porcentagem_votos_validos_2024 ~ emendas_pix_per_capita_partido_prefeito_eleito',\n",
    "    base,\n",
    "    groups=base['sigla_partido_prefeito_eleito'],\n",
    "    re_formula='1 + emendas_pix_per_capita_partido_prefeito_eleito'\n",
    ")\n",
    "rs_res = rs_model.fit()\n",
    "print(rs_res.summary())\n"
   ]
  },
  {
   "cell_type": "code",
   "execution_count": null,
   "id": "47b97268",
   "metadata": {},
   "outputs": [],
   "source": [
    "# Modelo multinível completo com dummies dos clusters\n",
    "full_model = smf.mixedlm(\n",
    "    'porcentagem_votos_validos_2024 ~ emendas_pix_per_capita_partido_prefeito_eleito + cluster_0 + cluster_1 + cluster_2 + cluster_3',\n",
    "    base,\n",
    "    groups=base['sigla_partido_prefeito_eleito'],\n",
    "    re_formula='1 + emendas_pix_per_capita_partido_prefeito_eleito'\n",
    ")\n",
    "full_res = full_model.fit()\n",
    "print(full_res.summary())\n"
   ]
  },
  {
   "cell_type": "markdown",
   "id": "ef2bf9e1",
   "metadata": {},
   "source": [
    "## Análise dos coeficientes\n",
    "A seguir resumimos os parâmetros do modelo completo para verificar quais variáveis apresentam efeitos estatisticamente significativos."
   ]
  },
  {
   "cell_type": "code",
   "execution_count": null,
   "id": "5d0be98b",
   "metadata": {},
   "outputs": [],
   "source": [
    "import matplotlib.pyplot as plt\n",
    "import seaborn as sns\n",
    "summary_df = pd.DataFrame({\n",
    "    'coeficiente': full_res.params,\n",
    "    'erro_padrao': full_res.bse,\n",
    "    'p_valor': full_res.pvalues\n",
    "})\n",
    "summary_df"
   ]
  },
  {
   "cell_type": "code",
   "execution_count": null,
   "id": "adae1b5b",
   "metadata": {},
   "outputs": [],
   "source": [
    "from scipy import stats\n",
    "\n",
    "# exemplo para intercepto aleatório\n",
    "lr_stat = -2*(ri_res.llf - null_res.llf)\n",
    "pval = stats.chi2.sf(lr_stat, df=1)\n",
    "print(f\"LR stat={lr_stat:.2f}, p-value={pval:.3f}\")\n",
    "\n",
    "from statsmodels.miscmodels import BetaModel\n",
    "endog = base['porcentagem_votos_validos_2024']\n",
    "exog = sm.add_constant(base[['emendas_pix_per_capita', 'idhm','pib_per_capita','densidade']])\n",
    "beta_mod = BetaModel(endog, exog).fit()\n",
    "print(beta_mod.summary())\n"
   ]
  },
  {
   "cell_type": "code",
   "execution_count": null,
   "id": "2b8b04fc",
   "metadata": {},
   "outputs": [],
   "source": [
    "import statsmodels.formula.api as smf\n",
    "logit = smf.mixedlm(\"reeleito ~ emendas_pix_pc + idhm + pib_pc + densidade\",\n",
    "                    base, groups=base[\"sigla_partido_prefeito_eleito\"],\n",
    "                    family=sm.families.Binomial()).fit()\n"
   ]
  }
 ],
 "metadata": {
  "kernelspec": {
   "display_name": ".venv",
   "language": "python",
   "name": "python3"
  },
  "language_info": {
   "codemirror_mode": {
    "name": "ipython",
    "version": 3
   },
   "file_extension": ".py",
   "mimetype": "text/x-python",
   "name": "python",
   "nbconvert_exporter": "python",
   "pygments_lexer": "ipython3",
   "version": "3.13.0"
  }
 },
 "nbformat": 4,
 "nbformat_minor": 5
}
