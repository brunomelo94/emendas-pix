{
 "cells": [
  {
   "cell_type": "markdown",
   "id": "d1425ccb",
   "metadata": {},
   "source": [
    "# Modelagem Multinível do Efeito das Emendas PIXEste notebook implementa a estratégia **multilevel step-up** descrita no TCC.As etapas são:1. **Modelo nulo**: estima a variância intra-partidos sem variáveis explanatórias.2. **Modelo com interceptos aleatórios**: inclui `emendas_pix_per_capita_partido_prefeito_eleito` como efeito fixo, permitindo interceptos diferentes por partido.3. **Modelo com interceptos e inclinações aleatórios**: além do intercepto, o efeito das emendas por habitante varia entre partidos.4. **Modelo completo**: adiciona as variáveis *dummy* dos clusters socioeconômicos, controlando perfis municipais.Neste caderno, padronizamos `emendas_pix_per_capita_partido_prefeito_eleito` para facilitar a interpretação dos coeficientes."
   ]
  },
  {
   "cell_type": "code",
   "execution_count": 1,
   "id": "aa27b9e8",
   "metadata": {},
   "outputs": [],
   "source": [
    "import pandas as pd\n",
    "import statsmodels.formula.api as smf\n"
   ]
  },
  {
   "cell_type": "code",
   "execution_count": 2,
   "id": "431334f2",
   "metadata": {},
   "outputs": [
    {
     "name": "stderr",
     "output_type": "stream",
     "text": [
      "C:\\Users\\bruno\\AppData\\Local\\Temp\\ipykernel_10772\\3261561341.py:6: FutureWarning: Downcasting object dtype arrays on .fillna, .ffill, .bfill is deprecated and will change in a future version. Call result.infer_objects(copy=False) instead. To opt-in to the future behavior, set `pd.set_option('future.no_silent_downcasting', True)`\n",
      "  base[col] = base[col].fillna(False).astype(int)\n",
      "C:\\Users\\bruno\\AppData\\Local\\Temp\\ipykernel_10772\\3261561341.py:6: FutureWarning: Downcasting object dtype arrays on .fillna, .ffill, .bfill is deprecated and will change in a future version. Call result.infer_objects(copy=False) instead. To opt-in to the future behavior, set `pd.set_option('future.no_silent_downcasting', True)`\n",
      "  base[col] = base[col].fillna(False).astype(int)\n",
      "C:\\Users\\bruno\\AppData\\Local\\Temp\\ipykernel_10772\\3261561341.py:6: FutureWarning: Downcasting object dtype arrays on .fillna, .ffill, .bfill is deprecated and will change in a future version. Call result.infer_objects(copy=False) instead. To opt-in to the future behavior, set `pd.set_option('future.no_silent_downcasting', True)`\n",
      "  base[col] = base[col].fillna(False).astype(int)\n",
      "C:\\Users\\bruno\\AppData\\Local\\Temp\\ipykernel_10772\\3261561341.py:6: FutureWarning: Downcasting object dtype arrays on .fillna, .ffill, .bfill is deprecated and will change in a future version. Call result.infer_objects(copy=False) instead. To opt-in to the future behavior, set `pd.set_option('future.no_silent_downcasting', True)`\n",
      "  base[col] = base[col].fillna(False).astype(int)\n"
     ]
    }
   ],
   "source": [
    "# Carrega a base unificada com dummies de clusters\n",
    "base = pd.read_csv('../data/dados_com_clusters.csv')\n",
    "\n",
    "# Converte as colunas de cluster para inteiro (0/1)\n",
    "for col in ['cluster_0', 'cluster_1', 'cluster_2', 'cluster_3']:\n",
    "    base[col] = base[col].fillna(False).astype(int)\n"
   ]
  },
  {
   "cell_type": "code",
   "execution_count": null,
   "id": "75a6ee0a",
   "metadata": {},
   "outputs": [],
   "source": [
    "# Remove observações sem repasses ou com 100% dos votos\n",
    "base = base[(base['emendas_pix_per_capita_partido_prefeito_eleito'] > 0) &\n",
    "            (base['porcentagem_votos_validos_2024'] < 1)]"
   ]
  },
  {
   "cell_type": "code",
   "execution_count": null,
   "id": "37cfe0fe",
   "metadata": {},
   "outputs": [],
   "source": [
    "# Padroniza a variável de emendas por partido do prefeito eleito\n",
    "from sklearn.preprocessing import StandardScaler\n",
    "scaler = StandardScaler()\n",
    "base['emendas_pix_std'] = scaler.fit_transform(\n",
    "    base[['emendas_pix_per_capita_partido_prefeito_eleito']]\n",
    ")\n"
   ]
  },
  {
   "cell_type": "code",
   "execution_count": 3,
   "id": "fbc06dfd",
   "metadata": {},
   "outputs": [
    {
     "name": "stdout",
     "output_type": "stream",
     "text": [
      "                   Mixed Linear Model Regression Results\n",
      "============================================================================\n",
      "Model:            MixedLM Dependent Variable: porcentagem_votos_validos_2024\n",
      "No. Observations: 5208    Method:             REML                          \n",
      "No. Groups:       23      Scale:              0.0217                        \n",
      "Min. group size:  2       Log-Likelihood:     2568.4745                     \n",
      "Max. group size:  838     Converged:          Yes                           \n",
      "Mean group size:  226.4                                                     \n",
      "--------------------------------------------------------------------------------\n",
      "                  Coef.     Std.Err.        z        P>|z|     [0.025     0.975]\n",
      "--------------------------------------------------------------------------------\n",
      "Intercept         0.612        0.004     153.788     0.000      0.605      0.620\n",
      "Group Var         0.000        0.001                                            \n",
      "============================================================================\n",
      "\n"
     ]
    },
    {
     "name": "stderr",
     "output_type": "stream",
     "text": [
      "e:\\Learning\\TCC-MBA\\.venv\\Lib\\site-packages\\statsmodels\\regression\\mixed_linear_model.py:2237: ConvergenceWarning: The MLE may be on the boundary of the parameter space.\n",
      "  warnings.warn(msg, ConvergenceWarning)\n"
     ]
    }
   ],
   "source": [
    "# Modelo nulo\n",
    "null_model = smf.mixedlm(\n",
    "    'porcentagem_votos_validos_2024 ~ 1',\n",
    "    base,\n",
    "    groups=base['sigla_partido_prefeito_eleito'],\n",
    "    vc_formula={'estado': '0 + C(sigla_municipio)'}\n",
    ")\n",
    "null_res = null_model.fit()\n",
    "print(null_res.summary())\n"
   ]
  },
  {
   "cell_type": "code",
   "execution_count": 4,
   "id": "b412d6b0",
   "metadata": {},
   "outputs": [
    {
     "name": "stdout",
     "output_type": "stream",
     "text": [
      "                          Mixed Linear Model Regression Results\n",
      "=========================================================================================\n",
      "Model:                 MixedLM     Dependent Variable:     porcentagem_votos_validos_2024\n",
      "No. Observations:      5208        Method:                 REML                          \n",
      "No. Groups:            23          Scale:                  0.0211                        \n",
      "Min. group size:       2           Log-Likelihood:         2632.6899                     \n",
      "Max. group size:       838         Converged:              Yes                           \n",
      "Mean group size:       226.4                                                             \n",
      "-----------------------------------------------------------------------------------------\n",
      "                                               Coef. Std.Err.    z    P>|z| [0.025 0.975]\n",
      "-----------------------------------------------------------------------------------------\n",
      "Intercept                                      0.602    0.004 146.819 0.000  0.594  0.610\n",
      "emendas_pix_per_capita_partido_prefeito_eleito 0.000    0.000  12.680 0.000  0.000  0.000\n",
      "Group Var                                      0.000    0.001                            \n",
      "=========================================================================================\n",
      "\n"
     ]
    },
    {
     "name": "stderr",
     "output_type": "stream",
     "text": [
      "e:\\Learning\\TCC-MBA\\.venv\\Lib\\site-packages\\statsmodels\\regression\\mixed_linear_model.py:2237: ConvergenceWarning: The MLE may be on the boundary of the parameter space.\n",
      "  warnings.warn(msg, ConvergenceWarning)\n"
     ]
    }
   ],
   "source": [
    "# Modelo com interceptos aleatórios\n",
    "ri_model = smf.mixedlm(\n",
    "    'porcentagem_votos_validos_2024 ~ emendas_pix_std',\n",
    "    base,\n",
    "    groups=base['sigla_partido_prefeito_eleito'],\n",
    "    vc_formula={'estado': '0 + C(sigla_municipio)'}\n",
    ")\n",
    "ri_res = ri_model.fit()\n",
    "print(ri_res.summary())\n"
   ]
  },
  {
   "cell_type": "code",
   "execution_count": 5,
   "id": "af297405",
   "metadata": {},
   "outputs": [
    {
     "name": "stdout",
     "output_type": "stream",
     "text": [
      "                               Mixed Linear Model Regression Results\n",
      "====================================================================================================\n",
      "Model:                    MixedLM         Dependent Variable:         porcentagem_votos_validos_2024\n",
      "No. Observations:         5208            Method:                     REML                          \n",
      "No. Groups:               23              Scale:                      0.0209                        \n",
      "Min. group size:          2               Log-Likelihood:             2468.9515                     \n",
      "Max. group size:          838             Converged:                  Yes                           \n",
      "Mean group size:          226.4                                                                     \n",
      "----------------------------------------------------------------------------------------------------\n",
      "                                                           Coef. Std.Err.   z    P>|z| [0.025 0.975]\n",
      "----------------------------------------------------------------------------------------------------\n",
      "Intercept                                                  0.600    0.010 57.768 0.000  0.580  0.621\n",
      "emendas_pix_per_capita_partido_prefeito_eleito             0.000    0.009  0.000 1.000 -0.017  0.017\n",
      "Group Var                                                  0.002                                    \n",
      "Group x emendas_pix_per_capita_partido_prefeito_eleito Cov 0.000                                    \n",
      "emendas_pix_per_capita_partido_prefeito_eleito Var         0.001                                    \n",
      "====================================================================================================\n",
      "\n"
     ]
    },
    {
     "name": "stderr",
     "output_type": "stream",
     "text": [
      "e:\\Learning\\TCC-MBA\\.venv\\Lib\\site-packages\\statsmodels\\base\\model.py:607: ConvergenceWarning: Maximum Likelihood optimization failed to converge. Check mle_retvals\n",
      "  warnings.warn(\"Maximum Likelihood optimization failed to \"\n",
      "e:\\Learning\\TCC-MBA\\.venv\\Lib\\site-packages\\statsmodels\\regression\\mixed_linear_model.py:2200: ConvergenceWarning: Retrying MixedLM optimization with lbfgs\n",
      "  warnings.warn(\n",
      "e:\\Learning\\TCC-MBA\\.venv\\Lib\\site-packages\\statsmodels\\regression\\mixed_linear_model.py:2237: ConvergenceWarning: The MLE may be on the boundary of the parameter space.\n",
      "  warnings.warn(msg, ConvergenceWarning)\n",
      "e:\\Learning\\TCC-MBA\\.venv\\Lib\\site-packages\\statsmodels\\regression\\mixed_linear_model.py:2261: ConvergenceWarning: The Hessian matrix at the estimated parameter values is not positive definite.\n",
      "  warnings.warn(msg, ConvergenceWarning)\n"
     ]
    }
   ],
   "source": [
    "# Modelo com interceptos e inclinações aleatórios\n",
    "rs_model = smf.mixedlm(\n",
    "    'porcentagem_votos_validos_2024 ~ emendas_pix_std',\n",
    "    base,\n",
    "    groups=base['sigla_partido_prefeito_eleito'],\n",
    "    re_formula='1 + emendas_pix_std',\n",
    "    vc_formula={'estado': '0 + C(sigla_municipio)'}\n",
    ")\n",
    "rs_res = rs_model.fit()\n",
    "print(rs_res.summary())\n"
   ]
  },
  {
   "cell_type": "code",
   "execution_count": 6,
   "id": "47b97268",
   "metadata": {},
   "outputs": [
    {
     "name": "stdout",
     "output_type": "stream",
     "text": [
      "                                Mixed Linear Model Regression Results\n",
      "=====================================================================================================\n",
      "Model:                     MixedLM         Dependent Variable:         porcentagem_votos_validos_2024\n",
      "No. Observations:          5208            Method:                     REML                          \n",
      "No. Groups:                23              Scale:                      0.0208                        \n",
      "Min. group size:           2               Log-Likelihood:             2469.4451                     \n",
      "Max. group size:           838             Converged:                  Yes                           \n",
      "Mean group size:           226.4                                                                     \n",
      "-----------------------------------------------------------------------------------------------------\n",
      "                                                           Coef.  Std.Err.   z    P>|z| [0.025 0.975]\n",
      "-----------------------------------------------------------------------------------------------------\n",
      "Intercept                                                   0.608    0.011 57.186 0.000  0.587  0.629\n",
      "emendas_pix_per_capita_partido_prefeito_eleito              0.000    0.009  0.000 1.000 -0.017  0.017\n",
      "cluster_1                                                  -0.001    0.033 -0.017 0.986 -0.066  0.065\n",
      "cluster_2                                                  -0.016    0.004 -3.768 0.000 -0.025 -0.008\n",
      "cluster_3                                                   0.033    0.016  2.074 0.038  0.002  0.064\n",
      "Group Var                                                   0.002                                    \n",
      "Group x emendas_pix_per_capita_partido_prefeito_eleito Cov  0.000                                    \n",
      "emendas_pix_per_capita_partido_prefeito_eleito Var          0.001                                    \n",
      "=====================================================================================================\n",
      "\n"
     ]
    },
    {
     "name": "stderr",
     "output_type": "stream",
     "text": [
      "e:\\Learning\\TCC-MBA\\.venv\\Lib\\site-packages\\statsmodels\\base\\model.py:607: ConvergenceWarning: Maximum Likelihood optimization failed to converge. Check mle_retvals\n",
      "  warnings.warn(\"Maximum Likelihood optimization failed to \"\n",
      "e:\\Learning\\TCC-MBA\\.venv\\Lib\\site-packages\\statsmodels\\regression\\mixed_linear_model.py:2200: ConvergenceWarning: Retrying MixedLM optimization with lbfgs\n",
      "  warnings.warn(\n",
      "e:\\Learning\\TCC-MBA\\.venv\\Lib\\site-packages\\statsmodels\\regression\\mixed_linear_model.py:2237: ConvergenceWarning: The MLE may be on the boundary of the parameter space.\n",
      "  warnings.warn(msg, ConvergenceWarning)\n",
      "e:\\Learning\\TCC-MBA\\.venv\\Lib\\site-packages\\statsmodels\\regression\\mixed_linear_model.py:2261: ConvergenceWarning: The Hessian matrix at the estimated parameter values is not positive definite.\n",
      "  warnings.warn(msg, ConvergenceWarning)\n"
     ]
    }
   ],
   "source": [
    "# Modelo multinível completo com dummies dos clusters\n",
    "full_model = smf.mixedlm(\n",
    "    'porcentagem_votos_validos_2024 ~ emendas_pix_std + cluster_1 + cluster_2 + cluster_3',\n",
    "    base,\n",
    "    groups=base['sigla_partido_prefeito_eleito'],\n",
    "    re_formula='1 + emendas_pix_std',\n",
    "    vc_formula={'estado': '0 + C(sigla_municipio)'}\n",
    ")\n",
    "full_res = full_model.fit()\n",
    "print(full_res.summary())\n"
   ]
  },
  {
   "cell_type": "markdown",
   "id": "6c9b5672",
   "metadata": {},
   "source": [
    "## Análise dos coeficientes\n",
    "A seguir resumimos os parâmetros do modelo completo para verificar quais variáveis apresentam efeitos estatisticamente significativos."
   ]
  },
  {
   "cell_type": "code",
   "execution_count": 7,
   "id": "38bb0b46",
   "metadata": {},
   "outputs": [],
   "source": [
    "import matplotlib.pyplot as plt\n",
    "import seaborn as sns\n",
    "summary_df = pd.DataFrame({\n",
    "    'coeficiente': full_res.params,\n",
    "    'erro_padrao': full_res.bse,\n",
    "    'p_valor': full_res.pvalues\n",
    "})\n",
    "summary_df"
   ]
  },
  {
   "cell_type": "code",
   "execution_count": 8,
   "id": "d1d927f1",
   "metadata": {},
   "outputs": [],
   "source": [
    "coef_df = summary_df.loc[['emendas_pix_std', 'cluster_1', 'cluster_2', 'cluster_3']]\n",
    "coef_df = coef_df.reset_index().rename(columns={'index': 'variavel'})\n",
    "plt.figure(figsize=(6, 4))\n",
    "sns.pointplot(data=coef_df, x='coeficiente', y='variavel', join=False, xerr=1.96*coef_df['erro_padrao'])\n",
    "plt.axvline(0, color='red', linestyle='--', linewidth=1)\n",
    "plt.title('Coeficientes do modelo completo (95% IC)')\n",
    "plt.xlabel('Efeito estimado')\n",
    "plt.ylabel('')\n",
    "plt.tight_layout()\n",
    "plt.show()\n"
   ]
  },
  {
   "cell_type": "markdown",
   "id": "5c61ca72",
   "metadata": {},
   "source": [
    "Com a exclusão dos municípios sem repasses e daqueles em que o prefeito teve 100% dos votos válidos, os coeficientes dos clusters 2 e 3 se mantêm significativos. A variável padronizada de PIX continua com efeito muito próximo de zero, sugerindo impacto eleitoral pequeno."
   ]
  }
 ],
 "metadata": {
  "kernelspec": {
   "display_name": ".venv",
   "language": "python",
   "name": "python3"
  },
  "language_info": {
   "codemirror_mode": {
    "name": "ipython",
    "version": 3
   },
   "file_extension": ".py",
   "mimetype": "text/x-python",
   "name": "python",
   "nbconvert_exporter": "python",
   "pygments_lexer": "ipython3",
   "version": "3.13.0"
  }
 },
 "nbformat": 4,
 "nbformat_minor": 5
}
