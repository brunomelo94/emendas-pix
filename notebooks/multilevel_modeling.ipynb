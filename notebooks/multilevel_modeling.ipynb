{
 "cells": [
  {
   "cell_type": "markdown",
   "id": "d1425ccb",
   "metadata": {},
   "source": [
    "# Modelagem Multinível do Efeito das Emendas PIX\n",
    "\n",
    "Este notebook implementa a estratégia **multilevel step-up** descrita no TCC.\n",
    "As etapas são:\n",
    "1. **Modelo nulo**: estima a variância intra-partidos sem variáveis explanatórias.\n",
    "2. **Modelo com interceptos aleatórios**: inclui `emendas_pix_per_capita_partido_prefeito_eleito` como efeito fixo, permitindo interceptos diferentes por partido.\n",
    "3. **Modelo com interceptos e inclinações aleatórios**: além do intercepto, o efeito das emendas por habitante varia entre partidos.\n",
    "4. **Modelo completo**: adiciona as variáveis *dummy* dos clusters socioeconômicos, controlando perfis municipais.\n"
   ]
  },
  {
   "cell_type": "code",
   "execution_count": null,
   "id": "aa27b9e8",
   "metadata": {},
   "outputs": [],
   "source": [
    "import pandas as pd\n",
    "import statsmodels.formula.api as smf\n"
   ]
  },
  {
   "cell_type": "code",
   "execution_count": null,
   "id": "431334f2",
   "metadata": {},
   "outputs": [],
   "source": [
    "# Carrega a base unificada com dummies de clusters\n",
    "base = pd.read_csv('../data/dados_com_clusters.csv')\n",
    "\n",
    "# Converte as colunas de cluster para inteiro (0/1)\n",
    "for col in ['cluster_0', 'cluster_1', 'cluster_2', 'cluster_3']:\n",
    "    base[col] = base[col].fillna(False).astype(int)\n"
   ]
  },
  {
   "cell_type": "code",
   "execution_count": null,
   "id": "fbc06dfd",
   "metadata": {},
   "outputs": [],
   "source": [
    "# Modelo nulo\n",
    "null_model = smf.mixedlm(\n",
    "    'porcentagem_votos_validos_2024 ~ 1',\n",
    "    base,\n",
    "    groups=base['sigla_partido_prefeito_eleito']\n",
    ")\n",
    "null_res = null_model.fit()\n",
    "print(null_res.summary())\n"
   ]
  },
  {
   "cell_type": "code",
   "execution_count": null,
   "id": "b412d6b0",
   "metadata": {},
   "outputs": [],
   "source": [
    "# Modelo com interceptos aleatórios\n",
    "ri_model = smf.mixedlm(\n",
    "    'porcentagem_votos_validos_2024 ~ emendas_pix_per_capita_partido_prefeito_eleito',\n",
    "    base,\n",
    "    groups=base['sigla_partido_prefeito_eleito']\n",
    ")\n",
    "ri_res = ri_model.fit()\n",
    "print(ri_res.summary())\n"
   ]
  },
  {
   "cell_type": "code",
   "execution_count": null,
   "id": "af297405",
   "metadata": {},
   "outputs": [],
   "source": [
    "# Modelo com interceptos e inclinações aleatórios\n",
    "rs_model = smf.mixedlm(\n",
    "    'porcentagem_votos_validos_2024 ~ emendas_pix_per_capita_partido_prefeito_eleito',\n",
    "    base,\n",
    "    groups=base['sigla_partido_prefeito_eleito'],\n",
    "    re_formula='1 + emendas_pix_per_capita_partido_prefeito_eleito'\n",
    ")\n",
    "rs_res = rs_model.fit()\n",
    "print(rs_res.summary())\n"
   ]
  },
  {
   "cell_type": "code",
   "execution_count": null,
   "id": "47b97268",
   "metadata": {},
   "outputs": [],
   "source": [
    "# Modelo multinível completo com dummies dos clusters\n",
    "full_model = smf.mixedlm(\n",
    "    'porcentagem_votos_validos_2024 ~ emendas_pix_per_capita_partido_prefeito_eleito + cluster_1 + cluster_2 + cluster_3',\n",
    "    base,\n",
    "    groups=base['sigla_partido_prefeito_eleito'],\n",
    "    re_formula='1 + emendas_pix_per_capita_partido_prefeito_eleito'\n",
    ")\n",
    "full_res = full_model.fit()\n",
    "print(full_res.summary())\n"
   ]
  }
 ],
 "metadata": {},
 "nbformat": 4,
 "nbformat_minor": 5
}
