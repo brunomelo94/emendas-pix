{
 "cells": [
  {
   "cell_type": "markdown",
   "id": "d1425ccb",
   "metadata": {},
   "source": [
    "# Modelagem Multinível do Efeito das Emendas PIX\n",
    "\n",
    "Este notebook implementa a estratégia **multilevel step-up** descrita no TCC.\n",
    "As etapas são:\n",
    "1. **Modelo nulo**: estima a variância intra-partidos sem variáveis explanatórias.\n",
    "2. **Modelo com interceptos aleatórios**: inclui `emendas_pix_per_capita_partido_prefeito_eleito` como efeito fixo, permitindo interceptos diferentes por partido.\n",
    "3. **Modelo com interceptos e inclinações aleatórios**: além do intercepto, o efeito das emendas por habitante varia entre partidos.\n",
    "4. **Modelo completo**: adiciona as variáveis *dummy* dos clusters socioeconômicos, controlando perfis municipais.\n"
   ]
  },
  {
   "cell_type": "code",
   "execution_count": null,
   "id": "aa27b9e8",
   "metadata": {},
   "outputs": [],
   "source": [
    "import pandas as pd\n",
    "import statsmodels.formula.api as smf\n"
   ]
  },
  {
   "cell_type": "code",
   "execution_count": null,
   "id": "431334f2",
   "metadata": {},
   "outputs": [],
   "source": [
    "# Carrega a base unificada com dummies de clusters\n",
    "base = pd.read_csv('../data/dados_com_clusters.csv')\n",
    "\n",
    "# Converte as colunas de cluster para inteiro (0/1)\n",
    "for col in ['cluster_0', 'cluster_1', 'cluster_2', 'cluster_3']:\n",
    "    base[col] = base[col].fillna(False).astype(int)\n"
   ]
  },
  {
   "cell_type": "code",
   "execution_count": null,
   "id": "fbc06dfd",
   "metadata": {},
   "outputs": [],
   "source": [
    "# Modelo nulo\n",
    "null_model = smf.mixedlm(\n",
    "    'porcentagem_votos_validos_2024 ~ 1',\n",
    "    base,\n",
    "    groups=base['sigla_partido_prefeito_eleito'],\n",
    "    vc_formula={'estado': '0 + C(sigla_municipio)'}\n",
    ")\n",
    "null_res = null_model.fit()\n",
    "print(null_res.summary())\n"
   ]
  },
  {
   "cell_type": "code",
   "execution_count": null,
   "id": "b412d6b0",
   "metadata": {},
   "outputs": [],
   "source": [
    "# Modelo com interceptos aleatórios\n",
    "ri_model = smf.mixedlm(\n",
    "    'porcentagem_votos_validos_2024 ~ emendas_pix_per_capita_partido_prefeito_eleito',\n",
    "    base,\n",
    "    groups=base['sigla_partido_prefeito_eleito'],\n",
    "    vc_formula={'estado': '0 + C(sigla_municipio)'}\n",
    ")\n",
    "ri_res = ri_model.fit()\n",
    "print(ri_res.summary())\n"
   ]
  },
  {
   "cell_type": "code",
   "execution_count": null,
   "id": "af297405",
   "metadata": {},
   "outputs": [],
   "source": [
    "# Modelo com interceptos e inclinações aleatórios\n",
    "rs_model = smf.mixedlm(\n",
    "    'porcentagem_votos_validos_2024 ~ emendas_pix_per_capita_partido_prefeito_eleito',\n",
    "    base,\n",
    "    groups=base['sigla_partido_prefeito_eleito'],\n",
    "    re_formula='1 + emendas_pix_per_capita_partido_prefeito_eleito',\n",
    "    vc_formula={'estado': '0 + C(sigla_municipio)'}\n",
    ")\n",
    "rs_res = rs_model.fit()\n",
    "print(rs_res.summary())\n"
   ]
  },
  {
   "cell_type": "code",
   "execution_count": null,
   "id": "47b97268",
   "metadata": {},
   "outputs": [],
   "source": [
    "# Modelo multinível completo com dummies dos clusters\n",
    "full_model = smf.mixedlm(\n",
    "    'porcentagem_votos_validos_2024 ~ emendas_pix_per_capita_partido_prefeito_eleito + cluster_1 + cluster_2 + cluster_3',\n",
    "    base,\n",
    "    groups=base['sigla_partido_prefeito_eleito'],\n",
    "    re_formula='1 + emendas_pix_per_capita_partido_prefeito_eleito',\n",
    "    vc_formula={'estado': '0 + C(sigla_municipio)'}\n",
    ")\n",
    "full_res = full_model.fit()\n",
    "print(full_res.summary())\n"
   ]
  },
  {
   "cell_type": "markdown",
   "id": "ef2bf9e1",
   "metadata": {},
   "source": [
    "## Análise dos coeficientes\n",
    "A seguir resumimos os parâmetros do modelo completo para verificar quais variáveis apresentam efeitos estatisticamente significativos."
   ]
  },
  {
   "cell_type": "code",
   "execution_count": null,
   "id": "5d0be98b",
   "metadata": {},
   "outputs": [],
   "source": [
    "import matplotlib.pyplot as plt\n",
    "import seaborn as sns\n",
    "summary_df = pd.DataFrame({\n",
    "    'coeficiente': full_res.params,\n",
    "    'erro_padrao': full_res.bse,\n",
    "    'p_valor': full_res.pvalues\n",
    "})\n",
    "summary_df"
   ]
  },
  {
   "cell_type": "code",
   "execution_count": null,
   "id": "2ee870ce",
   "metadata": {},
   "outputs": [],
   "source": [
    "coef_df = summary_df.loc[['emendas_pix_per_capita_partido_prefeito_eleito', 'cluster_1', 'cluster_2', 'cluster_3']]\n",
    "coef_df = coef_df.reset_index().rename(columns={'index': 'variavel'})\n",
    "plt.figure(figsize=(6, 4))\n",
    "sns.pointplot(data=coef_df, x='coeficiente', y='variavel', join=False, xerr=1.96*coef_df['erro_padrao'])\n",
    "plt.axvline(0, color='red', linestyle='--', linewidth=1)\n",
    "plt.title('Coeficientes do modelo completo (95% IC)')\n",
    "plt.xlabel('Efeito estimado')\n",
    "plt.ylabel('')\n",
    "plt.tight_layout()\n",
    "plt.show()\n"
   ]
  },
  {
   "cell_type": "markdown",
   "metadata": {},
   "source": [
    "Os coeficientes dos clusters 2 e 3 apresentam p-valores menores que 0.05, indicando que essas variáveis possuem efeito significativo. Em contrapartida, o coeficiente associado ao volume de Emendas PIX por prefeito não difere de zero no modelo final."
   ]
  }
 ],
 "metadata": {
  "kernelspec": {
   "display_name": ".venv",
   "language": "python",
   "name": "python3"
  },
  "language_info": {
   "codemirror_mode": {
    "name": "ipython",
    "version": 3
   },
   "file_extension": ".py",
   "mimetype": "text/x-python",
   "name": "python",
   "nbconvert_exporter": "python",
   "pygments_lexer": "ipython3",
   "version": "3.13.0"
  }
 },
 "nbformat": 4,
 "nbformat_minor": 5
}
