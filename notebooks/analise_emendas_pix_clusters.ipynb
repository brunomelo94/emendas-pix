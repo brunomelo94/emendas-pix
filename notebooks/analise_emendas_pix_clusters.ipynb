{
 "cells": [
  {
   "cell_type": "markdown",
   "id": "6a3369e6",
   "metadata": {},
   "source": [
    "# Análise das Emendas PIX com Clusters\n",
    "\n",
    "Este notebook carrega `data/dados_com_clusters.csv` e realiza as etapas descritas na metodologia do projeto:\n",
    "1. *Exploração inicial*\n",
    "2. *Modelagem OLS com efeitos fixos de partido*\n",
    "3. *Modelagem multinível step-up*\n"
   ]
  },
  {
   "cell_type": "code",
   "execution_count": null,
   "id": "42d14d9f",
   "metadata": {},
   "outputs": [],
   "source": [
    "import pandas as pd\n",
    "import matplotlib.pyplot as plt\n",
    "import seaborn as sns\n",
    "import statsmodels.formula.api as smf\n",
    "import statsmodels.api as sm\n"
   ]
  },
  {
   "cell_type": "code",
   "execution_count": null,
   "id": "1eae191c",
   "metadata": {},
   "outputs": [],
   "source": [
    "df = pd.read_csv('../data/dados_com_clusters.csv').dropna()\n",
    "df.head()"
   ]
  },
  {
   "cell_type": "code",
   "execution_count": null,
   "id": "6d21da43",
   "metadata": {},
   "outputs": [],
   "source": [
    "sns.set(style='whitegrid')\n",
    "plt.figure(figsize=(6,4))\n",
    "sns.scatterplot(data=df,\n",
    "                x='emendas_pix_per_capita_partido_prefeito_eleito',\n",
    "                y='porcentagem_votos_validos_2024',\n",
    "                alpha=0.5)\n",
    "plt.xlabel('Emendas PIX per capita')\n",
    "plt.ylabel('Votos válidos (proporção)')\n",
    "plt.title('Distribuição dos dados')\n",
    "plt.show()"
   ]
  },
  {
   "cell_type": "code",
   "execution_count": null,
   "id": "731bfd89",
   "metadata": {},
   "outputs": [],
   "source": [
    "formula = 'porcentagem_votos_validos_2024 ~ emendas_pix_per_capita_partido_prefeito_eleito + C(sigla_partido_prefeito_eleito) + cluster_0 + cluster_1 + cluster_2 + cluster_3'\n",
    "ols_res = smf.ols(formula, data=df).fit(cov_type='HC3')\n",
    "print(ols_res.summary())"
   ]
  },
  {
   "cell_type": "code",
   "execution_count": null,
   "id": "7252d5ba",
   "metadata": {},
   "outputs": [],
   "source": [
    "# Modelo nulo\n",
    "null_md = smf.mixedlm('porcentagem_votos_validos_2024 ~ 1', df, groups=df['sigla_partido_prefeito_eleito']).fit()\n",
    "\n",
    "# Interceptos aleatórios\n",
    "ri_md = smf.mixedlm('porcentagem_votos_validos_2024 ~ emendas_pix_per_capita_partido_prefeito_eleito',\n",
    "                    df, groups=df['sigla_partido_prefeito_eleito']).fit()\n",
    "\n",
    "# Intercepto e inclinação aleatórios\n",
    "ris_md = smf.mixedlm('porcentagem_votos_validos_2024 ~ emendas_pix_per_capita_partido_prefeito_eleito',\n",
    "                     df, groups=df['sigla_partido_prefeito_eleito'],\n",
    "                     re_formula='~emendas_pix_per_capita_partido_prefeito_eleito').fit()\n",
    "\n",
    "# Modelo completo com clusters\n",
    "full_md = smf.mixedlm('porcentagem_votos_validos_2024 ~ emendas_pix_per_capita_partido_prefeito_eleito + cluster_0 + cluster_1 + cluster_2 + cluster_3',\n",
    "                      df, groups=df['sigla_partido_prefeito_eleito'],\n",
    "                      re_formula='~emendas_pix_per_capita_partido_prefeito_eleito').fit()\n",
    "\n",
    "for lbl, m in [('Nulo', null_md), ('RI', ri_md), ('RI+RS', ris_md), ('Completo', full_md)]:\n",
    "    print('\n",
    "', lbl)\n",
    "    display(m.summary())"
   ]
  }
 ],
 "metadata": {},
 "nbformat": 4,
 "nbformat_minor": 5
}
