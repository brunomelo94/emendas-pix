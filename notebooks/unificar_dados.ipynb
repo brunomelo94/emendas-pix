{
 "cells": [
  {
   "cell_type": "markdown",
   "id": "c447bbd2",
   "metadata": {},
   "source": [
    "## Unificação completa das bases (prefeitos 2024, 2k-200k habitantes)"
   ]
  },
  {
   "cell_type": "code",
   "execution_count": null,
   "id": "7b11d882",
   "metadata": {},
   "outputs": [
    {
     "data": {
      "text/plain": [
       "CompletedProcess(args=['python', '../src/insert_parties.py', '--emendas', '../data/emendas_por_favorecido.csv', '--mapping', '../json_data/politicos_partidos_padronizado.json', '--out', '../data/emendas_por_favorecido_partidos.csv'], returncode=0)"
      ]
     },
     "execution_count": 1,
     "metadata": {},
     "output_type": "execute_result"
    }
   ],
   "source": [
    "# Passo 1: gerar CSV de emendas com partidos\n",
    "import subprocess\n",
    "subprocess.run([\n",
    "    'python', '../src/insert_parties.py',\n",
    "    '--emendas', '../data/emendas_por_favorecido.csv',\n",
    "    '--mapping', '../json_data/politicos_partidos_padronizado.json',\n",
    "    '--out', '../data/emendas_por_favorecido_partidos.csv'\n",
    "], check=True)"
   ]
  },
  {
   "cell_type": "code",
   "execution_count": 2,
   "id": "507f5b44",
   "metadata": {},
   "outputs": [
    {
     "data": {
      "application/vnd.microsoft.datawrangler.viewer.v0+json": {
       "columns": [
        {
         "name": "index",
         "rawType": "int64",
         "type": "integer"
        },
        {
         "name": "municipio",
         "rawType": "object",
         "type": "string"
        },
        {
         "name": "sigla_municipio",
         "rawType": "object",
         "type": "string"
        },
        {
         "name": "prefeito_eleito_2024",
         "rawType": "object",
         "type": "string"
        },
        {
         "name": "sigla_partido_prefeito_eleito",
         "rawType": "object",
         "type": "string"
        },
        {
         "name": "porcentagem_votos_validos_2024",
         "rawType": "float64",
         "type": "float"
        },
        {
         "name": "emendas_pix_per_capita_partido_prefeito_eleito",
         "rawType": "float64",
         "type": "float"
        },
        {
         "name": "idhm_2010",
         "rawType": "float64",
         "type": "float"
        },
        {
         "name": "alfabetizacao_2010",
         "rawType": "float64",
         "type": "float"
        },
        {
         "name": "pib_per_capita_2021",
         "rawType": "float64",
         "type": "float"
        },
        {
         "name": "densidade_demografica_2010",
         "rawType": "float64",
         "type": "float"
        }
       ],
       "ref": "4af67f18-ddbe-4abf-9d67-0227f91cae12",
       "rows": [
        [
         "0",
         "ABADIA DE GOIAS - GO",
         "GO",
         "WANDER SARAIVA",
         "PP",
         "1.0",
         "18716.018402342117",
         "0.708",
         "92.19",
         "18491.217063989963",
         "133.39799737437687"
        ],
        [
         "1",
         "ABADIA DOS DOURADOS - MG",
         "MG",
         "CIRO",
         "PSD",
         "0.5759918616480163",
         "3188.7755102040815",
         "0.689",
         "90.88",
         "28184.630102040817",
         "7.127400247351568"
        ],
        [
         "2",
         "ABADIANIA - GO",
         "GO",
         "DR ITAMAR",
         "PP",
         "0.6195040015808715",
         "3481.8941504178274",
         "0.689",
         "89.16",
         "25842.85051067781",
         "16.50935116913498"
        ],
        [
         "3",
         "ABAETE - MG",
         "MG",
         "IVANIR",
         "MDB",
         "0.49182601080134286",
         "1764.0573318632855",
         "0.698",
         "91.28",
         "23869.41565600882",
         "12.47983026005562"
        ],
        [
         "4",
         "ABAETETUBA - PA",
         "PA",
         "FRANCINETI CARVALHO",
         "MDB",
         "0.4172008704814235",
         "2528.605203934559",
         "0.628",
         "86.28999999999999",
         "12322.938528839102",
         "98.22878551140263"
        ]
       ],
       "shape": {
        "columns": 10,
        "rows": 5
       }
      },
      "text/html": [
       "<div>\n",
       "<style scoped>\n",
       "    .dataframe tbody tr th:only-of-type {\n",
       "        vertical-align: middle;\n",
       "    }\n",
       "\n",
       "    .dataframe tbody tr th {\n",
       "        vertical-align: top;\n",
       "    }\n",
       "\n",
       "    .dataframe thead th {\n",
       "        text-align: right;\n",
       "    }\n",
       "</style>\n",
       "<table border=\"1\" class=\"dataframe\">\n",
       "  <thead>\n",
       "    <tr style=\"text-align: right;\">\n",
       "      <th></th>\n",
       "      <th>municipio</th>\n",
       "      <th>sigla_municipio</th>\n",
       "      <th>prefeito_eleito_2024</th>\n",
       "      <th>sigla_partido_prefeito_eleito</th>\n",
       "      <th>porcentagem_votos_validos_2024</th>\n",
       "      <th>emendas_pix_per_capita_partido_prefeito_eleito</th>\n",
       "      <th>idhm_2010</th>\n",
       "      <th>alfabetizacao_2010</th>\n",
       "      <th>pib_per_capita_2021</th>\n",
       "      <th>densidade_demografica_2010</th>\n",
       "    </tr>\n",
       "  </thead>\n",
       "  <tbody>\n",
       "    <tr>\n",
       "      <th>0</th>\n",
       "      <td>ABADIA DE GOIAS - GO</td>\n",
       "      <td>GO</td>\n",
       "      <td>WANDER SARAIVA</td>\n",
       "      <td>PP</td>\n",
       "      <td>1.000000</td>\n",
       "      <td>18716.018402</td>\n",
       "      <td>0.708</td>\n",
       "      <td>92.19</td>\n",
       "      <td>18491.217064</td>\n",
       "      <td>133.397997</td>\n",
       "    </tr>\n",
       "    <tr>\n",
       "      <th>1</th>\n",
       "      <td>ABADIA DOS DOURADOS - MG</td>\n",
       "      <td>MG</td>\n",
       "      <td>CIRO</td>\n",
       "      <td>PSD</td>\n",
       "      <td>0.575992</td>\n",
       "      <td>3188.775510</td>\n",
       "      <td>0.689</td>\n",
       "      <td>90.88</td>\n",
       "      <td>28184.630102</td>\n",
       "      <td>7.127400</td>\n",
       "    </tr>\n",
       "    <tr>\n",
       "      <th>2</th>\n",
       "      <td>ABADIANIA - GO</td>\n",
       "      <td>GO</td>\n",
       "      <td>DR ITAMAR</td>\n",
       "      <td>PP</td>\n",
       "      <td>0.619504</td>\n",
       "      <td>3481.894150</td>\n",
       "      <td>0.689</td>\n",
       "      <td>89.16</td>\n",
       "      <td>25842.850511</td>\n",
       "      <td>16.509351</td>\n",
       "    </tr>\n",
       "    <tr>\n",
       "      <th>3</th>\n",
       "      <td>ABAETE - MG</td>\n",
       "      <td>MG</td>\n",
       "      <td>IVANIR</td>\n",
       "      <td>MDB</td>\n",
       "      <td>0.491826</td>\n",
       "      <td>1764.057332</td>\n",
       "      <td>0.698</td>\n",
       "      <td>91.28</td>\n",
       "      <td>23869.415656</td>\n",
       "      <td>12.479830</td>\n",
       "    </tr>\n",
       "    <tr>\n",
       "      <th>4</th>\n",
       "      <td>ABAETETUBA - PA</td>\n",
       "      <td>PA</td>\n",
       "      <td>FRANCINETI CARVALHO</td>\n",
       "      <td>MDB</td>\n",
       "      <td>0.417201</td>\n",
       "      <td>2528.605204</td>\n",
       "      <td>0.628</td>\n",
       "      <td>86.29</td>\n",
       "      <td>12322.938529</td>\n",
       "      <td>98.228786</td>\n",
       "    </tr>\n",
       "  </tbody>\n",
       "</table>\n",
       "</div>"
      ],
      "text/plain": [
       "                  municipio sigla_municipio prefeito_eleito_2024  \\\n",
       "0      ABADIA DE GOIAS - GO              GO       WANDER SARAIVA   \n",
       "1  ABADIA DOS DOURADOS - MG              MG                 CIRO   \n",
       "2            ABADIANIA - GO              GO            DR ITAMAR   \n",
       "3               ABAETE - MG              MG               IVANIR   \n",
       "4           ABAETETUBA - PA              PA  FRANCINETI CARVALHO   \n",
       "\n",
       "  sigla_partido_prefeito_eleito  porcentagem_votos_validos_2024  \\\n",
       "0                            PP                        1.000000   \n",
       "1                           PSD                        0.575992   \n",
       "2                            PP                        0.619504   \n",
       "3                           MDB                        0.491826   \n",
       "4                           MDB                        0.417201   \n",
       "\n",
       "   emendas_pix_per_capita_partido_prefeito_eleito  idhm_2010  \\\n",
       "0                                    18716.018402      0.708   \n",
       "1                                     3188.775510      0.689   \n",
       "2                                     3481.894150      0.689   \n",
       "3                                     1764.057332      0.698   \n",
       "4                                     2528.605204      0.628   \n",
       "\n",
       "   alfabetizacao_2010  pib_per_capita_2021  densidade_demografica_2010  \n",
       "0               92.19         18491.217064                  133.397997  \n",
       "1               90.88         28184.630102                    7.127400  \n",
       "2               89.16         25842.850511                   16.509351  \n",
       "3               91.28         23869.415656                   12.479830  \n",
       "4               86.29         12322.938529                   98.228786  "
      ]
     },
     "execution_count": 2,
     "metadata": {},
     "output_type": "execute_result"
    }
   ],
   "source": [
    "import pandas as pd\n",
    "import re\n",
    "from unidecode import unidecode\n",
    "\n",
    "def normalize_municipio(nome: str) -> str:\n",
    "    if pd.isna(nome):\n",
    "        return None\n",
    "    nome = unidecode(str(nome)).upper().strip()\n",
    "    m = re.search(r'(\\(\\w{2}\\))$', nome)\n",
    "    if m:\n",
    "        uf = m.group(1)[1:-1]\n",
    "        base = nome[:m.start()].strip()\n",
    "    else:\n",
    "        m = re.search(r'\\s-\\s([A-Z]{2})$', nome)\n",
    "        if m:\n",
    "            uf = m.group(1)\n",
    "            base = nome[:m.start()].strip()\n",
    "        else:\n",
    "            uf = None\n",
    "            base = nome\n",
    "    return f\"{base} - {uf}\" if uf else base\n",
    "\n",
    "# Emendas agregadas por município e partido\n",
    "emendas = pd.read_csv('../data/emendas_por_favorecido_partidos.csv', encoding='utf-8-sig')\n",
    "emendas['municipio'] = (emendas['Município Favorecido'] + ' - ' + emendas['UF Favorecido']).apply(normalize_municipio)\n",
    "agg_pix_party = (emendas.groupby(['municipio','siglaPartido'], as_index=False)['Valor Recebido']\n",
    "                        .sum()\n",
    "                        .rename(columns={'Valor Recebido':'valor_pix'}))\n",
    "\n",
    "# Indicadores IBGE\n",
    "dens = pd.read_csv('../data/densidade.csv')\n",
    "dens['municipio'] = dens['name_muni_x'].apply(normalize_municipio)\n",
    "dens = dens[['code_muni','municipio','population_2022','densidade_demografica']]\n",
    "\n",
    "pib = pd.read_csv('../data/pib_per_capita.csv')\n",
    "pib['municipio'] = pib['name_muni'].apply(normalize_municipio)\n",
    "pib = pib[['municipio','pib_per_capita_2021']]\n",
    "\n",
    "idhm = pd.read_csv('../data/idhm.csv')\n",
    "idhm['municipio'] = idhm['Territorialidades'].apply(normalize_municipio)\n",
    "idhm['alfabetizacao_2010'] = 100 - idhm['Taxa de analfabetismo - 15 anos ou mais de idade 2010']\n",
    "idhm = idhm[['municipio','IDHM 2010','alfabetizacao_2010']]\n",
    "\n",
    "# Resultados eleitorais\n",
    "results = pd.read_csv('../data/resultados_eleicoes.csv')\n",
    "results['municipio'] = (results['NM_MUNICIPIO'] + ' - ' + results['SG_UF']).apply(normalize_municipio)\n",
    "agg = results.groupby(['municipio','NM_URNA_CANDIDATO','SG_PARTIDO','DS_SIT_TOT_TURNO'], as_index=False)['QT_VOTOS_NOMINAIS_VALIDOS'].sum()\n",
    "\n",
    "tot = agg.groupby('municipio')['QT_VOTOS_NOMINAIS_VALIDOS'].sum()\n",
    "agg = agg.join(tot, on='municipio', rsuffix='_tot')\n",
    "agg['pct_votos'] = agg['QT_VOTOS_NOMINAIS_VALIDOS'] / agg['QT_VOTOS_NOMINAIS_VALIDOS_tot']\n",
    "\n",
    "winners = agg[agg['DS_SIT_TOT_TURNO'] == 'ELEITO']\n",
    "\n",
    "# Unificação das bases\n",
    "base = winners.merge(dens, on='municipio', how='left')\n",
    "base = base.merge(agg_pix_party, left_on=['municipio','SG_PARTIDO'], right_on=['municipio','siglaPartido'], how='left')\n",
    "base = base.merge(pib, on='municipio', how='left')\n",
    "base = base.merge(idhm, on='municipio', how='left')\n",
    "\n",
    "base['emendas_pix_per_capita_partido_prefeito_eleito'] = base['valor_pix'] / base['population_2022']\n",
    "base['emendas_pix_per_capita_partido_prefeito_eleito'] = base['emendas_pix_per_capita_partido_prefeito_eleito'].fillna(0)\n",
    "base['sigla_municipio'] = base['municipio'].str.extract(r'-\\s*(\\w{2})$')[0]\n",
    "\n",
    "base_filtered = base[(base['population_2022'] >= 2000) & (base['population_2022'] <= 200000)]\n",
    "final = base_filtered[['municipio','sigla_municipio','NM_URNA_CANDIDATO','SG_PARTIDO','pct_votos','emendas_pix_per_capita_partido_prefeito_eleito','IDHM 2010','alfabetizacao_2010','pib_per_capita_2021','densidade_demografica']]\n",
    "final = final.rename(columns={'NM_URNA_CANDIDATO':'prefeito_eleito_2024',\n",
    "                              'SG_PARTIDO':'sigla_partido_prefeito_eleito',\n",
    "                              'pct_votos':'porcentagem_votos_validos_2024',\n",
    "                              'IDHM 2010':'idhm_2010',\n",
    "                              'densidade_demografica':'densidade_demografica_2010'})\n",
    "\n",
    "final.to_csv('../data/dados_unificados_prefeitos_200k.csv', index=False, encoding='utf-8-sig')\n",
    "final.head()\n"
   ]
  }
 ],
 "metadata": {
  "kernelspec": {
   "display_name": ".venv",
   "language": "python",
   "name": "python3"
  },
  "language_info": {
   "codemirror_mode": {
    "name": "ipython",
    "version": 3
   },
   "file_extension": ".py",
   "mimetype": "text/x-python",
   "name": "python",
   "nbconvert_exporter": "python",
   "pygments_lexer": "ipython3",
   "version": "3.13.0"
  }
 },
 "nbformat": 4,
 "nbformat_minor": 5
}
