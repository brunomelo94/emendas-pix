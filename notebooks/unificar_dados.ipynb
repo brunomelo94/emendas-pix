{
 "cells": [
  {
   "cell_type": "markdown",
   "id": "c447bbd2",
   "metadata": {},
   "source": [
    "## Unificação completa das bases (prefeitos 2024, 2k-200k habitantes)"
   ]
  },
  {
   "cell_type": "code",
   "execution_count": null,
   "id": "7b11d882",
   "metadata": {},
   "outputs": [
    {
     "data": {
      "text/plain": [
       "CompletedProcess(args=['python', '../src/insert_parties.py', '--emendas', '../data/emendas_por_favorecido.csv', '--mapping', '../json_data/politicos_partidos_padronizado.json', '--out', '../data/emendas_por_favorecido_partidos.csv'], returncode=0)"
      ]
     },
     "execution_count": 1,
     "metadata": {},
     "output_type": "execute_result"
    }
   ],
   "source": [
    "# Passo 1: gerar CSV de emendas com partidos\n",
    "import subprocess\n",
    "subprocess.run([\n",
    "    'python', '../src/insert_parties.py',\n",
    "    '--emendas', '../data/emendas_por_favorecido.csv',\n",
    "    '--mapping', '../json_data/politicos_partidos_padronizado.json',\n",
    "    '--out', '../data/emendas_por_favorecido_partidos.csv'\n",
    "], check=True)"
   ]
  },
  {
   "cell_type": "code",
   "execution_count": null,
   "id": "507f5b44",
   "metadata": {},
   "outputs": [],
   "source": [
    "import pandas as pd\n",
    "import re\n",
    "from unidecode import unidecode\n",
    "\n",
    "def normalize_municipio(nome: str) -> str:\n",
    "    if pd.isna(nome):\n",
    "        return None\n",
    "    nome = unidecode(str(nome)).upper().strip()\n",
    "    m = re.search(r'(\\(\\w{2}\\))$', nome)\n",
    "    if m:\n",
    "        uf = m.group(1)[1:-1]\n",
    "        base = nome[:m.start()].strip()\n",
    "    else:\n",
    "        m = re.search(r'\\s-\\s([A-Z]{2})$', nome)\n",
    "        if m:\n",
    "            uf = m.group(1)\n",
    "            base = nome[:m.start()].strip()\n",
    "        else:\n",
    "            uf = None\n",
    "            base = nome\n",
    "    return f\"{base} - {uf}\" if uf else base\n",
    "\n",
    "# Emendas agregadas por município e partido\n",
    "emendas = pd.read_csv('../data/emendas_por_favorecido_partidos.csv', encoding='utf-8-sig')\n",
    "emendas['municipio'] = (emendas['Município Favorecido'] + ' - ' + emendas['UF Favorecido']).apply(normalize_municipio)\n",
    "agg_pix_party = (emendas.groupby(['municipio','siglaPartido'], as_index=False)['Valor Recebido']\n",
    "                        .sum()\n",
    "                        .rename(columns={'Valor Recebido':'valor_pix'}))\n",
    "\n",
    "# Indicadores IBGE\n",
    "dens = pd.read_csv('../data/densidade.csv')\n",
    "dens['municipio'] = dens['name_muni_x'].apply(normalize_municipio)\n",
    "dens = dens[['code_muni','municipio','population_2022','densidade_demografica']]\n",
    "\n",
    "pib = pd.read_csv('../data/pib_per_capita.csv')\n",
    "pib['municipio'] = pib['name_muni'].apply(normalize_municipio)\n",
    "pib = pib[['municipio','pib_per_capita_2021']]\n",
    "\n",
    "idhm = pd.read_csv('../data/idhm.csv')\n",
    "idhm['municipio'] = idhm['Territorialidades'].apply(normalize_municipio)\n",
    "idhm['alfabetizacao_2010'] = 100 - idhm['Taxa de analfabetismo - 15 anos ou mais de idade 2010']\n",
    "idhm = idhm[['municipio','IDHM 2010','alfabetizacao_2010']]\n",
    "\n",
    "# Resultados eleitorais\n",
    "results = pd.read_csv('../data/resultados_eleicoes.csv')\n",
    "results['municipio'] = (results['NM_MUNICIPIO'] + ' - ' + results['SG_UF']).apply(normalize_municipio)\n",
    "agg = results.groupby(['municipio','NM_URNA_CANDIDATO','SG_PARTIDO','DS_SIT_TOT_TURNO'], as_index=False)['QT_VOTOS_NOMINAIS_VALIDOS'].sum()\n",
    "\n",
    "tot = agg.groupby('municipio')['QT_VOTOS_NOMINAIS_VALIDOS'].sum()\n",
    "agg = agg.join(tot, on='municipio', rsuffix='_tot')\n",
    "agg['pct_votos'] = agg['QT_VOTOS_NOMINAIS_VALIDOS'] / agg['QT_VOTOS_NOMINAIS_VALIDOS_tot']\n",
    "\n",
    "winners = agg[agg['DS_SIT_TOT_TURNO'] == 'ELEITO']\n",
    "\n",
    "# Unificação das bases\n",
    "base = winners.merge(dens, on='municipio', how='left')\n",
    "base = base.merge(agg_pix_party, left_on=['municipio','SG_PARTIDO'], right_on=['municipio','siglaPartido'], how='left')\n",
    "base = base.merge(pib, on='municipio', how='left')\n",
    "base = base.merge(idhm, on='municipio', how='left')\n",
    "\n",
    "base['emendas_pix_per_capita_partido_prefeito_eleito'] = base['valor_pix'] / base['population_2022']\n",
    "base['emendas_pix_per_capita_partido_prefeito_eleito'] = base['emendas_pix_per_capita_partido_prefeito_eleito'].fillna(0)\n",
    "base['sigla_municipio'] = base['municipio'].str.extract(r'-\\s*(\\w{2})$')[0]\n",
    "\n",
    "base_filtered = base[(base['population_2022'] >= 2000) & (base['population_2022'] <= 200000)]\n",
    "final = base_filtered[['municipio','sigla_municipio','NM_URNA_CANDIDATO','SG_PARTIDO','pct_votos','emendas_pix_per_capita_partido_prefeito_eleito','IDHM 2010','alfabetizacao_2010','pib_per_capita_2021','densidade_demografica']]\n",
    "final = final.rename(columns={'NM_URNA_CANDIDATO':'prefeito_eleito_2024',\n",
    "                              'SG_PARTIDO':'sigla_partido_prefeito_eleito',\n",
    "                              'pct_votos':'porcentagem_votos_validos_2024',\n",
    "                              'IDHM 2010':'idhm_2010',\n",
    "                              'densidade_demografica':'densidade_demografica_2010'})\n",
    "\n",
    "final.to_csv('../data/dados_unificados_prefeitos_200k.csv', index=False, encoding='utf-8-sig')\n",
    "final.head()\n"
   ]
  }
 ],
 "metadata": {
  "kernelspec": {
   "display_name": ".venv",
   "language": "python",
   "name": "python3"
  },
  "language_info": {
   "codemirror_mode": {
    "name": "ipython",
    "version": 3
   },
   "file_extension": ".py",
   "mimetype": "text/x-python",
   "name": "python",
   "nbconvert_exporter": "python",
   "pygments_lexer": "ipython3",
   "version": "3.13.0"
  }
 },
 "nbformat": 4,
 "nbformat_minor": 5
}
