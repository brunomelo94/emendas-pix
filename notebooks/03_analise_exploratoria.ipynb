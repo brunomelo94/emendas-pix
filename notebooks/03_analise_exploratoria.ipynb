{
 "cells": [
  {
   "cell_type": "markdown",
   "id": "1aef99c7",
   "metadata": {},
   "source": [
    "# Análise Exploratória das Emendas PIX"
   ]
  },
  {
   "cell_type": "code",
   "execution_count": 1,
   "id": "e3c39dcb",
   "metadata": {},
   "outputs": [],
   "source": [
    "import pandas as pd\n",
    "import matplotlib.pyplot as plt\n",
    "import seaborn as sns\n",
    "sns.set(style='whitegrid')\n",
    "%matplotlib inline"
   ]
  },
  {
   "cell_type": "markdown",
   "id": "3cf7773f",
   "metadata": {},
   "source": [
    "## Carregamento dos Dados"
   ]
  },
  {
   "cell_type": "code",
   "execution_count": 2,
   "id": "e09f8e8f",
   "metadata": {},
   "outputs": [
    {
     "name": "stdout",
     "output_type": "stream",
     "text": [
      "Formato: (37793, 18)\n"
     ]
    },
    {
     "data": {
      "text/html": [
       "<div>\n",
       "<style scoped>\n",
       "    .dataframe tbody tr th:only-of-type {\n",
       "        vertical-align: middle;\n",
       "    }\n",
       "\n",
       "    .dataframe tbody tr th {\n",
       "        vertical-align: top;\n",
       "    }\n",
       "\n",
       "    .dataframe thead th {\n",
       "        text-align: right;\n",
       "    }\n",
       "</style>\n",
       "<table border=\"1\" class=\"dataframe\">\n",
       "  <thead>\n",
       "    <tr style=\"text-align: right;\">\n",
       "      <th></th>\n",
       "      <th>Nome Ente</th>\n",
       "      <th>UF</th>\n",
       "      <th>Código Siafi</th>\n",
       "      <th>Código IBGE</th>\n",
       "      <th>Data</th>\n",
       "      <th>Ano</th>\n",
       "      <th>Mês</th>\n",
       "      <th>Tipo Ente</th>\n",
       "      <th>OB</th>\n",
       "      <th>CNPJ do Favorecido</th>\n",
       "      <th>Nome Favorecido</th>\n",
       "      <th>Nome Emenda</th>\n",
       "      <th>Transferência Especial</th>\n",
       "      <th>Categoria Econômica Despesa</th>\n",
       "      <th>Valor</th>\n",
       "      <th>Unnamed: 15</th>\n",
       "      <th>Unnamed: 16</th>\n",
       "      <th>Unnamed: 17</th>\n",
       "    </tr>\n",
       "  </thead>\n",
       "  <tbody>\n",
       "    <tr>\n",
       "      <th>0</th>\n",
       "      <td>Abadia de Goiás</td>\n",
       "      <td>GO</td>\n",
       "      <td>1050.0</td>\n",
       "      <td>5200050.0</td>\n",
       "      <td>44440.0</td>\n",
       "      <td>2021.0</td>\n",
       "      <td>setembro</td>\n",
       "      <td>Município</td>\n",
       "      <td>170860000012021OB802970</td>\n",
       "      <td>1.613940e+12</td>\n",
       "      <td>MUNICIPIO DE ABADIA DE GOIAS</td>\n",
       "      <td>Emenda Individual</td>\n",
       "      <td>Sim</td>\n",
       "      <td>DESPESAS DE CAPITAL</td>\n",
       "      <td>250000.0</td>\n",
       "      <td>NaN</td>\n",
       "      <td>NaN</td>\n",
       "      <td>NaN</td>\n",
       "    </tr>\n",
       "    <tr>\n",
       "      <th>1</th>\n",
       "      <td>Abadia de Goiás</td>\n",
       "      <td>GO</td>\n",
       "      <td>1050.0</td>\n",
       "      <td>5200050.0</td>\n",
       "      <td>44743.0</td>\n",
       "      <td>2022.0</td>\n",
       "      <td>julho</td>\n",
       "      <td>Município</td>\n",
       "      <td>170860000012022OB802457</td>\n",
       "      <td>1.613940e+12</td>\n",
       "      <td>MUNICIPIO DE ABADIA DE GOIAS</td>\n",
       "      <td>Emenda Individual</td>\n",
       "      <td>Sim</td>\n",
       "      <td>DESPESAS CORRENTES</td>\n",
       "      <td>130000.0</td>\n",
       "      <td>NaN</td>\n",
       "      <td>NaN</td>\n",
       "      <td>NaN</td>\n",
       "    </tr>\n",
       "    <tr>\n",
       "      <th>2</th>\n",
       "      <td>Abadia de Goiás</td>\n",
       "      <td>GO</td>\n",
       "      <td>1050.0</td>\n",
       "      <td>5200050.0</td>\n",
       "      <td>45139.0</td>\n",
       "      <td>2023.0</td>\n",
       "      <td>agosto</td>\n",
       "      <td>Município</td>\n",
       "      <td>170860000012023OB805663</td>\n",
       "      <td>1.613940e+12</td>\n",
       "      <td>MUNICIPIO DE ABADIA DE GOIAS</td>\n",
       "      <td>Emenda Individual</td>\n",
       "      <td>Sim</td>\n",
       "      <td>DESPESAS CORRENTES</td>\n",
       "      <td>150000.0</td>\n",
       "      <td>NaN</td>\n",
       "      <td>NaN</td>\n",
       "      <td>NaN</td>\n",
       "    </tr>\n",
       "    <tr>\n",
       "      <th>3</th>\n",
       "      <td>Abadia de Goiás</td>\n",
       "      <td>GO</td>\n",
       "      <td>1050.0</td>\n",
       "      <td>5200050.0</td>\n",
       "      <td>45139.0</td>\n",
       "      <td>2023.0</td>\n",
       "      <td>agosto</td>\n",
       "      <td>Município</td>\n",
       "      <td>170860000012023OB805664</td>\n",
       "      <td>1.613940e+12</td>\n",
       "      <td>MUNICIPIO DE ABADIA DE GOIAS</td>\n",
       "      <td>Emenda Individual</td>\n",
       "      <td>Sim</td>\n",
       "      <td>DESPESAS DE CAPITAL</td>\n",
       "      <td>500000.0</td>\n",
       "      <td>NaN</td>\n",
       "      <td>NaN</td>\n",
       "      <td>NaN</td>\n",
       "    </tr>\n",
       "    <tr>\n",
       "      <th>4</th>\n",
       "      <td>Abadia de Goiás</td>\n",
       "      <td>GO</td>\n",
       "      <td>1050.0</td>\n",
       "      <td>5200050.0</td>\n",
       "      <td>45261.0</td>\n",
       "      <td>2023.0</td>\n",
       "      <td>dezembro</td>\n",
       "      <td>Município</td>\n",
       "      <td>170860000012023OB815823</td>\n",
       "      <td>1.613940e+12</td>\n",
       "      <td>MUNICIPIO DE ABADIA DE GOIAS</td>\n",
       "      <td>Emenda Individual</td>\n",
       "      <td>Sim</td>\n",
       "      <td>DESPESAS DE CAPITAL</td>\n",
       "      <td>700000.0</td>\n",
       "      <td>NaN</td>\n",
       "      <td>NaN</td>\n",
       "      <td>NaN</td>\n",
       "    </tr>\n",
       "  </tbody>\n",
       "</table>\n",
       "</div>"
      ],
      "text/plain": [
       "         Nome Ente  UF  Código Siafi  Código IBGE     Data     Ano       Mês  \\\n",
       "0  Abadia de Goiás  GO        1050.0    5200050.0  44440.0  2021.0  setembro   \n",
       "1  Abadia de Goiás  GO        1050.0    5200050.0  44743.0  2022.0     julho   \n",
       "2  Abadia de Goiás  GO        1050.0    5200050.0  45139.0  2023.0    agosto   \n",
       "3  Abadia de Goiás  GO        1050.0    5200050.0  45139.0  2023.0    agosto   \n",
       "4  Abadia de Goiás  GO        1050.0    5200050.0  45261.0  2023.0  dezembro   \n",
       "\n",
       "   Tipo Ente                       OB  CNPJ do Favorecido  \\\n",
       "0  Município  170860000012021OB802970        1.613940e+12   \n",
       "1  Município  170860000012022OB802457        1.613940e+12   \n",
       "2  Município  170860000012023OB805663        1.613940e+12   \n",
       "3  Município  170860000012023OB805664        1.613940e+12   \n",
       "4  Município  170860000012023OB815823        1.613940e+12   \n",
       "\n",
       "                Nome Favorecido        Nome Emenda Transferência Especial  \\\n",
       "0  MUNICIPIO DE ABADIA DE GOIAS  Emenda Individual                    Sim   \n",
       "1  MUNICIPIO DE ABADIA DE GOIAS  Emenda Individual                    Sim   \n",
       "2  MUNICIPIO DE ABADIA DE GOIAS  Emenda Individual                    Sim   \n",
       "3  MUNICIPIO DE ABADIA DE GOIAS  Emenda Individual                    Sim   \n",
       "4  MUNICIPIO DE ABADIA DE GOIAS  Emenda Individual                    Sim   \n",
       "\n",
       "  Categoria Econômica Despesa     Valor  Unnamed: 15  Unnamed: 16  Unnamed: 17  \n",
       "0         DESPESAS DE CAPITAL  250000.0          NaN          NaN          NaN  \n",
       "1          DESPESAS CORRENTES  130000.0          NaN          NaN          NaN  \n",
       "2          DESPESAS CORRENTES  150000.0          NaN          NaN          NaN  \n",
       "3         DESPESAS DE CAPITAL  500000.0          NaN          NaN          NaN  \n",
       "4         DESPESAS DE CAPITAL  700000.0          NaN          NaN          NaN  "
      ]
     },
     "execution_count": 2,
     "metadata": {},
     "output_type": "execute_result"
    }
   ],
   "source": [
    "df = pd.read_csv('../data/Emendas-Parlamentares-especiais.csv')\n",
    "print('Formato:', df.shape)\n",
    "df.head()"
   ]
  },
  {
   "cell_type": "markdown",
   "id": "541ee06a",
   "metadata": {},
   "source": [
    "## Informações Básicas"
   ]
  },
  {
   "cell_type": "code",
   "execution_count": 3,
   "id": "56ca011a",
   "metadata": {},
   "outputs": [
    {
     "name": "stdout",
     "output_type": "stream",
     "text": [
      "<class 'pandas.core.frame.DataFrame'>\n",
      "RangeIndex: 37793 entries, 0 to 37792\n",
      "Data columns (total 18 columns):\n",
      " #   Column                       Non-Null Count  Dtype  \n",
      "---  ------                       --------------  -----  \n",
      " 0   Nome Ente                    37792 non-null  object \n",
      " 1   UF                           37792 non-null  object \n",
      " 2   Código Siafi                 37792 non-null  float64\n",
      " 3   Código IBGE                  37792 non-null  float64\n",
      " 4   Data                         37792 non-null  float64\n",
      " 5   Ano                          37792 non-null  float64\n",
      " 6   Mês                          37792 non-null  object \n",
      " 7   Tipo Ente                    37792 non-null  object \n",
      " 8   OB                           37792 non-null  object \n",
      " 9   CNPJ do Favorecido           37792 non-null  float64\n",
      " 10  Nome Favorecido              37792 non-null  object \n",
      " 11  Nome Emenda                  37792 non-null  object \n",
      " 12  Transferência Especial       37792 non-null  object \n",
      " 13  Categoria Econômica Despesa  37792 non-null  object \n",
      " 14  Valor                        37792 non-null  float64\n",
      " 15  Unnamed: 15                  0 non-null      float64\n",
      " 16  Unnamed: 16                  0 non-null      float64\n",
      " 17  Unnamed: 17                  0 non-null      float64\n",
      "dtypes: float64(9), object(9)\n",
      "memory usage: 5.2+ MB\n"
     ]
    }
   ],
   "source": [
    "df.info()"
   ]
  },
  {
   "cell_type": "markdown",
   "id": "eeb15b3c",
   "metadata": {},
   "source": [
    "## Limpeza de Dados"
   ]
  },
  {
   "cell_type": "code",
   "execution_count": 4,
   "id": "e51ebffa",
   "metadata": {},
   "outputs": [
    {
     "name": "stdout",
     "output_type": "stream",
     "text": [
      "Removendo colunas: ['Unnamed: 15', 'Unnamed: 16', 'Unnamed: 17']\n"
     ]
    }
   ],
   "source": [
    "cols_drop = [c for c in df.columns if c.startswith('Unnamed')]\n",
    "print('Removendo colunas:', cols_drop)\n",
    "df = df.drop(columns=cols_drop)"
   ]
  },
  {
   "cell_type": "markdown",
   "id": "4c8e231d",
   "metadata": {},
   "source": [
    "## Estatísticas Descritivas"
   ]
  },
  {
   "cell_type": "code",
   "execution_count": 5,
   "id": "6f2eb7ec",
   "metadata": {},
   "outputs": [
    {
     "data": {
      "text/plain": [
       "count    3.779200e+04\n",
       "mean     5.029988e+05\n",
       "std      7.506571e+05\n",
       "min      5.000000e-01\n",
       "25%      1.500000e+05\n",
       "50%      3.000000e+05\n",
       "75%      5.000000e+05\n",
       "max      1.724191e+07\n",
       "Name: Valor, dtype: float64"
      ]
     },
     "execution_count": 5,
     "metadata": {},
     "output_type": "execute_result"
    }
   ],
   "source": [
    "df['Valor'].describe()"
   ]
  },
  {
   "cell_type": "code",
   "execution_count": 6,
   "id": "a4c5ffc6",
   "metadata": {},
   "outputs": [
    {
     "data": {
      "image/png": "[encoded data removed]",
      "text/plain": [
       "<Figure size 800x400 with 1 Axes>"
      ]
     },
     "metadata": {},
     "output_type": "display_data"
    }
   ],
   "source": [
    "df.groupby('Ano')['Valor'].sum().plot(kind='bar', figsize=(8,4), title='Valor total por ano')\n",
    "plt.ylabel('Valor (R$)')\n",
    "plt.tight_layout()\n",
    "plt.show()"
   ]
  },
  {
   "cell_type": "code",
   "execution_count": 7,
   "id": "3b61edd7",
   "metadata": {},
   "outputs": [
    {
     "data": {
      "image/png": "[encoded data removed]",
      "text/plain": [
       "<Figure size 800x400 with 1 Axes>"
      ]
     },
     "metadata": {},
     "output_type": "display_data"
    }
   ],
   "source": [
    "top_ufs = df.groupby('UF')['Valor'].sum().sort_values(ascending=False).head(10)\n",
    "top_ufs.plot(kind='bar', figsize=(8,4), title='Top 10 UFs por valor total')\n",
    "plt.ylabel('Valor (R$)')\n",
    "plt.tight_layout()\n",
    "plt.show()"
   ]
  }
 ],
 "metadata": {
  "kernelspec": {
   "display_name": "base",
   "language": "python",
   "name": "python3"
  },
  "language_info": {
   "codemirror_mode": {
    "name": "ipython",
    "version": 3
   },
   "file_extension": ".py",
   "mimetype": "text/x-python",
   "name": "python",
   "nbconvert_exporter": "python",
   "pygments_lexer": "ipython3",
   "version": "3.11.7"
  }
 },
 "nbformat": 4,
 "nbformat_minor": 5
}
