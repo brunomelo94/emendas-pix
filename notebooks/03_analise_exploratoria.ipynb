{
 "cells": [
  {
   "cell_type": "markdown",
   "id": "1aef99c7",
   "metadata": {},
   "source": [
    "# Análise Exploratória das Emendas PIX"
   ]
  },
  {
   "cell_type": "code",
   "execution_count": null,
   "id": "e3c39dcb",
   "metadata": {},
   "outputs": [],
   "source": [
    "import pandas as pd\n",
    "import matplotlib.pyplot as plt\n",
    "import seaborn as sns\n",
    "sns.set(style='whitegrid')\n",
    "%matplotlib inline"
   ]
  },
  {
   "cell_type": "markdown",
   "id": "3cf7773f",
   "metadata": {},
   "source": [
    "## Carregamento dos Dados"
   ]
  },
  {
   "cell_type": "code",
   "execution_count": null,
   "id": "e09f8e8f",
   "metadata": {},
   "outputs": [],
   "source": [
    "df = pd.read_csv('../data/Emendas-Parlamentares-especiais.csv')\n",
    "print('Formato:', df.shape)\n",
    "df.head()"
   ]
  },
  {
   "cell_type": "markdown",
   "id": "541ee06a",
   "metadata": {},
   "source": [
    "## Informações Básicas"
   ]
  },
  {
   "cell_type": "code",
   "execution_count": null,
   "id": "56ca011a",
   "metadata": {},
   "outputs": [],
   "source": [
    "df.info()"
   ]
  },
  {
   "cell_type": "markdown",
   "id": "eeb15b3c",
   "metadata": {},
   "source": [
    "## Limpeza de Dados"
   ]
  },
  {
   "cell_type": "code",
   "execution_count": null,
   "id": "e51ebffa",
   "metadata": {},
   "outputs": [],
   "source": [
    "cols_drop = [c for c in df.columns if c.startswith('Unnamed')]\n",
    "print('Removendo colunas:', cols_drop)\n",
    "df = df.drop(columns=cols_drop)"
   ]
  },
  {
   "cell_type": "markdown",
   "id": "4c8e231d",
   "metadata": {},
   "source": [
    "## Estatísticas Descritivas"
   ]
  },
  {
   "cell_type": "code",
   "execution_count": null,
   "id": "6f2eb7ec",
   "metadata": {},
   "outputs": [],
   "source": [
    "df['Valor'].describe()"
   ]
  },
  {
   "cell_type": "code",
   "execution_count": null,
   "id": "a4c5ffc6",
   "metadata": {},
   "outputs": [],
   "source": [
    "df.groupby('Ano')['Valor'].sum().plot(kind='bar', figsize=(8,4), title='Valor total por ano')\n",
    "plt.ylabel('Valor (R$)')\n",
    "plt.tight_layout()\n",
    "plt.show()"
   ]
  },
  {
   "cell_type": "code",
   "execution_count": null,
   "id": "3b61edd7",
   "metadata": {},
   "outputs": [],
   "source": [
    "top_ufs = df.groupby('UF')['Valor'].sum().sort_values(ascending=False).head(10)\n",
    "top_ufs.plot(kind='bar', figsize=(8,4), title='Top 10 UFs por valor total')\n",
    "plt.ylabel('Valor (R$)')\n",
    "plt.tight_layout()\n",
    "plt.show()"
   ]
  }
 ],
 "metadata": {},
 "nbformat": 4,
 "nbformat_minor": 5
}
