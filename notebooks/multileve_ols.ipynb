{
 "cells": [
  {
   "cell_type": "markdown",
   "id": "66e4f322",
   "metadata": {},
   "source": [
    "# Análise do Impacto das Emendas PIX na Porcentagem de Votos Válidos (2024)\n",
    "Bruno Caetano Oliveira de Melo · MBA USP/ESALQ – Data Science & Analytics\n",
    "\n",
    "Este notebook segue o roteiro acordado:\n",
    "1. **Preparação dos dados**\n",
    "2. **Análise exploratória**\n",
    "3. **Modelos estimados** – OLS com efeitos fixos de partido _vs._ Modelo multinível\n",
    "4. **Comparação de desempenho**\n",
    "5. **Visualizações e interpretação**\n",
    "\n",
    "**Dependências**: pandas, numpy, matplotlib, seaborn, statsmodels, tqdm, scipy\n",
    "\n",
    "> Ajuste seu `PYTHONPATH` ou crie um ambiente virtual com `requirements.txt` do projeto.\n",
    "\n",
    "---"
   ]
  },
  {
   "cell_type": "code",
   "execution_count": null,
   "id": "b5cff56f",
   "metadata": {},
   "outputs": [],
   "source": [
    "# Imports e configuração global\n",
    "import pandas as pd\n",
    "import numpy as np\n",
    "import matplotlib.pyplot as plt\n",
    "import seaborn as sns\n",
    "import statsmodels.formula.api as smf\n",
    "import statsmodels.api as sm\n",
    "from statsmodels.iolib.summary2 import summary_col\n",
    "from scipy.stats.mstats import winsorize\n",
    "from scipy import stats\n",
    "\n",
    "pd.options.display.float_format = \"{:.3f}\".format\n",
    "sns.set_theme(style=\"whitegrid\")"
   ]
  },
  {
   "cell_type": "markdown",
   "id": "9d60d178",
   "metadata": {},
   "source": [
    "## 1 · Carregamento e preparação dos dados"
   ]
  },
  {
   "cell_type": "code",
   "execution_count": null,
   "id": "85445546",
   "metadata": {},
   "outputs": [],
   "source": [
    "# Caminho da base previamente unificada\n",
    "DATA_PATH = \"../data/dados_com_clusters.csv\"\n",
    "base = pd.read_csv(DATA_PATH)\n",
    "\n",
    "# Renomeia colunas para facilitar leitura\n",
    "base = base.rename(columns={\n",
    "    \"emendas_pix_per_capita_partido_prefeito_eleito\": \"emendas_pix_pc\",\n",
    "    \"porcentagem_votos_validos_2024\": \"perc_votos\",\n",
    "})\n",
    "\n",
    "# Garante proporção em [0,1]\n",
    "base[\"perc_votos\"] = base[\"perc_votos\"].clip(0, 1)\n",
    "\n",
    "# Flag único candidato (100 % dos votos válidos)\n",
    "base[\"unico_cand\"] = base[\"perc_votos\"].eq(1)\n",
    "\n",
    "# Remove para análise principal\n",
    "analise = base.loc[~base[\"unico_cand\"].copy()]\n",
    "\n",
    "# Flag zero de emendas\n",
    "analise[\"sem_emenda\"] = analise[\"emendas_pix_pc\"].eq(0).astype(int)\n",
    "\n",
    "# Winsorização (1 % em cada cauda) – evita distorções de outliers\n",
    "analise[\"emendas_pix_pc_w\"] = winsorize(analise[\"emendas_pix_pc\"], limits=[0.01, 0.01])\n",
    "\n",
    "# Transformação log(1+x) para valores >0\n",
    "analise[\"log_emenda\"] = np.log1p(analise[\"emendas_pix_pc_w\"])\n",
    "\n",
    "# Converte cluster bool → int\n",
    "for c in [\"cluster_0\", \"cluster_1\", \"cluster_2\", \"cluster_3\"]:\n",
    "    if c in analise.columns:\n",
    "        analise[c] = analise[c].fillna(False).astype(int)"
   ]
  },
  {
   "cell_type": "markdown",
   "id": "7546b8fe",
   "metadata": {},
   "source": [
    "### 1.1 Resumo pós‑tratamento"
   ]
  },
  {
   "cell_type": "code",
   "execution_count": null,
   "id": "0764fe51",
   "metadata": {},
   "outputs": [],
   "source": [
    "print(f\"Observações totais: {len(base):,}\")\n",
    "print(f\"Removidas por candidato único: {base['unico_cand'].sum():,}\")\n",
    "print(f\"Amostra para análise: {len(analise):,}\")\n",
    "print(f\"Zeros de Emenda PIX: {(analise['sem_emenda'].mean()*100):.1f}% da amostra\")"
   ]
  },
  {
   "cell_type": "markdown",
   "id": "8dedc4dc",
   "metadata": {},
   "source": [
    "## 2 · Análise exploratória"
   ]
  },
  {
   "cell_type": "code",
   "execution_count": null,
   "id": "14e3cde7",
   "metadata": {},
   "outputs": [],
   "source": [
    "fig, ax = plt.subplots(1, 2, figsize=(12, 4))\n",
    "# Distribuição original\n",
    "sns.histplot(analise[\"emendas_pix_pc\"], bins=40, kde=True, ax=ax[0])\n",
    "ax[0].set_title(\"Distribuição Emendas PIX per capita (original)\")\n",
    "ax[0].set_xlabel(\"R$\")\n",
    "# Distribuição log(1+x) nos positivos\n",
    "sns.histplot(analise.loc[analise[\"emendas_pix_pc\"]>0, \"log_emenda\"], kde=True, ax=ax[1])\n",
    "ax[1].set_title(\"Distribuição log(1+Emendas) nos >0\")\n",
    "plt.tight_layout()"
   ]
  },
  {
   "cell_type": "code",
   "execution_count": null,
   "id": "bd1fd611",
   "metadata": {},
   "outputs": [],
   "source": [
    "fig, ax = plt.subplots(figsize=(6, 4))\n",
    "sns.scatterplot(x=\"emendas_pix_pc\", y=\"perc_votos\", data=analise, alpha=0.6, ax=ax)\n",
    "ax.set_xlabel(\"Emendas PIX per capita (R$)\")\n",
    "ax.set_ylabel(\"% Votos Válidos\")\n",
    "ax.yaxis.set_major_formatter(plt.matplotlib.ticker.PercentFormatter(1))\n",
    "ax.set_title(\"Emendas PIX × Desempenho Eleitoral\")\n",
    "plt.tight_layout()"
   ]
  },
  {
   "cell_type": "markdown",
   "id": "58944127",
   "metadata": {},
   "source": [
    "## 3 · Modelagem\n",
    "Estimaremos:\n",
    "* **OLS** com efeitos fixos de partido (`C(sigla_partido)`).\n",
    "* **Multinível**: intercepto e inclinação aleatórios por partido."
   ]
  },
  {
   "cell_type": "code",
   "execution_count": null,
   "id": "bbef9b5a",
   "metadata": {},
   "outputs": [],
   "source": [
    "# Fórmula base – controles somente disponíveis na base\n",
    "controles = \"+ cluster_0 + cluster_1 + cluster_2 + cluster_3\"\n",
    "\n",
    "formula_fe = f\"perc_votos ~ sem_emenda + log_emenda {controles} + C(sigla_partido_prefeito_eleito)\"\n",
    "fe_model = smf.ols(formula_fe, data=analise).fit(cov_type=\"HC3\")  # robust\n",
    "print(fe_model.summary())"
   ]
  },
  {
   "cell_type": "code",
   "execution_count": null,
   "id": "a57e42c9",
   "metadata": {},
   "outputs": [],
   "source": [
    "# Modelo multinível\n",
    "formula_re = f\"perc_votos ~ sem_emenda + log_emenda {controles}\"\n",
    "re_model = smf.mixedlm(\n",
    "    formula_re,\n",
    "    data=analise,\n",
    "    groups=analise[\"sigla_partido_prefeito_eleito\"],\n",
    "    re_formula=\"1 + log_emenda\",\n",
    ").fit()\n",
    "print(re_model.summary())"
   ]
  },
  {
   "cell_type": "markdown",
   "id": "e18725dc",
   "metadata": {},
   "source": [
    "### 3.1 Teste LR para efeitos aleatórios"
   ]
  },
  {
   "cell_type": "code",
   "execution_count": null,
   "id": "b158bbb0",
   "metadata": {},
   "outputs": [],
   "source": [
    "ll_fe = smf.ols(formula_re + \" + C(sigla_partido_prefeito_eleito)\", data=analise).fit().llf\n",
    "lr_stat = -2 * (ll_fe - re_model.llf)\n",
    "p_val = stats.chi2.sf(lr_stat, df=2)  # 2 parâmetros aleatórios (interc + slope)\n",
    "print(f\"LR stat={lr_stat:.2f} – p-value={p_val:.4f}\")"
   ]
  },
  {
   "cell_type": "markdown",
   "id": "1f391486",
   "metadata": {},
   "source": [
    "## 4 · Comparação de desempenho dos modelos"
   ]
  },
  {
   "cell_type": "code",
   "execution_count": null,
   "id": "65735382",
   "metadata": {},
   "outputs": [],
   "source": [
    "comparison = summary_col([fe_model, re_model], stars=True, float_format=\"%.3f\", model_names=[\"FE Partido\", \"Multinível\"])\n",
    "print(comparison)"
   ]
  },
  {
   "cell_type": "markdown",
   "id": "28cbb144",
   "metadata": {},
   "source": [
    "### 4.1 Componente Logístico (Hurdle – parte 1)"
   ]
  },
  {
   "cell_type": "code",
   "execution_count": null,
   "id": "3de344e4",
   "metadata": {},
   "outputs": [],
   "source": [
    "logit_formula = f\"sem_emenda ~ {controles} + C(sigla_partido_prefeito_eleito)\"\n",
    "logit_model = smf.logit(logit_formula, data=analise).fit()\n",
    "print(logit_model.summary())"
   ]
  },
  {
   "cell_type": "markdown",
   "id": "9e665e16",
   "metadata": {},
   "source": [
    "## 5 · Visualizações de coeficientes"
   ]
  },
  {
   "cell_type": "code",
   "execution_count": null,
   "id": "191a708d",
   "metadata": {},
   "outputs": [],
   "source": [
    "coef_df = pd.DataFrame({\n",
    "    \"term\": fe_model.params.index,\n",
    "    \"coef\": fe_model.params.values,\n",
    "    \"se\": fe_model.bse,\n",
    "}).query(\"term not in ['Intercept'] and term.str.startswith('C(') == False\", engine=\"python\")\n",
    "\n",
    "plt.figure(figsize=(6, 4))\n",
    "plt.errorbar(coef_df[\"coef\"], coef_df[\"term\"], xerr=1.96*coef_df[\"se\"], fmt=\"o\")\n",
    "plt.axvline(0, color=\"black\", lw=1, ls=\"--\")\n",
    "plt.title(\"Coeficientes (OLS – efeitos fixos)\")\n",
    "plt.xlabel(\"Estimativa ± 1.96 SE\")\n",
    "plt.tight_layout()"
   ]
  },
  {
   "cell_type": "markdown",
   "id": "56e85f9c",
   "metadata": {},
   "source": [
    "## 6 · Diagnóstico de resíduos (OLS)"
   ]
  },
  {
   "cell_type": "code",
   "execution_count": null,
   "id": "5aea797a",
   "metadata": {},
   "outputs": [],
   "source": [
    "fig, ax = plt.subplots(1, 2, figsize=(10, 4))\n",
    "# Resíduos vs Ajustado\n",
    "sns.scatterplot(x=fe_model.fittedvalues, y=fe_model.resid, alpha=0.5, ax=ax[0])\n",
    "ax[0].axhline(0, ls=\"--\", c=\"red\")\n",
    "ax[0].set_xlabel(\"Valores ajustados\")\n",
    "ax[0].set_ylabel(\"Resíduos\")\n",
    "\n",
    "# QQ‑Plot\n",
    "sm.qqplot(fe_model.resid, line=\"45\", fit=True, ax=ax[1])\n",
    "ax[1].set_title(\"QQ‑Plot dos Resíduos\")\n",
    "plt.tight_layout()"
   ]
  },
  {
   "cell_type": "markdown",
   "id": "2248feeb",
   "metadata": {},
   "source": [
    "## 7 · Conclusões\n",
    "* As emendas PIX apresentam **(i) impacto significativo / não significativo** … (interpretar com base em p‑value e sinal).\n",
    "* O teste LR indica que **(não) há** variância entre partidos além da capturada pelos efeitos fixos.\n",
    "* Resíduos aproximadamente **(normais / heterocedásticos)**.\n",
    "* Municípios sem emenda acumulam … (descrever efeito do `sem_emenda`).\n",
    "\n",
    "> Documente estes achados na seção de resultados do TCC, mencionando limitações (zeros excessivos, ausência de algumas variáveis, etc.) e possíveis extensões (Beta regression, zero‑inflated models)."
   ]
  },
  {
   "cell_type": "markdown",
   "id": "80328c2a",
   "metadata": {},
   "source": [
    "### Glossário de variáveis\n",
    "| Sigla | Descrição |\n",
    "|-------|-----------|\n",
    "| perc_votos | Proporção de votos válidos (0‑1) |\n",
    "| emendas_pix_pc | Total de Emendas PIX per capita (R$) |\n",
    "| sem_emenda | 1 se `emendas_pix_pc`==0, 0 caso contrário |\n",
    "| log_emenda | log(1+emendas_pix_pc_w) |\n",
    "| cluster_* | Dummies de clusters socioeconômicos |\n",
    "| sigla_partido_prefeito_eleito | Agrupamento/efeito de partido |"
   ]
  },
  {
   "cell_type": "markdown",
   "id": "3a56d0e1",
   "metadata": {},
   "source": [
    "---\n",
    "💡 **Próximos passos**\n",
    "* Testar Beta regression (distribuição de proporções) e Zero‑Inflated Gamma para checar robustez.\n",
    "* Avaliar autocorrelação espacial dos resíduos (Moran’s I).\n",
    "* Explorar variáveis adicionais se disponíveis (IDHM, PIB pc, densidade, etc.)."
   ]
  }
 ],
 "metadata": {
  "jupytext": {
   "cell_metadata_filter": "-all",
   "main_language": "python",
   "notebook_metadata_filter": "-all"
  },
  "kernelspec": {
   "display_name": ".venv",
   "language": "python",
   "name": "python3"
  },
  "language_info": {
   "codemirror_mode": {
    "name": "ipython",
    "version": 3
   },
   "file_extension": ".py",
   "mimetype": "text/x-python",
   "name": "python",
   "nbconvert_exporter": "python",
   "pygments_lexer": "ipython3",
   "version": "3.13.0"
  }
 },
 "nbformat": 4,
 "nbformat_minor": 5
}
