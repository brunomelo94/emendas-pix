{
 "cells": [
  {
   "cell_type": "markdown",
   "id": "8160e409",
   "metadata": {},
   "source": [
    "# Análise Exploratória dos Dados de Prefeitos (2k-200k habitantes)\n",
    "\n",
    "Este notebook apresenta uma análise exploratória do arquivo `dados_unificados_prefeitos_200k.csv`, que consolida as informações de resultados eleitorais, valores de emendas PIX e indicadores socioeconômicos dos municípios."
   ]
  },
  {
   "cell_type": "code",
   "execution_count": null,
   "id": "1293eb52",
   "metadata": {},
   "outputs": [],
   "source": [
    "import pandas as pd\n",
    "import numpy as np\n",
    "import matplotlib.pyplot as plt\n",
    "import seaborn as sns\n",
    "import statsmodels.api as sm # estimação de modelos\n",
    "from scipy import stats # estatística chi2\n",
    "from statsmodels.iolib.summary2 import summary_col # comparação entre modelos\n",
    "from scipy.stats import gaussian_kde # inserção de KDEs em gráficos\n",
    "from matplotlib.gridspec import GridSpec # plotagem de gráficos separados\n",
    "import time # definição do intervalo de tempo entre gráficos com animação\n",
    "import imageio # para geração de figura GIF\n",
    "from tqdm import tqdm # adiciona um indicador de progresso do código"
   ]
  },
  {
   "cell_type": "code",
   "execution_count": null,
   "id": "4571816c",
   "metadata": {},
   "outputs": [],
   "source": [
    "sns.set(style='whitegrid')\n",
    "pd.options.display.float_format = '{:.2f}'.format\n",
    "\n",
    "path = '../data/dados_unificados_prefeitos_200k.csv'\n",
    "df = pd.read_csv(path)"
   ]
  },
  {
   "cell_type": "code",
   "execution_count": null,
   "id": "034e4629",
   "metadata": {},
   "outputs": [],
   "source": [
    "df.head()"
   ]
  },
  {
   "cell_type": "markdown",
   "id": "2de5c375",
   "metadata": {},
   "source": [
    "## Visão Geral\n",
    "\n",
    "A primeira etapa consiste em verificar o formato da base e o tipo das variáveis.\n",
    "\n",
    "### Filtragem de casos sem emendas ou com votação unânime e partidos com menos de 10 candidatos\n",
    "As análises a seguir desconsideram municípios que receberam soma zero de Emendas PIX e onde apenas um candidato concorreu (100% dos votos válidos)."
   ]
  },
  {
   "cell_type": "code",
   "execution_count": null,
   "id": "16f321c9",
   "metadata": {},
   "outputs": [],
   "source": [
    "# Contar e printar 0s da coluna 'emendas_pix_per_capita_partido_prefeito_eleito'\n",
    "# zero_count = (df['emendas_pix_per_capita_partido_prefeito_eleito'] == 0).sum()\n",
    "# print(f'Número de zeros na coluna \"emendas_pix_per_capita_partido_prefeito_eleito\": {zero_count}')\n",
    "\n",
    "# Contar e printar 1s da coluna 'porcentagem_votos_validos_2024'\n",
    "one_count = (df['porcentagem_votos_validos_2024'] == 1).sum()\n",
    "print(f'Número de uns na coluna \"porcentagem_votos_validos_2024\": {one_count}')\n",
    "    "
   ]
  },
  {
   "cell_type": "code",
   "execution_count": null,
   "id": "dda9b119",
   "metadata": {},
   "outputs": [],
   "source": [
    "# Remover 0s da coluna 'emendas_pix_per_capita_partido_prefeito_eleito'\n",
    "# df = df[df['emendas_pix_per_capita_partido_prefeito_eleito'] > 0]\n",
    "\n",
    "# Remover 1s da coluna 'porcentual_votos_partido_prefeito_eleito'\n",
    "df = df[df['porcentagem_votos_validos_2024'] < 1]\n",
    "\n",
    "# Contar e printar onde a soma de municipios de determinado partido é menor que 10\n",
    "parties = df['sigla_partido_prefeito_eleito'].value_counts()\n",
    "low_count_parties = parties[parties < 10]\n",
    "print(\"Partidos com menos de 10 municípios:\")\n",
    "for party, count in low_count_parties.items():\n",
    "    print(f'{party}: {count} municípios')\n",
    "    \n",
    "# Remover partidos com menos de 10 municípios\n",
    "df = df[df['sigla_partido_prefeito_eleito'].isin(parties[parties >= 10].index)]\n",
    "\n",
    "# Remover linhas com valores NaN\n",
    "df = df.dropna(subset=['emendas_pix_per_capita_partido_prefeito_eleito', 'porcentagem_votos_validos_2024', 'sigla_partido_prefeito_eleito'])\n",
    "\n",
    "# Remover linhas com valores NaN\n",
    "df.shape, df.dtypes"
   ]
  },
  {
   "cell_type": "code",
   "execution_count": null,
   "id": "a36bb1f6",
   "metadata": {},
   "outputs": [],
   "source": [
    "# Remover valores extremos da coluna 'emendas_pix_per_capita_partido_prefeito_eleito'\n",
    "def remove_outliers(df, column):\n",
    "    Q1 = df[column].quantile(0.25)\n",
    "    Q3 = df[column].quantile(0.75)\n",
    "    IQR = Q3 - Q1\n",
    "    lower_bound = Q1 - 1.5 * IQR\n",
    "    upper_bound = Q3 + 1.5 * IQR\n",
    "    return df[(df[column] >= lower_bound) & (df[column] <= upper_bound)]\n",
    "\n",
    "df = remove_outliers(df, 'emendas_pix_per_capita_partido_prefeito_eleito')"
   ]
  },
  {
   "cell_type": "code",
   "execution_count": null,
   "id": "00f5a649",
   "metadata": {},
   "outputs": [],
   "source": [
    "# Atribuição de categorias para as variáveis 'prefeito_eleito_2024', 'sigla_partido_prefeito_eleito', 'municipio', and 'sigla_municipio'\n",
    "df['prefeito_eleito_2024'] = df['prefeito_eleito_2024'].astype('category')\n",
    "df['sigla_partido_prefeito_eleito'] = df['sigla_partido_prefeito_eleito'].astype('category')\n",
    "df['municipio'] = df['municipio'].astype('category')\n",
    "df['sigla_municipio'] = df['sigla_municipio'].astype('category')"
   ]
  },
  {
   "cell_type": "code",
   "execution_count": null,
   "id": "677a6540",
   "metadata": {},
   "outputs": [],
   "source": [
    "df.describe().round(2)"
   ]
  },
  {
   "cell_type": "markdown",
   "id": "1ade773f",
   "metadata": {},
   "source": [
    "## Estudo sobre o desbalanceamento dos dados por partido"
   ]
  },
  {
   "cell_type": "code",
   "execution_count": null,
   "id": "6f631aa2",
   "metadata": {},
   "outputs": [],
   "source": [
    "# Group by 'sigla_partido_prefeito_eleito'\n",
    "df.groupby('sigla_partido_prefeito_eleito')['municipio'].count().reset_index()\n",
    "\n",
    "desempenho_medio = df.groupby('sigla_partido_prefeito_eleito')['porcentagem_votos_validos_2024'].mean().reset_index()\n",
    "desempenho_medio"
   ]
  },
  {
   "cell_type": "markdown",
   "id": "05bb0d46",
   "metadata": {},
   "source": [
    "## Desempenho médio eleição por partido"
   ]
  },
  {
   "cell_type": "code",
   "execution_count": null,
   "id": "82d9548d",
   "metadata": {},
   "outputs": [],
   "source": [
    "plt.figure(figsize=(36,10))\n",
    "plt.plot(desempenho_medio['sigla_partido_prefeito_eleito'], desempenho_medio['porcentagem_votos_validos_2024'],\n",
    "         linewidth=5, color='indigo')\n",
    "plt.scatter(df['sigla_partido_prefeito_eleito'], df['porcentagem_votos_validos_2024'],\n",
    "            alpha=0.5, color='orange', s = 150)\n",
    "plt.xlabel('Partido $j$ (nível 2)', fontsize=20)\n",
    "plt.ylabel('Desempenho eleitoral', fontsize=20)\n",
    "plt.xticks(desempenho_medio.sigla_partido_prefeito_eleito, fontsize=17)\n",
    "plt.yticks(fontsize=17)\n",
    "plt.show()"
   ]
  },
  {
   "cell_type": "markdown",
   "id": "e86256cf",
   "metadata": {},
   "source": [
    "## Boxplot da variável dependente ('desempenho')"
   ]
  },
  {
   "cell_type": "code",
   "execution_count": null,
   "id": "b4de9576",
   "metadata": {},
   "outputs": [],
   "source": [
    "plt.figure(figsize=(15,15))\n",
    "sns.boxplot(data=df, y='porcentagem_votos_validos_2024',\n",
    "            linewidth=2, orient='v', color='deepskyblue')\n",
    "sns.stripplot(data=df, y='porcentagem_votos_validos_2024',\n",
    "              color='darkorange', jitter=0.1, size=12, alpha=0.5)\n",
    "plt.ylabel('Desempenho eleitoral', fontsize=20)\n",
    "plt.yticks(fontsize=17)\n",
    "plt.show()"
   ]
  },
  {
   "cell_type": "markdown",
   "id": "f99c9258",
   "metadata": {},
   "source": [
    "## Kernel density estimation (KDE) - função densidade de probabilidade"
   ]
  },
  {
   "cell_type": "code",
   "execution_count": null,
   "id": "38dd6c35",
   "metadata": {},
   "outputs": [],
   "source": [
    "#da variável dependente ('porcentagem_votos_validos_2024'), com histograma\n",
    "plt.figure(figsize=(15,10))\n",
    "sns.histplot(data=df['porcentagem_votos_validos_2024'], kde=True,\n",
    "             bins=30, color='deepskyblue')\n",
    "plt.xlabel('Desempenho eleitoral', fontsize=20)\n",
    "plt.ylabel('Contagem', fontsize=20)\n",
    "plt.tick_params(axis='y', labelsize=17)\n",
    "plt.tick_params(axis='x', labelsize=17)\n",
    "plt.show()"
   ]
  },
  {
   "cell_type": "markdown",
   "id": "8c2442ed",
   "metadata": {},
   "source": [
    "## Boxplot da variável dependente ('desempenho') por sigla_partido_prefeito_eleito"
   ]
  },
  {
   "cell_type": "code",
   "execution_count": null,
   "id": "d1328560",
   "metadata": {},
   "outputs": [],
   "source": [
    "plt.figure(figsize=(50,14))\n",
    "sns.boxplot(data=df, x='sigla_partido_prefeito_eleito', y='porcentagem_votos_validos_2024',\n",
    "            linewidth=2, orient='v', palette='viridis')\n",
    "sns.stripplot(data=df, x='sigla_partido_prefeito_eleito', y='porcentagem_votos_validos_2024',\n",
    "              palette='viridis', jitter=0.2, size=8, alpha=0.5)\n",
    "plt.ylabel('Desempenho eleitoral', fontsize=20)\n",
    "plt.xlabel('Partido $j$ (nível 2)', fontsize=20)\n",
    "plt.tick_params(axis='y', labelsize=17)\n",
    "plt.tick_params(axis='x', labelsize=17)\n",
    "plt.show()"
   ]
  },
  {
   "cell_type": "markdown",
   "id": "87ac2ebb",
   "metadata": {},
   "source": [
    "\n",
    "## Kernel density estimation (KDE) - função densidade de probabilidade"
   ]
  },
  {
   "cell_type": "code",
   "execution_count": null,
   "id": "c15aaff3",
   "metadata": {},
   "outputs": [],
   "source": [
    "#da variável dependente ('desempenho') por sigla_partido_prefeito_eleito\n",
    "\n",
    "partidos = df['sigla_partido_prefeito_eleito'].unique()\n",
    "colors = sns.color_palette('viridis', len(partidos))\n",
    "\n",
    "plt.figure(figsize=(15, 10))\n",
    "g = sns.pairplot(df[['sigla_partido_prefeito_eleito', 'porcentagem_votos_validos_2024']], hue='sigla_partido_prefeito_eleito',\n",
    "                 height=8,\n",
    "                 aspect=1.5, palette=colors)\n",
    "g._legend.remove()\n",
    "g.set(xlabel=None)\n",
    "g.set(ylabel=None)\n",
    "g.tick_params(axis='both', which='major', labelsize=15)\n",
    "\n",
    "# Gera a legenda com cores e rótulos das municipios\n",
    "legend_elements = [plt.Line2D([0], [0], marker='o', color='w',\n",
    "                              markerfacecolor=color,\n",
    "                              markersize=10, label=sigla_partido_prefeito_eleito)\n",
    "                   for sigla_partido_prefeito_eleito, color in zip(partidos, colors)]\n",
    "plt.legend(handles=legend_elements, title='Partido', fontsize=14,\n",
    "           title_fontsize=18)\n",
    "\n",
    "# Adiciona os rótulos diretamente na figura\n",
    "plt.gcf().text(0.5, -0.01, 'Desempenho eleitoral', ha='center', fontsize=20)\n",
    "plt.gcf().text(-0.01, 0.5, 'Frequência', va='center', rotation='vertical',\n",
    "               fontsize=20)\n",
    "plt.show()\n",
    "\n"
   ]
  },
  {
   "cell_type": "markdown",
   "id": "b9f2643b",
   "metadata": {},
   "source": [
    "## Kernel density estimation (KDE) - função densidade de probabilidade**"
   ]
  },
  {
   "cell_type": "code",
   "execution_count": null,
   "id": "29e9f183",
   "metadata": {},
   "outputs": [],
   "source": [
    "\n",
    "#da variável dependente ('porcentagem_votos_validos_2024'), com histograma e por sigla_partido_prefeito_eleito separadamente\n",
    "#(função 'GridSpec' do pacote 'matplotlib.gridspec')\n",
    "\n",
    "partidos = df['sigla_partido_prefeito_eleito'].unique()\n",
    "\n",
    "fig = plt.figure(figsize=(28, 20))\n",
    "gs = GridSpec(len(partidos) // 2 + 1, 2, figure=fig)\n",
    "\n",
    "for i, sigla_partido_prefeito_eleito in enumerate(partidos):\n",
    "    ax = fig.add_subplot(gs[i])\n",
    "\n",
    "    # Subset dos dados por sigla_partido_prefeito_eleito\n",
    "    df_escola = df[df['sigla_partido_prefeito_eleito'] == sigla_partido_prefeito_eleito]\n",
    "\n",
    "    # Densidade dos dados\n",
    "    densidade = gaussian_kde(df_escola['porcentagem_votos_validos_2024'])\n",
    "    x_vals = np.linspace(min(df_escola['porcentagem_votos_validos_2024']),\n",
    "                         max(df_escola['porcentagem_votos_validos_2024']), len(df_escola))\n",
    "    y_vals = densidade(x_vals)\n",
    "\n",
    "    # Plotagem da density area\n",
    "    ax.fill_between(x_vals, y_vals,\n",
    "                    color=sns.color_palette('viridis',\n",
    "                                            as_cmap=True)(i/len(partidos)),\n",
    "                    alpha=0.3)\n",
    "    \n",
    "    # Adiciona o histograma\n",
    "    sns.histplot(df_escola['porcentagem_votos_validos_2024'], ax=ax, stat=\"density\", color=\"black\",\n",
    "                 edgecolor=\"black\", fill=True, \n",
    "                 bins=15, alpha=0.1)\n",
    "    ax.set_title(f'{sigla_partido_prefeito_eleito}', fontsize=15)\n",
    "    ax.set_ylabel('Densidade')\n",
    "    ax.set_xlabel('porcentagem_votos_validos_2024')\n",
    "\n",
    "plt.tight_layout()\n",
    "plt.show()\n",
    "\n"
   ]
  },
  {
   "cell_type": "markdown",
   "id": "53eb4462",
   "metadata": {},
   "source": [
    "## Gráfico de desempenho eleitoral x emendas_pix (OLS)"
   ]
  },
  {
   "cell_type": "code",
   "execution_count": null,
   "id": "de4a04e6",
   "metadata": {},
   "outputs": [],
   "source": [
    "plt.figure(figsize=(15,10))\n",
    "sns.regplot(\n",
    "    data=df,\n",
    "    x='emendas_pix_per_capita_partido_prefeito_eleito',\n",
    "    y='porcentagem_votos_validos_2024',\n",
    "    marker='o',\n",
    "    ci=False,\n",
    "    scatter_kws={\"color\": 'dodgerblue', \"alpha\": 0.8, \"s\": 200},\n",
    "    line_kws={\"color\": 'grey', \"linewidth\": 5}\n",
    ")\n",
    "\n",
    "# switch to log scale on the x-axis\n",
    "plt.xscale('linear')\n",
    "\n",
    "plt.xlabel('Emendas per capta recebida município', fontsize=20)\n",
    "plt.ylabel('Desempenho eleitoral', fontsize=20)\n",
    "plt.xticks(fontsize=14)\n",
    "plt.yticks(fontsize=14)\n",
    "plt.show()"
   ]
  },
  {
   "cell_type": "markdown",
   "id": "81d5290c",
   "metadata": {},
   "source": [
    "## Gráfico de desempenho x emendas_pix (OLS) por partido separadamente\n",
    "\n"
   ]
  },
  {
   "cell_type": "code",
   "execution_count": null,
   "id": "d4a6a029",
   "metadata": {},
   "outputs": [],
   "source": [
    "# Normalização min–max da coluna de emendas (toda a base de uma vez)\n",
    "min_em = df['emendas_pix_per_capita_partido_prefeito_eleito'].min()\n",
    "max_em = df['emendas_pix_per_capita_partido_prefeito_eleito'].max()\n",
    "df['emendas_norm'] = (\n",
    "    df['emendas_pix_per_capita_partido_prefeito_eleito'] - min_em\n",
    ") / (max_em - min_em)\n",
    "\n",
    "# Obtenção da lista de partidos\n",
    "partidos = df['sigla_partido_prefeito_eleito'].unique()\n",
    "\n",
    "# Definição do número de cores na paleta viridis\n",
    "num_cores = len(partidos)\n",
    "cor_escola = dict(zip(partidos, sns.color_palette('viridis', num_cores)))\n",
    "\n",
    "\n",
    "for partido in partidos:\n",
    "    data = df[df['sigla_partido_prefeito_eleito'] == partido]\n",
    "\n",
    "    # lmplot retornando FacetGrid\n",
    "    g = sns.lmplot(\n",
    "        x='emendas_norm',\n",
    "        y='porcentagem_votos_validos_2024',\n",
    "        data=data,\n",
    "        hue='sigla_partido_prefeito_eleito',\n",
    "        height=6,\n",
    "        aspect=1.5,\n",
    "        ci=False,\n",
    "        palette=[cor_escola[partido]]\n",
    "    )\n",
    "\n",
    "    # Títulos e rótulos\n",
    "    g.set_xlabels(\"Emendas PIX per capita (normalizado 0–1)\", fontsize=20)\n",
    "    g.set_ylabels(\"Desempenho eleitoral\", fontsize=20)\n",
    "    plt.title(f\"Desempenho eleitoral - Partido {partido}\", fontsize=20)\n",
    "\n",
    "    # Ajuste de ticks na escala 0–1\n",
    "    xticks = np.linspace(0, 1, 11)\n",
    "    g.ax.set_xticks(xticks)\n",
    "    g.ax.set_xticklabels([f\"{x:.1f}\" for x in xticks], fontsize=14)\n",
    "    g.ax.tick_params(axis='y', labelsize=14)\n",
    "\n",
    "    plt.tight_layout()\n",
    "    plt.show()\n",
    "\n",
    "    time.sleep(1)"
   ]
  },
  {
   "cell_type": "markdown",
   "id": "1c28b30e",
   "metadata": {},
   "source": [
    "## Gráfico de desempenho eleitoral em função da variável emendas_pix_per_capta"
   ]
  },
  {
   "cell_type": "code",
   "execution_count": null,
   "id": "24229090",
   "metadata": {},
   "outputs": [],
   "source": [
    "\n",
    "# Variação entre estudantes de uma mesma escola e entre escolas diferentes\n",
    "# Visualização do contexto!\n",
    "# NOTE QUE A PERSPECTIVA MULTINÍVEL NATURALMENTE CONSIDERA O COMPORTAMENTO\n",
    "#HETEROCEDÁSTICO NOS DADOS!\n",
    "\n",
    "palette = sns.color_palette('viridis',\n",
    "                            len(df['sigla_partido_prefeito_eleito'].unique()))\n",
    "\n",
    "plt.figure(figsize=(20,14))\n",
    "sns.scatterplot(data=df, x='emendas_pix_per_capita_partido_prefeito_eleito', y='porcentagem_votos_validos_2024', hue='sigla_partido_prefeito_eleito',\n",
    "                palette=palette, s=200, alpha=0.8, edgecolor='w')\n",
    "\n",
    "for partido in df['sigla_partido_prefeito_eleito'].cat.categories:\n",
    "    subset = df[df['sigla_partido_prefeito_eleito'] == partido]\n",
    "    sns.regplot(data=subset, x='emendas_pix_per_capita_partido_prefeito_eleito', y='porcentagem_votos_validos_2024', scatter=False, ci=False,\n",
    "                line_kws={\"color\": palette[df['sigla_partido_prefeito_eleito'].cat.categories.get_loc(partido)], 'linewidth': 4})\n",
    "\n",
    "plt.xlabel('Emendax pix per capta', fontsize=20)\n",
    "plt.ylabel('Desempenho eleitoral', fontsize=20)\n",
    "plt.xticks(fontsize=14)\n",
    "plt.yticks(fontsize=14)\n",
    "plt.legend(title='Município', title_fontsize='10', fontsize='10', loc='upper left')\n",
    "plt.show()\n",
    "\n"
   ]
  },
  {
   "cell_type": "code",
   "execution_count": null,
   "id": "ae87e730",
   "metadata": {},
   "outputs": [],
   "source": [
    "\n",
    "##############################################################################\n",
    "#                        ESTIMAÇÃO DO MODELO NULO HLM2                       #\n",
    "##############################################################################\n",
    "\n",
    "# Estimação do modelo nulo (função 'MixedLM' do pacote 'statsmodels')\n",
    "\n",
    "modelo_nulo_hlm2 = sm.MixedLM.from_formula(formula='porcentagem_votos_validos_2024 ~ 1',\n",
    "                                           groups='sigla_partido_prefeito_eleito',\n",
    "                                           re_formula='1',\n",
    "                                           data=df).fit()\n",
    "\n",
    "# Parâmetros do 'modelo_nulo_hlm2'\n",
    "modelo_nulo_hlm2.summary()\n",
    "\n"
   ]
  },
  {
   "cell_type": "code",
   "execution_count": null,
   "id": "f1270473",
   "metadata": {},
   "outputs": [],
   "source": [
    "import statsmodels.formula.api as smf"
   ]
  },
  {
   "cell_type": "code",
   "execution_count": null,
   "id": "d4069879",
   "metadata": {},
   "outputs": [],
   "source": [
    "# Modelo nulo\n",
    "null_model = smf.mixedlm(\n",
    "    'porcentagem_votos_validos_2024 ~ 1',\n",
    "    df,\n",
    "    groups=df['sigla_partido_prefeito_eleito'],\n",
    "    vc_formula={'estado': '0 + C(sigla_municipio)'}\n",
    ")\n",
    "null_res = null_model.fit()\n",
    "print(null_res.summary())\n"
   ]
  },
  {
   "cell_type": "code",
   "execution_count": null,
   "id": "e25b2601",
   "metadata": {},
   "outputs": [],
   "source": [
    "\n",
    "#intercepto\n",
    "\n",
    "teste = float(modelo_nulo_hlm2.cov_re.iloc[0, 0]) /\\\n",
    "    float(pd.DataFrame(modelo_nulo_hlm2.summary().tables[1]).iloc[1, 1])\n",
    "\n",
    "p_value = 2 * (1 - stats.norm.cdf(abs(teste)))\n",
    "\n",
    "print(f\"Estatística z para a Significância dos Efeitos Aleatórios: {teste:.3f}\")\n",
    "print(f\"P-valor: {p_value:.3f}\")\n",
    "\n",
    "if p_value >= 0.05:\n",
    "    print(\"Ausência de significância estatística dos efeitos aleatórios ao nível de confiança de 95%.\")\n",
    "else:\n",
    "    print(\"Efeitos aleatórios contextuais significantes ao nível de confiança de 95%.\")\n"
   ]
  },
  {
   "cell_type": "code",
   "execution_count": null,
   "id": "3092b140",
   "metadata": {},
   "outputs": [],
   "source": [
    "\n",
    "##############################################################################\n",
    "#                   COMPARAÇÃO DO HLM2 NULO COM UM OLS NULO                  #\n",
    "##############################################################################\n",
    "\n",
    "# Estimação de um modelo OLS nulo\n",
    "\n",
    "modelo_ols_nulo = sm.OLS.from_formula(formula='porcentagem_votos_validos_2024 ~ 1',\n",
    "                                      data=df).fit()\n",
    "\n",
    "# Parâmetros do 'modelo_ols_nulo'\n",
    "modelo_ols_nulo.summary()\n",
    "\n"
   ]
  },
  {
   "cell_type": "code",
   "execution_count": null,
   "id": "9279c3e8",
   "metadata": {},
   "outputs": [],
   "source": [
    "\n",
    "#até o momento\n",
    "\n",
    "df_llf = pd.DataFrame({'modelo':['OLS Nulo','HLM2 Nulo'],\n",
    "                      'loglik':[modelo_ols_nulo.llf,modelo_nulo_hlm2.llf]})\n",
    "\n",
    "fig, ax = plt.subplots(figsize=(15,15))\n",
    "\n",
    "c = ['dimgray','darkslategray']\n",
    "\n",
    "ax1 = ax.barh(df_llf.modelo,df_llf.loglik, color = c)\n",
    "ax.bar_label(ax1, label_type='center', color='white', fontsize=40)\n",
    "ax.set_ylabel(\"Modelo Proposto\", fontsize=24)\n",
    "ax.set_xlabel(\"LogLik\", fontsize=24)\n",
    "ax.tick_params(axis='y', labelsize=20)\n",
    "ax.tick_params(axis='x', labelsize=20)\n",
    "plt.show()\n",
    "\n"
   ]
  },
  {
   "cell_type": "code",
   "execution_count": null,
   "id": "1f3efe20",
   "metadata": {},
   "outputs": [],
   "source": [
    "\n",
    "#'modelo_ols_nulo'\n",
    "\n",
    "def lrtest(modelos):\n",
    "    modelo_1 = modelos[0]\n",
    "    llk_1 = modelo_1.llf\n",
    "    llk_2 = modelo_1.llf\n",
    "    \n",
    "    if len(modelos)>1:\n",
    "        llk_1 = modelo_1.llf\n",
    "        llk_2 = modelos[1].llf\n",
    "    LR_statistic = -2*(llk_1-llk_2)\n",
    "    p_val = stats.chi2.sf(LR_statistic, 1) # 1 grau de liberdade\n",
    "    \n",
    "    print(\"Likelihood Ratio Test:\")\n",
    "    print(f\"-2.(LL0-LLm): {round(LR_statistic, 2)}\")\n",
    "    print(f\"p-value: {p_val:.3f}\")\n",
    "    print(\"\")\n",
    "    print(\"==================Result======================== \\n\")\n",
    "    if p_val <= 0.05:\n",
    "        print(\"H1: Different models, favoring the one with the highest Log-Likelihood\")\n",
    "    else:\n",
    "        print(\"H0: Models with log-likelihoods that are not statistically different at 95% confidence level\")\n",
    "\n"
   ]
  },
  {
   "cell_type": "code",
   "execution_count": null,
   "id": "a94b2455",
   "metadata": {},
   "outputs": [],
   "source": [
    "\n",
    "#dos 'modelo_ols_nulo' e 'modelo_nulo_hlm2'\n",
    "\n",
    "lrtest([modelo_ols_nulo, modelo_nulo_hlm2])\n",
    "\n"
   ]
  },
  {
   "cell_type": "code",
   "execution_count": null,
   "id": "a869a42b",
   "metadata": {},
   "outputs": [],
   "source": [
    "\n",
    "##############################################################################\n",
    "#     ESTIMAÇÃO DO MODELO COM INTERCEPTOS E INCLINAÇÕES ALEATÓRIOS HLM2      #\n",
    "##############################################################################\n",
    "\n",
    "# Estimação do modelo com interceptos e inclinações aleatórios\n",
    "\n",
    "modelo_intercept_inclin_hlm2 = sm.MixedLM.from_formula(formula='porcentagem_votos_validos_2024 ~ emendas_pix_per_capita_partido_prefeito_eleito',\n",
    "                                                       groups='sigla_partido_prefeito_eleito',\n",
    "                                                       re_formula='emendas_pix_per_capita_partido_prefeito_eleito',\n",
    "                                                       data=df).fit()\n",
    "\n",
    "# Parâmetros do 'modelo_intercept_inclin_hlm2'\n",
    "modelo_intercept_inclin_hlm2.summary()\n",
    "\n"
   ]
  }
 ],
 "metadata": {
  "kernelspec": {
   "display_name": ".venv",
   "language": "python",
   "name": "python3"
  },
  "language_info": {
   "codemirror_mode": {
    "name": "ipython",
    "version": 3
   },
   "file_extension": ".py",
   "mimetype": "text/x-python",
   "name": "python",
   "nbconvert_exporter": "python",
   "pygments_lexer": "ipython3",
   "version": "3.13.0"
  }
 },
 "nbformat": 4,
 "nbformat_minor": 5
}
