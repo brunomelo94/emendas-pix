{
 "cells": [
  {
   "cell_type": "markdown",
   "id": "769c02c2",
   "metadata": {},
   "source": [
    "# Análise Exploratória dos Dados de Prefeitos (2k-200k habitantes)\n",
    "\n",
    "Este notebook apresenta uma análise exploratória do arquivo `dados_unificados_prefeitos_200k.csv`, que consolida as informações de resultados eleitorais, valores de emendas PIX e indicadores socioeconômicos dos municípios."
   ]
  },
  {
   "cell_type": "code",
   "execution_count": null,
   "id": "c5fe95b5",
   "metadata": {},
   "outputs": [],
   "source": [
    "import pandas as pd\n",
    "import numpy as np\n",
    "import matplotlib.pyplot as plt\n",
    "import seaborn as sns\n",
    "\n",
    "sns.set(style='whitegrid')\n",
    "pd.options.display.float_format = '{:.2f}'.format\n",
    "\n",
    "path = '../data/dados_unificados_prefeitos_200k.csv'\n",
    "df = pd.read_csv(path)\n",
    "df.head()"
   ]
  },
  {
   "cell_type": "markdown",
   "id": "86c16f2f",
   "metadata": {},
   "source": [
    "## Visão Geral\n",
    "\n",
    "A primeira etapa consiste em verificar o formato da base e o tipo das variáveis."
   ]
  },
  {
   "cell_type": "code",
   "execution_count": null,
   "id": "c3510e80",
   "metadata": {},
   "outputs": [],
   "source": [
    "df.shape, df.dtypes"
   ]
  },
  {
   "cell_type": "code",
   "execution_count": null,
   "id": "af7a074a",
   "metadata": {},
   "outputs": [],
   "source": [
    "df.isna().sum()\n",
    "\n",
    "# Count 0 values in 'emendas_pix_per_capita_partido_prefeito_eleito'\n",
    "df.emendas_pix_per_capita_partido_prefeito_eleito.value_counts()"
   ]
  },
  {
   "cell_type": "code",
   "execution_count": null,
   "id": "d3f345b1",
   "metadata": {},
   "outputs": [],
   "source": [
    "df.describe().round(2)"
   ]
  },
  {
   "cell_type": "markdown",
   "id": "1c89ab35",
   "metadata": {},
   "source": [
    "### Filtragem de casos sem emendas ou com votação unânime\n",
    "As análises a seguir desconsideram municípios que receberam soma zero de Emendas PIX ou onde apenas um candidato concorreu (100% dos votos válidos)."
   ]
  },
  {
   "cell_type": "markdown",
   "id": "bf8842ed",
   "metadata": {},
   "source": [
    "## Distribuições\n",
    "\n",
    "As distribuições das variáveis numéricas ajudam a identificar possíveis assimetrias e a presença de outliers."
   ]
  },
  {
   "cell_type": "code",
   "execution_count": null,
   "id": "15da4e83",
   "metadata": {},
   "outputs": [],
   "source": [
    "num_cols = ['porcentagem_votos_validos_2024', 'emendas_pix_per_capita_partido_prefeito_eleito',\n",
    "            'idhm_2010', 'alfabetizacao_2010', 'pib_per_capita_2021', 'densidade_demografica_2010']\n",
    "# Gera um histograma para cada variável\n",
    "fig, axes = plt.subplots(len(num_cols), 1, figsize=(8, 20))\n",
    "for ax, col in zip(axes, num_cols):\n",
    "    sns.histplot(data=df, x=col, kde=True, ax=ax)\n",
    "    if col in ['emendas_pix_per_capita_partido_prefeito_eleito', 'pib_per_capita_2021']:\n",
    "        ax.set_xscale('log')\n",
    "    ax.set_title(col)\n",
    "plt.tight_layout()"
   ]
  },
  {
   "cell_type": "markdown",
   "id": "edfb1ef7",
   "metadata": {},
   "source": [
    "## Partidos\n",
    "\n",
    "Analisamos a distribuição das siglas partidárias e o desempenho médio por partido."
   ]
  },
  {
   "cell_type": "code",
   "execution_count": null,
   "id": "6758bcb0",
   "metadata": {},
   "outputs": [],
   "source": [
    "party_counts = df['sigla_partido_prefeito_eleito'].value_counts().head(30)\n",
    "party_counts"
   ]
  },
  {
   "cell_type": "code",
   "execution_count": null,
   "id": "1c961276",
   "metadata": {},
   "outputs": [],
   "source": [
    "party_perf = df.groupby('sigla_partido_prefeito_eleito')['porcentagem_votos_validos_2024'].mean().sort_values(ascending=False)\n",
    "party_perf.head(30)"
   ]
  },
  {
   "cell_type": "code",
   "execution_count": null,
   "id": "3f0a10e2",
   "metadata": {},
   "outputs": [],
   "source": [
    "fig, ax = plt.subplots(figsize=(10,5))\n",
    "party_counts.plot(kind='bar', ax=ax)\n",
    "ax.set_ylabel('Número de Municípios')\n",
    "ax.set_title('Top 10 partidos por quantidade de prefeitos eleitos')\n",
    "plt.show()\n"
   ]
  },
  {
   "cell_type": "markdown",
   "id": "cc3e8d4a",
   "metadata": {},
   "source": [
    "## Relação entre Emendas PIX per capita e Desempenho Eleitoral\n",
    "\n",
    "Verificamos se há correlação entre o valor das emendas recebidas e a proporção de votos válidos."
   ]
  },
  {
   "cell_type": "code",
   "execution_count": null,
   "id": "400f5dc5",
   "metadata": {},
   "outputs": [],
   "source": [
    "# # Primeiro, retirar os valores 0 de emendas_pix_per_capita_partido_prefeito_eleito\n",
    "df = df[df['emendas_pix_per_capita_partido_prefeito_eleito'] > 0]\n",
    "# Contagem de casos removidos\n",
    "total = len(df)\n",
    "count_100 = (df['porcentagem_votos_validos_2024'] >= 1).sum()\n",
    "count_zero = (df['emendas_pix_per_capita_partido_prefeito_eleito'] == 0).sum()\n",
    "print(f'Total de municípios: {total}')\n",
    "print(f'Casos com 100% dos votos válidos: {count_100}')\n",
    "print(f'Casos com soma de emendas PIX igual a 0: {count_zero}')\n",
    "\n",
    "# Filtrar dados para a análise\n",
    "df = df[(df['emendas_pix_per_capita_partido_prefeito_eleito'] > 0) &\n",
    "        (df['porcentagem_votos_validos_2024'] < 1)]\n",
    "\n",
    "# Utilizar escala adequada para o gráfico\n",
    "df['emendas_pix_per_capita_partido_prefeito_eleito'] = np.log1p(df['emendas_pix_per_capita_partido_prefeito_eleito'])\n",
    "\n",
    "fig, ax = plt.subplots(figsize=(8,6))\n",
    "sns.scatterplot(data=df, x='emendas_pix_per_capita_partido_prefeito_eleito', y='porcentagem_votos_validos_2024', alpha=0.6, ax=ax)\n",
    "sns.regplot(data=df, x='emendas_pix_per_capita_partido_prefeito_eleito', y='porcentagem_votos_validos_2024', scatter=False, color='red', ax=ax)\n",
    "ax.set_xlabel('PIX per capita (mesmo partido)')\n",
    "ax.set_ylabel('Proporção de votos válidos 2024')\n",
    "plt.show()"
   ]
  },
  {
   "cell_type": "markdown",
   "id": "67f9ceb7",
   "metadata": {},
   "source": [
    "## Correlações\n",
    "\n",
    "Matriz de correlação entre as variáveis numéricas."
   ]
  },
  {
   "cell_type": "code",
   "execution_count": null,
   "id": "f872aa1f",
   "metadata": {},
   "outputs": [],
   "source": [
    "corr = df[num_cols].corr()\n",
    "plt.figure(figsize=(8,6))\n",
    "sns.heatmap(corr, annot=True, fmt='.2f', cmap='coolwarm')\n",
    "plt.title('Matriz de correlação')\n",
    "plt.show()\n"
   ]
  },
  {
   "cell_type": "markdown",
   "id": "eadf0aae",
   "metadata": {},
   "source": [
    "## Relação entre IDHM e Proporção de Votos Válidos"
   ]
  },
  {
   "cell_type": "code",
   "execution_count": null,
   "id": "cba0d621",
   "metadata": {},
   "outputs": [],
   "source": [
    "fig, ax = plt.subplots(figsize=(8,6))\n",
    "sns.scatterplot(data=df, x='idhm_2010', y='porcentagem_votos_validos_2024', alpha=0.6, ax=ax)\n",
    "sns.regplot(data=df, x='idhm_2010', y='porcentagem_votos_validos_2024', scatter=False, color='red', ax=ax)\n",
    "ax.set_xlabel('IDHM 2010')\n",
    "ax.set_ylabel('Proporção de votos válidos 2024')\n",
    "plt.show()"
   ]
  }
 ],
 "metadata": {
  "kernelspec": {
   "display_name": ".venv",
   "language": "python",
   "name": "python3"
  },
  "language_info": {
   "codemirror_mode": {
    "name": "ipython",
    "version": 3
   },
   "file_extension": ".py",
   "mimetype": "text/x-python",
   "name": "python",
   "nbconvert_exporter": "python",
   "pygments_lexer": "ipython3",
   "version": "3.13.0"
  }
 },
 "nbformat": 4,
 "nbformat_minor": 5
}
