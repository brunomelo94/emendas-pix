{
 "cells": [
  {
   "cell_type": "code",
   "execution_count": 1,
   "id": "44cfa7e0",
   "metadata": {
    "id": "import"
   },
   "outputs": [],
   "source": [
    "import pandas as pd\n",
    "import re\n",
    "from unidecode import unidecode"
   ]
  },
  {
   "cell_type": "code",
   "execution_count": 2,
   "id": "84431506",
   "metadata": {
    "id": "normalize"
   },
   "outputs": [],
   "source": [
    "# Função de normalização de municípios\n",
    "\n",
    "def normalize_municipio(nome: str) -> str:\n",
    "    \"\"\"Remove acentuação e formata nomes como 'MUNICIPIO - UF'\"\"\"\n",
    "    if pd.isna(nome):\n",
    "        return None\n",
    "    nome = unidecode(str(nome)).upper().strip()\n",
    "    m = re.search(r\"\\((\\w{2})\\)$\", nome)\n",
    "    uf = None\n",
    "    if m:\n",
    "        uf = m.group(1)\n",
    "        base = nome[:m.start()].strip()\n",
    "    else:\n",
    "        m = re.search(r\"\\s-\\s([A-Z]{2})$\", nome)\n",
    "        if m:\n",
    "            uf = m.group(1)\n",
    "            base = nome[:m.start()].strip()\n",
    "        else:\n",
    "            base = nome\n",
    "    return f\"{base} - {uf}\" if uf else base"
   ]
  },
  {
   "cell_type": "code",
   "execution_count": 3,
   "id": "be3140ac",
   "metadata": {
    "id": "load"
   },
   "outputs": [],
   "source": [
    "# Funções de carregamento de dados\n",
    "\n",
    "def load_emendas(path: str) -> pd.DataFrame:\n",
    "    df = pd.read_csv(path, encoding=\"utf-8-sig\")\n",
    "    df = df.loc[:, ~df.columns.str.contains(\"^Unnamed\")]\n",
    "    df['municipio'] = (df['Nome Ente'] + ' - ' + df['UF']).apply(normalize_municipio)\n",
    "    df['Valor'] = pd.to_numeric(df['Valor'], errors='coerce')\n",
    "    df = df.dropna(subset=['municipio', 'Valor']).reset_index(drop=True)\n",
    "    return df\n",
    "\n",
    "def load_resultados(path: str) -> pd.DataFrame:\n",
    "    df = pd.read_csv(path, encoding=\"utf-8-sig\")\n",
    "    df['municipio'] = (df['NM_MUNICIPIO'] + ' - ' + df['SG_UF']).apply(normalize_municipio)\n",
    "    df = df.drop_duplicates(subset=['municipio', 'NM_CANDIDATO']).reset_index(drop=True)\n",
    "    return df\n",
    "\n",
    "def load_ibge_indicators(densidade_path: str, escolar_path: str, idhm_path: str, pib_path: str) -> pd.DataFrame:\n",
    "    dens = pd.read_csv(densidade_path)\n",
    "    dens = dens.rename(columns={'name_muni_x': 'municipio_raw', 'population_2022': 'populacao_2022'})\n",
    "    dens['municipio'] = dens['municipio_raw'].apply(normalize_municipio)\n",
    "    dens = dens.drop(columns=['municipio_raw', 'name_muni_y'])\n",
    "\n",
    "    escolar = pd.read_csv(escolar_path)\n",
    "    escolar['municipio'] = escolar['Territorialidades'].apply(normalize_municipio)\n",
    "    escolar = escolar.drop(columns=['Territorialidades'])\n",
    "\n",
    "    idhm = pd.read_csv(idhm_path)\n",
    "    idhm['municipio'] = idhm['Territorialidades'].apply(normalize_municipio)\n",
    "    idhm = idhm.drop(columns=['Territorialidades'])\n",
    "\n",
    "    pib = pd.read_csv(pib_path)\n",
    "    pib['municipio'] = pib['name_muni'].apply(normalize_municipio)\n",
    "    pib = pib.drop(columns=['name_muni'])\n",
    "\n",
    "    df = dens.merge(escolar, on='municipio', how='left')\n",
    "    df = df.merge(idhm, on='municipio', how='left')\n",
    "    df = df.merge(pib, on='municipio', how='left')\n",
    "\n",
    "    numeric_cols = df.select_dtypes(include='number').columns\n",
    "    for col in numeric_cols:\n",
    "        if df[col].isna().any():\n",
    "            df[col].fillna(df[col].median(), inplace=True)\n",
    "\n",
    "    return df.reset_index(drop=True)"
   ]
  },
  {
   "cell_type": "code",
   "execution_count": 4,
   "id": "22aec049",
   "metadata": {
    "id": "integrate"
   },
   "outputs": [],
   "source": [
    "# Integração das bases de dados\n",
    "\n",
    "def integrate_dados(emendas: pd.DataFrame, resultados: pd.DataFrame, ibge: pd.DataFrame) -> pd.DataFrame:\n",
    "    df = resultados.merge(ibge, on='municipio', how='left')\n",
    "    emendas_agg = emendas.groupby('municipio', as_index=False)['Valor'].sum().rename(columns={'Valor': 'valor_pix_total'})\n",
    "    df = df.merge(emendas_agg, on='municipio', how='left')\n",
    "    df['valor_pix_total'].fillna(0, inplace=True)\n",
    "    return df"
   ]
  },
  {
   "cell_type": "code",
   "execution_count": 5,
   "id": "401a737d",
   "metadata": {
    "id": "execute"
   },
   "outputs": [
    {
     "name": "stdout",
     "output_type": "stream",
     "text": [
      "Arquivo salvo em ../data/dados_integrados.csv\n"
     ]
    }
   ],
   "source": [
    "# Executando o pipeline completo\n",
    "\n",
    "emendas = load_emendas('../data/emendas.csv')\n",
    "resultados = load_resultados('../data/resultados_eleicoes.csv')\n",
    "ibge = load_ibge_indicators(\n",
    "    '../data/densidade.csv',\n",
    "    '../data/escolarizacao.csv',\n",
    "    '../data/idhm.csv',\n",
    "    '../data/pib_per_capita.csv',\n",
    ")\n",
    "\n",
    "final = integrate_dados(emendas, resultados, ibge)\n",
    "final.to_csv('../data/dados_integrados.csv', index=False)\n",
    "print('Arquivo salvo em ../data/dados_integrados.csv')"
   ]
  }
 ],
 "metadata": {
  "kernelspec": {
   "display_name": "base",
   "language": "python",
   "name": "python3"
  },
  "language_info": {
   "codemirror_mode": {
    "name": "ipython",
    "version": 3
   },
   "file_extension": ".py",
   "mimetype": "text/x-python",
   "name": "python",
   "nbconvert_exporter": "python",
   "pygments_lexer": "ipython3",
   "version": "3.11.7"
  }
 },
 "nbformat": 4,
 "nbformat_minor": 5
}
