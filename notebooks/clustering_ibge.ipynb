{
 "cells": [
  {
   "cell_type": "markdown",
   "id": "61bb82aa",
   "metadata": {},
   "source": [
    "# Clusterização de municípios pelos indicadores do IBGE\n",
    "\n",
    "Este notebook aplica o algoritmo *k-means* para agrupar os municípios por quatro variáveis socioeconômicas:\n",
    "\n",
    "- IDHM 2010\n",
    "- PIB per capita 2021\n",
    "- Densidade demográfica 2010\n",
    "- Taxa de escolarização (alfabetização) 2010\n",
    "\n",
    "Esses clusters serão depois utilizados como variáveis *dummy* em modelos de regressão para controlar perfis municipais.\n"
   ]
  },
  {
   "cell_type": "code",
   "execution_count": null,
   "id": "7d01026c",
   "metadata": {},
   "outputs": [],
   "source": [
    "import pandas as pd\n",
    "from sklearn.preprocessing import StandardScaler\n",
    "from sklearn.cluster import KMeans\n",
    "\n",
    "base = pd.read_csv('../data/dados_unificados_prefeitos_200k.csv')\n",
    "base.columns = [c.lstrip('﻿') for c in base.columns]\n",
    "\n",
    "features = base[['idhm_2010', 'pib_per_capita_2021',\n",
    "                 'densidade_demografica_2010', 'alfabetizacao_2010']]\n",
    "features = features.dropna()\n"
   ]
  },
  {
   "cell_type": "code",
   "execution_count": null,
   "id": "760b85f9",
   "metadata": {},
   "outputs": [],
   "source": [
    "scaler = StandardScaler()\n",
    "X = scaler.fit_transform(features)\n",
    "\n",
    "k = 4  # número de clusters\n",
    "kmeans = KMeans(n_clusters=k, random_state=42)\n",
    "clusters = kmeans.fit_predict(X)\n",
    "\n",
    "features = features.assign(cluster=clusters)\n",
    "features.head()\n"
   ]
  },
  {
   "cell_type": "code",
   "execution_count": null,
   "id": "4893bae2",
   "metadata": {},
   "outputs": [],
   "source": [
    "cluster_dummies = pd.get_dummies(features['cluster'], prefix='cluster')\n",
    "base_with_clusters = base.join(cluster_dummies)\n",
    "\n",
    "base_with_clusters.filter(like='cluster_').head()\n"
   ]
  },
  {
   "cell_type": "markdown",
   "id": "d8798c96",
   "metadata": {},
   "source": [
    "Os *clusters* gerados são transformados em variáveis dummy para cada município. O arquivo abaixo pode ser salvo para uso em etapas posteriores do TCC."
   ]
  },
  {
   "cell_type": "code",
   "execution_count": null,
   "id": "3f0c3031",
   "metadata": {},
   "outputs": [],
   "source": [
    "base_with_clusters.to_csv('../data/dados_com_clusters.csv', index=False)\n"
   ]
  }
 ],
 "metadata": {
  "kernelspec": {
   "display_name": ".venv",
   "language": "python",
   "name": "python3"
  },
  "language_info": {
   "codemirror_mode": {
    "name": "ipython",
    "version": 3
   },
   "file_extension": ".py",
   "mimetype": "text/x-python",
   "name": "python",
   "nbconvert_exporter": "python",
   "pygments_lexer": "ipython3",
   "version": "3.13.0"
  }
 },
 "nbformat": 4,
 "nbformat_minor": 5
}
