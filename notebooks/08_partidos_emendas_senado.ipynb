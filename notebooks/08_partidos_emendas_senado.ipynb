{
 "cells": [
  {
   "cell_type": "markdown",
   "metadata": {},
   "source": [
    "## Atribuir partidos às emendas\n",
    "\n",
    "Este notebook carrega `emendas_por_favorecido.csv`, os partidos de deputados\n",
    " e os partidos de senadores a partir de dados abertos para associar o partido\n",
    " de cada autor de emenda sem alterar o arquivo original."
   ]
  },
  {
   "cell_type": "code",
   "execution_count": 7,
   "metadata": {
    "id": "import"
   },
   "outputs": [],
   "source": [
    "import pandas as pd\n",
    "import json\n",
    "from unidecode import unidecode\n",
    "from src.senado_party_service import fetch_senator_parties\n"
   ]
  },
  {
   "cell_type": "code",
   "execution_count": 5,
   "id": "27a8254c",
   "metadata": {},
   "outputs": [],
   "source": [
    "# Add project root to sys.path so 'src' can be imported\n",
    "import sys\n",
    "import os\n",
    "sys.path.append(os.path.abspath(os.path.join(os.getcwd(), '..')))"
   ]
  },
  {
   "cell_type": "code",
   "execution_count": 8,
   "metadata": {
    "id": "senadores"
   },
   "outputs": [],
   "source": [
    "# Baixa e prepara dados de partidos dos senadores\n",
    "senadores = fetch_senator_parties()\n",
    "senadores_df = pd.DataFrame(list(senadores.items()),\n",
    "                            columns=['norm_name', 'siglaPartido'])"
   ]
  },
  {
   "cell_type": "code",
   "execution_count": 10,
   "metadata": {
    "id": "deputados"
   },
   "outputs": [],
   "source": [
    "# Carrega partidos dos deputados a partir do JSON\n",
    "with open('../data/deputados_dados_partidos.json') as f:\n",
    "    deputados = json.load(f)['dados']\n",
    "deputados_df = pd.DataFrame(deputados)[['nome', 'siglaPartido']]\n",
    "deputados_df['norm_name'] = deputados_df['nome'].apply(lambda x: unidecode(x).upper())"
   ]
  },
  {
   "cell_type": "code",
   "execution_count": 11,
   "metadata": {
    "id": "merge"
   },
   "outputs": [],
   "source": [
    "# Lê emendas e realiza merge sem alterar o CSV original\n",
    "emendas = pd.read_csv('../data/emendas_por_favorecido.csv')\n",
    "emendas['norm_name'] = emendas['Nome do Autor da Emenda'].apply(lambda x: unidecode(x).upper())\n",
    "partidos_df = pd.concat([deputados_df[['norm_name', 'siglaPartido']], senadores_df])\n",
    "resultado = emendas.merge(partidos_df, on='norm_name', how='left')\n",
    "resultado.drop(columns='norm_name', inplace=True)"
   ]
  },
  {
   "cell_type": "code",
   "execution_count": 13,
   "metadata": {
    "id": "save"
   },
   "outputs": [
    {
     "data": {
      "application/vnd.microsoft.datawrangler.viewer.v0+json": {
       "columns": [
        {
         "name": "index",
         "rawType": "int64",
         "type": "integer"
        },
        {
         "name": "Código da Emenda",
         "rawType": "float64",
         "type": "float"
        },
        {
         "name": "Código do Autor da Emenda",
         "rawType": "int64",
         "type": "integer"
        },
        {
         "name": "Nome do Autor da Emenda",
         "rawType": "object",
         "type": "string"
        },
        {
         "name": "Número da emenda",
         "rawType": "int64",
         "type": "integer"
        },
        {
         "name": "Tipo de Emenda",
         "rawType": "object",
         "type": "string"
        },
        {
         "name": "Ano/Mês",
         "rawType": "int64",
         "type": "integer"
        },
        {
         "name": "Código do Favorecido",
         "rawType": "int64",
         "type": "integer"
        },
        {
         "name": "Favorecido",
         "rawType": "object",
         "type": "string"
        },
        {
         "name": "Natureza Jurídica",
         "rawType": "object",
         "type": "string"
        },
        {
         "name": "Tipo Favorecido",
         "rawType": "object",
         "type": "string"
        },
        {
         "name": "UF Favorecido",
         "rawType": "object",
         "type": "string"
        },
        {
         "name": "Município Favorecido",
         "rawType": "object",
         "type": "string"
        },
        {
         "name": "Valor Recebido",
         "rawType": "int64",
         "type": "integer"
        },
        {
         "name": "siglaPartido",
         "rawType": "object",
         "type": "unknown"
        }
       ],
       "ref": "81a031c8-fdf3-4ce7-bdb1-dd95468101c2",
       "rows": [
        [
         "0",
         "202445000000.0",
         "4497",
         "PROF. PAULO FERNANDO",
         "5",
         "Emenda Individual - Transferências Especiais",
         "202412",
         "394601000126",
         "DISTRITO FEDERAL",
         "Estado ou Distrito Federal",
         "Pessoa Jurídica",
         "DF",
         "BRASÍLIA",
         "28276676",
         null
        ],
        [
         "1",
         "202444000000.0",
         "4378",
         "FRED LINHARES",
         "13",
         "Emenda Individual - Transferências Especiais",
         "202412",
         "394601000126",
         "DISTRITO FEDERAL",
         "Estado ou Distrito Federal",
         "Pessoa Jurídica",
         "DF",
         "BRASÍLIA",
         "141093592",
         "REPUBLICANOS"
        ],
        [
         "2",
         "202444000000.0",
         "4449",
         "PROF. REGINALDO VERAS",
         "13",
         "Emenda Individual - Transferências Especiais",
         "202412",
         "394601000126",
         "DISTRITO FEDERAL",
         "Estado ou Distrito Federal",
         "Pessoa Jurídica",
         "DF",
         "BRASÍLIA",
         "214702562",
         "PV"
        ],
        [
         "3",
         "202442000000.0",
         "4166",
         "PASTOR SARGENTO ISIDORIO",
         "1",
         "Emenda Individual - Transferências Especiais",
         "202412",
         "13937032000160",
         "ESTADO DA BAHIA",
         "Estado ou Distrito Federal",
         "Pessoa Jurídica",
         "BA",
         "SALVADOR",
         "813112613",
         "AVANTE"
        ],
        [
         "4",
         "202442000000.0",
         "4190",
         "JOSEILDO RAMOS",
         "10",
         "Emenda Individual - Transferências Especiais",
         "202412",
         "13937032000160",
         "ESTADO DA BAHIA",
         "Estado ou Distrito Federal",
         "Pessoa Jurídica",
         "BA",
         "SALVADOR",
         "130000000",
         "PT"
        ]
       ],
       "shape": {
        "columns": 14,
        "rows": 5
       }
      },
      "text/html": [
       "<div>\n",
       "<style scoped>\n",
       "    .dataframe tbody tr th:only-of-type {\n",
       "        vertical-align: middle;\n",
       "    }\n",
       "\n",
       "    .dataframe tbody tr th {\n",
       "        vertical-align: top;\n",
       "    }\n",
       "\n",
       "    .dataframe thead th {\n",
       "        text-align: right;\n",
       "    }\n",
       "</style>\n",
       "<table border=\"1\" class=\"dataframe\">\n",
       "  <thead>\n",
       "    <tr style=\"text-align: right;\">\n",
       "      <th></th>\n",
       "      <th>Código da Emenda</th>\n",
       "      <th>Código do Autor da Emenda</th>\n",
       "      <th>Nome do Autor da Emenda</th>\n",
       "      <th>Número da emenda</th>\n",
       "      <th>Tipo de Emenda</th>\n",
       "      <th>Ano/Mês</th>\n",
       "      <th>Código do Favorecido</th>\n",
       "      <th>Favorecido</th>\n",
       "      <th>Natureza Jurídica</th>\n",
       "      <th>Tipo Favorecido</th>\n",
       "      <th>UF Favorecido</th>\n",
       "      <th>Município Favorecido</th>\n",
       "      <th>Valor Recebido</th>\n",
       "      <th>siglaPartido</th>\n",
       "    </tr>\n",
       "  </thead>\n",
       "  <tbody>\n",
       "    <tr>\n",
       "      <th>0</th>\n",
       "      <td>2.024450e+11</td>\n",
       "      <td>4497</td>\n",
       "      <td>PROF. PAULO FERNANDO</td>\n",
       "      <td>5</td>\n",
       "      <td>Emenda Individual - Transferências Especiais</td>\n",
       "      <td>202412</td>\n",
       "      <td>394601000126</td>\n",
       "      <td>DISTRITO FEDERAL</td>\n",
       "      <td>Estado ou Distrito Federal</td>\n",
       "      <td>Pessoa Jurídica</td>\n",
       "      <td>DF</td>\n",
       "      <td>BRASÍLIA</td>\n",
       "      <td>28276676</td>\n",
       "      <td>NaN</td>\n",
       "    </tr>\n",
       "    <tr>\n",
       "      <th>1</th>\n",
       "      <td>2.024440e+11</td>\n",
       "      <td>4378</td>\n",
       "      <td>FRED LINHARES</td>\n",
       "      <td>13</td>\n",
       "      <td>Emenda Individual - Transferências Especiais</td>\n",
       "      <td>202412</td>\n",
       "      <td>394601000126</td>\n",
       "      <td>DISTRITO FEDERAL</td>\n",
       "      <td>Estado ou Distrito Federal</td>\n",
       "      <td>Pessoa Jurídica</td>\n",
       "      <td>DF</td>\n",
       "      <td>BRASÍLIA</td>\n",
       "      <td>141093592</td>\n",
       "      <td>REPUBLICANOS</td>\n",
       "    </tr>\n",
       "    <tr>\n",
       "      <th>2</th>\n",
       "      <td>2.024440e+11</td>\n",
       "      <td>4449</td>\n",
       "      <td>PROF. REGINALDO VERAS</td>\n",
       "      <td>13</td>\n",
       "      <td>Emenda Individual - Transferências Especiais</td>\n",
       "      <td>202412</td>\n",
       "      <td>394601000126</td>\n",
       "      <td>DISTRITO FEDERAL</td>\n",
       "      <td>Estado ou Distrito Federal</td>\n",
       "      <td>Pessoa Jurídica</td>\n",
       "      <td>DF</td>\n",
       "      <td>BRASÍLIA</td>\n",
       "      <td>214702562</td>\n",
       "      <td>PV</td>\n",
       "    </tr>\n",
       "    <tr>\n",
       "      <th>3</th>\n",
       "      <td>2.024420e+11</td>\n",
       "      <td>4166</td>\n",
       "      <td>PASTOR SARGENTO ISIDORIO</td>\n",
       "      <td>1</td>\n",
       "      <td>Emenda Individual - Transferências Especiais</td>\n",
       "      <td>202412</td>\n",
       "      <td>13937032000160</td>\n",
       "      <td>ESTADO DA BAHIA</td>\n",
       "      <td>Estado ou Distrito Federal</td>\n",
       "      <td>Pessoa Jurídica</td>\n",
       "      <td>BA</td>\n",
       "      <td>SALVADOR</td>\n",
       "      <td>813112613</td>\n",
       "      <td>AVANTE</td>\n",
       "    </tr>\n",
       "    <tr>\n",
       "      <th>4</th>\n",
       "      <td>2.024420e+11</td>\n",
       "      <td>4190</td>\n",
       "      <td>JOSEILDO RAMOS</td>\n",
       "      <td>10</td>\n",
       "      <td>Emenda Individual - Transferências Especiais</td>\n",
       "      <td>202412</td>\n",
       "      <td>13937032000160</td>\n",
       "      <td>ESTADO DA BAHIA</td>\n",
       "      <td>Estado ou Distrito Federal</td>\n",
       "      <td>Pessoa Jurídica</td>\n",
       "      <td>BA</td>\n",
       "      <td>SALVADOR</td>\n",
       "      <td>130000000</td>\n",
       "      <td>PT</td>\n",
       "    </tr>\n",
       "  </tbody>\n",
       "</table>\n",
       "</div>"
      ],
      "text/plain": [
       "   Código da Emenda  Código do Autor da Emenda   Nome do Autor da Emenda  \\\n",
       "0      2.024450e+11                       4497      PROF. PAULO FERNANDO   \n",
       "1      2.024440e+11                       4378             FRED LINHARES   \n",
       "2      2.024440e+11                       4449     PROF. REGINALDO VERAS   \n",
       "3      2.024420e+11                       4166  PASTOR SARGENTO ISIDORIO   \n",
       "4      2.024420e+11                       4190            JOSEILDO RAMOS   \n",
       "\n",
       "   Número da emenda                                Tipo de Emenda  Ano/Mês  \\\n",
       "0                 5  Emenda Individual - Transferências Especiais   202412   \n",
       "1                13  Emenda Individual - Transferências Especiais   202412   \n",
       "2                13  Emenda Individual - Transferências Especiais   202412   \n",
       "3                 1  Emenda Individual - Transferências Especiais   202412   \n",
       "4                10  Emenda Individual - Transferências Especiais   202412   \n",
       "\n",
       "   Código do Favorecido        Favorecido           Natureza Jurídica  \\\n",
       "0          394601000126  DISTRITO FEDERAL  Estado ou Distrito Federal   \n",
       "1          394601000126  DISTRITO FEDERAL  Estado ou Distrito Federal   \n",
       "2          394601000126  DISTRITO FEDERAL  Estado ou Distrito Federal   \n",
       "3        13937032000160   ESTADO DA BAHIA  Estado ou Distrito Federal   \n",
       "4        13937032000160   ESTADO DA BAHIA  Estado ou Distrito Federal   \n",
       "\n",
       "   Tipo Favorecido UF Favorecido Município Favorecido  Valor Recebido  \\\n",
       "0  Pessoa Jurídica            DF             BRASÍLIA        28276676   \n",
       "1  Pessoa Jurídica            DF             BRASÍLIA       141093592   \n",
       "2  Pessoa Jurídica            DF             BRASÍLIA       214702562   \n",
       "3  Pessoa Jurídica            BA             SALVADOR       813112613   \n",
       "4  Pessoa Jurídica            BA             SALVADOR       130000000   \n",
       "\n",
       "   siglaPartido  \n",
       "0           NaN  \n",
       "1  REPUBLICANOS  \n",
       "2            PV  \n",
       "3        AVANTE  \n",
       "4            PT  "
      ]
     },
     "execution_count": 13,
     "metadata": {},
     "output_type": "execute_result"
    }
   ],
   "source": [
    "# Salva nova versão sem alterar o arquivo original\n",
    "resultado.to_csv('../data/emendas_por_favorecido_partidos.csv', index=False)\n",
    "resultado.head()"
   ]
  },
  {
   "cell_type": "code",
   "execution_count": 15,
   "id": "15e9d6c3",
   "metadata": {},
   "outputs": [
    {
     "ename": "HTTPError",
     "evalue": "400 Client Error: Bad Request for url: https://dadosabertos.camara.leg.br/api/v2/deputados?ano=2023&itens=1000&ordenarPor=nome&ordenar=ASC",
     "output_type": "error",
     "traceback": [
      "\u001b[1;31m---------------------------------------------------------------------------\u001b[0m",
      "\u001b[1;31mHTTPError\u001b[0m                                 Traceback (most recent call last)",
      "Cell \u001b[1;32mIn[15], line 59\u001b[0m\n\u001b[0;32m     56\u001b[0m     \u001b[38;5;28mprint\u001b[39m(\u001b[38;5;124mf\u001b[39m\u001b[38;5;124m\"\u001b[39m\u001b[38;5;124mGenerated partidos_2023_2024.json with \u001b[39m\u001b[38;5;132;01m{\u001b[39;00m\u001b[38;5;28mlen\u001b[39m(full_mapping)\u001b[38;5;132;01m}\u001b[39;00m\u001b[38;5;124m entries.\u001b[39m\u001b[38;5;124m\"\u001b[39m)\n\u001b[0;32m     58\u001b[0m \u001b[38;5;28;01mif\u001b[39;00m \u001b[38;5;18m__name__\u001b[39m \u001b[38;5;241m==\u001b[39m \u001b[38;5;124m\"\u001b[39m\u001b[38;5;124m__main__\u001b[39m\u001b[38;5;124m\"\u001b[39m:\n\u001b[1;32m---> 59\u001b[0m     main()\n",
      "Cell \u001b[1;32mIn[15], line 42\u001b[0m, in \u001b[0;36mmain\u001b[1;34m()\u001b[0m\n\u001b[0;32m     40\u001b[0m \u001b[38;5;28;01mdef\u001b[39;00m \u001b[38;5;21mmain\u001b[39m():\n\u001b[0;32m     41\u001b[0m     \u001b[38;5;66;03m# 1. Deputies 2023 + 2024 (2024 overrides any repeat from 2023)\u001b[39;00m\n\u001b[1;32m---> 42\u001b[0m     deps23 \u001b[38;5;241m=\u001b[39m fetch_deputies(\u001b[38;5;241m2023\u001b[39m)       \u001b[38;5;66;03m# \u001b[39;00m\n\u001b[0;32m     43\u001b[0m     deps24 \u001b[38;5;241m=\u001b[39m fetch_deputies(\u001b[38;5;241m2024\u001b[39m)       \u001b[38;5;66;03m# \u001b[39;00m\n\u001b[0;32m     44\u001b[0m     all_deps \u001b[38;5;241m=\u001b[39m {\u001b[38;5;241m*\u001b[39m\u001b[38;5;241m*\u001b[39mdeps23, \u001b[38;5;241m*\u001b[39m\u001b[38;5;241m*\u001b[39mdeps24}\n",
      "Cell \u001b[1;32mIn[15], line 19\u001b[0m, in \u001b[0;36mfetch_deputies\u001b[1;34m(year)\u001b[0m\n\u001b[0;32m     12\u001b[0m params \u001b[38;5;241m=\u001b[39m {\n\u001b[0;32m     13\u001b[0m     \u001b[38;5;124m\"\u001b[39m\u001b[38;5;124mano\u001b[39m\u001b[38;5;124m\"\u001b[39m: year,\n\u001b[0;32m     14\u001b[0m     \u001b[38;5;124m\"\u001b[39m\u001b[38;5;124mitens\u001b[39m\u001b[38;5;124m\"\u001b[39m: \u001b[38;5;241m1000\u001b[39m,    \u001b[38;5;66;03m# ensure we get all 513 in one go\u001b[39;00m\n\u001b[0;32m     15\u001b[0m     \u001b[38;5;124m\"\u001b[39m\u001b[38;5;124mordenarPor\u001b[39m\u001b[38;5;124m\"\u001b[39m: \u001b[38;5;124m\"\u001b[39m\u001b[38;5;124mnome\u001b[39m\u001b[38;5;124m\"\u001b[39m,\n\u001b[0;32m     16\u001b[0m     \u001b[38;5;124m\"\u001b[39m\u001b[38;5;124mordenar\u001b[39m\u001b[38;5;124m\"\u001b[39m: \u001b[38;5;124m\"\u001b[39m\u001b[38;5;124mASC\u001b[39m\u001b[38;5;124m\"\u001b[39m\n\u001b[0;32m     17\u001b[0m }\n\u001b[0;32m     18\u001b[0m resp \u001b[38;5;241m=\u001b[39m requests\u001b[38;5;241m.\u001b[39mget(url, params\u001b[38;5;241m=\u001b[39mparams, headers\u001b[38;5;241m=\u001b[39m{\u001b[38;5;124m\"\u001b[39m\u001b[38;5;124mAccept\u001b[39m\u001b[38;5;124m\"\u001b[39m:\u001b[38;5;124m\"\u001b[39m\u001b[38;5;124mapplication/json\u001b[39m\u001b[38;5;124m\"\u001b[39m})\n\u001b[1;32m---> 19\u001b[0m resp\u001b[38;5;241m.\u001b[39mraise_for_status()\n\u001b[0;32m     20\u001b[0m data \u001b[38;5;241m=\u001b[39m resp\u001b[38;5;241m.\u001b[39mjson()\u001b[38;5;241m.\u001b[39mget(\u001b[38;5;124m\"\u001b[39m\u001b[38;5;124mdados\u001b[39m\u001b[38;5;124m\"\u001b[39m, [])\n\u001b[0;32m     21\u001b[0m \u001b[38;5;28;01mreturn\u001b[39;00m {d[\u001b[38;5;124m\"\u001b[39m\u001b[38;5;124mnome\u001b[39m\u001b[38;5;124m\"\u001b[39m]\u001b[38;5;241m.\u001b[39mupper(): d[\u001b[38;5;124m\"\u001b[39m\u001b[38;5;124msiglaPartido\u001b[39m\u001b[38;5;124m\"\u001b[39m] \u001b[38;5;28;01mfor\u001b[39;00m d \u001b[38;5;129;01min\u001b[39;00m data}\n",
      "File \u001b[1;32mc:\\ProgramData\\anaconda3\\Lib\\site-packages\\requests\\models.py:1021\u001b[0m, in \u001b[0;36mResponse.raise_for_status\u001b[1;34m(self)\u001b[0m\n\u001b[0;32m   1016\u001b[0m     http_error_msg \u001b[38;5;241m=\u001b[39m (\n\u001b[0;32m   1017\u001b[0m         \u001b[38;5;124mf\u001b[39m\u001b[38;5;124m\"\u001b[39m\u001b[38;5;132;01m{\u001b[39;00m\u001b[38;5;28mself\u001b[39m\u001b[38;5;241m.\u001b[39mstatus_code\u001b[38;5;132;01m}\u001b[39;00m\u001b[38;5;124m Server Error: \u001b[39m\u001b[38;5;132;01m{\u001b[39;00mreason\u001b[38;5;132;01m}\u001b[39;00m\u001b[38;5;124m for url: \u001b[39m\u001b[38;5;132;01m{\u001b[39;00m\u001b[38;5;28mself\u001b[39m\u001b[38;5;241m.\u001b[39murl\u001b[38;5;132;01m}\u001b[39;00m\u001b[38;5;124m\"\u001b[39m\n\u001b[0;32m   1018\u001b[0m     )\n\u001b[0;32m   1020\u001b[0m \u001b[38;5;28;01mif\u001b[39;00m http_error_msg:\n\u001b[1;32m-> 1021\u001b[0m     \u001b[38;5;28;01mraise\u001b[39;00m HTTPError(http_error_msg, response\u001b[38;5;241m=\u001b[39m\u001b[38;5;28mself\u001b[39m)\n",
      "\u001b[1;31mHTTPError\u001b[0m: 400 Client Error: Bad Request for url: https://dadosabertos.camara.leg.br/api/v2/deputados?ano=2023&itens=1000&ordenarPor=nome&ordenar=ASC"
     ]
    }
   ],
   "source": [
    "#!/usr/bin/env python3\n",
    "# -*- coding: utf-8 -*-\n",
    "\n",
    "import requests, json\n",
    "\n",
    "def fetch_deputies(year):\n",
    "    \"\"\"\n",
    "    Fetch all deputies for a given year from the Câmara dos Deputados API.\n",
    "    Returns a dict mapping NOME (uppercased) → SIGLA_PARTIDO.\n",
    "    \"\"\"\n",
    "    url = f\"https://dadosabertos.camara.leg.br/api/v2/deputados\"\n",
    "    params = {\n",
    "        \"ano\": year,\n",
    "        \"itens\": 1000,    # ensure we get all 513 in one go\n",
    "        \"ordenarPor\": \"nome\",\n",
    "        \"ordenar\": \"ASC\"\n",
    "    }\n",
    "    resp = requests.get(url, params=params, headers={\"Accept\":\"application/json\"})\n",
    "    resp.raise_for_status()\n",
    "    data = resp.json().get(\"dados\", [])\n",
    "    return {d[\"nome\"].upper(): d[\"siglaPartido\"] for d in data}\n",
    "\n",
    "def fetch_senators():\n",
    "    \"\"\"\n",
    "    Fetch all senators in exercise from the Senado Federal open-data feed.\n",
    "    Returns a dict mapping NOME (uppercased) → PARTIDO.\n",
    "    \"\"\"\n",
    "    url = \"https://www12.senado.leg.br/dados-abertos/conjuntos/senadores-em-exercicio.json\"\n",
    "    resp = requests.get(url)\n",
    "    resp.raise_for_status()\n",
    "    data = resp.json().get(\"List\", {}).get(\"Parlamentares\", [])\n",
    "    mapping = {}\n",
    "    for item in data:\n",
    "        nome = item.get(\"IdentificacaoParlamentar\", {}).get(\"NomeParlamentar\", \"\")\n",
    "        partido = item.get(\"IdentificacaoParlamentar\", {}).get(\"SiglaPartido\", \"\")\n",
    "        if nome:\n",
    "            mapping[nome.upper()] = partido\n",
    "    return mapping\n",
    "\n",
    "def main():\n",
    "    # 1. Deputies 2023 + 2024 (2024 overrides any repeat from 2023)\n",
    "    deps23 = fetch_deputies(2023)       # \n",
    "    deps24 = fetch_deputies(2024)       # \n",
    "    all_deps = {**deps23, **deps24}\n",
    "\n",
    "    # 2. Senators\n",
    "    sens = fetch_senators()             # \n",
    "\n",
    "    # 3. Combine into one mapping\n",
    "    full_mapping = {**all_deps, **sens}\n",
    "\n",
    "    # 4. Write to JSON file\n",
    "    with open(\"partidos_2023_2024.json\", \"w\", encoding=\"utf-8\") as f:\n",
    "        json.dump(full_mapping, f, ensure_ascii=False, indent=2)\n",
    "\n",
    "    print(f\"Generated partidos_2023_2024.json with {len(full_mapping)} entries.\")\n",
    "\n",
    "if __name__ == \"__main__\":\n",
    "    main()\n"
   ]
  }
 ],
 "metadata": {
  "kernelspec": {
   "display_name": "base",
   "language": "python",
   "name": "python3"
  },
  "language_info": {
   "codemirror_mode": {
    "name": "ipython",
    "version": 3
   },
   "file_extension": ".py",
   "mimetype": "text/x-python",
   "name": "python",
   "nbconvert_exporter": "python",
   "pygments_lexer": "ipython3",
   "version": "3.11.7"
  }
 },
 "nbformat": 4,
 "nbformat_minor": 5
}
