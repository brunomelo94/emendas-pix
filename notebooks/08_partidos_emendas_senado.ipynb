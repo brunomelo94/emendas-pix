{
 "cells": [
  {
   "cell_type": "markdown",
   "metadata": {},
   "source": [
    "## Atribuir partidos \u00e0s emendas\n",
    "\n",
    "Este notebook carrega `emendas_por_favorecido.csv`, os partidos de deputados",
    " e os partidos de senadores a partir de dados abertos para associar o partido",
    " de cada autor de emenda sem alterar o arquivo original."
   ]
  },
  {
   "cell_type": "code",
   "execution_count": 1,
   "metadata": {
    "id": "import"
   },
   "outputs": [],
   "source": [
    "import pandas as pd\n",
    "import json\n",
    "from unidecode import unidecode",
    "from src.senado_party_service import fetch_senator_parties\n"
   ]
  },
  {
   "cell_type": "code",
   "execution_count": 2,
   "metadata": {
    "id": "senadores"
   },
   "outputs": [],
   "source": [
    "# Baixa e prepara dados de partidos dos senadores\n",
    "senadores = fetch_senator_parties()\n",
    "senadores_df = pd.DataFrame(list(senadores.items()),\n",
    "                            columns=['norm_name', 'siglaPartido'])"
   ]
  },
  {
   "cell_type": "code",
   "execution_count": 3,
   "metadata": {
    "id": "deputados"
   },
   "outputs": [],
   "source": [
    "# Carrega partidos dos deputados a partir do JSON\n",
    "with open('data/deputados_dados_partidos.json') as f:\n",
    "    deputados = json.load(f)['dados']\n",
    "deputados_df = pd.DataFrame(deputados)[['nome', 'siglaPartido']]\n",
    "deputados_df['norm_name'] = deputados_df['nome'].apply(lambda x: unidecode(x).upper())"
   ]
  },
  {
   "cell_type": "code",
   "execution_count": 4,
   "metadata": {
    "id": "merge"
   },
   "outputs": [],
   "source": [
    "# L\u00ea emendas e realiza merge sem alterar o CSV original\n",
    "emendas = pd.read_csv('data/emendas_por_favorecido.csv')\n",
    "emendas['norm_name'] = emendas['Nome do Autor da Emenda'].apply(lambda x: unidecode(x).upper())\n",
    "partidos_df = pd.concat([deputados_df[['norm_name', 'siglaPartido']], senadores_df])\n",
    "resultado = emendas.merge(partidos_df, on='norm_name', how='left')\n",
    "resultado.drop(columns='norm_name', inplace=True)"
   ]
  },
  {
   "cell_type": "code",
   "execution_count": 5,
   "metadata": {
    "id": "save"
   },
   "outputs": [],
   "source": [
    "# Salva nova vers\u00e3o sem alterar o arquivo original\n",
    "resultado.to_csv('data/emendas_por_favorecido_partidos.csv', index=False)\n",
    "resultado.head()"
   ]
  }
 ],
 "metadata": {
  "kernelspec": {
   "display_name": "Python 3",
   "language": "python",
   "name": "python3"
  },
  "language_info": {
   "codemirror_mode": {
    "name": "ipython",
    "version": 3
   },
   "file_extension": ".py",
   "mimetype": "text/x-python",
   "name": "python",
   "nbconvert_exporter": "python",
   "pygments_lexer": "ipython3",
   "version": "3.11.7"
  }
 },
 "nbformat": 4,
 "nbformat_minor": 5
}
