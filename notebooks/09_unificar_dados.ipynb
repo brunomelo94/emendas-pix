{
 "cells": [
  {
   "cell_type": "markdown",
   "id": "be7680a0",
   "metadata": {},
   "source": [
    "## Unificação das bases de dados"
   ]
  },
  {
   "cell_type": "code",
   "execution_count": 5,
   "id": "752ca407",
   "metadata": {},
   "outputs": [
    {
     "name": "stdout",
     "output_type": "stream",
     "text": [
      "Collecting Unidecode\n",
      "  Using cached Unidecode-1.4.0-py3-none-any.whl.metadata (13 kB)\n",
      "Using cached Unidecode-1.4.0-py3-none-any.whl (235 kB)\n",
      "Installing collected packages: Unidecode\n",
      "Successfully installed Unidecode-1.4.0\n",
      "Note: you may need to restart the kernel to use updated packages.\n"
     ]
    },
    {
     "name": "stderr",
     "output_type": "stream",
     "text": [
      "\n",
      "[notice] A new release of pip is available: 24.3.1 -> 25.1.1\n",
      "[notice] To update, run: python.exe -m pip install --upgrade pip\n"
     ]
    }
   ],
   "source": [
    "\n",
    "%pip install Unidecode\n",
    "\n",
    "import pandas as pd\n",
    "import re\n",
    "from unidecode import unidecode"
   ]
  },
  {
   "cell_type": "code",
   "execution_count": 6,
   "id": "e24b25b3",
   "metadata": {},
   "outputs": [],
   "source": [
    "\n",
    "def normalize_municipio(nome: str) -> str:\n",
    "    \"\"\"Remove acentos e padroniza como 'MUNICIPIO - UF'\"\"\"\n",
    "    if pd.isna(nome):\n",
    "        return None\n",
    "    nome = unidecode(str(nome)).upper().strip()\n",
    "    m = re.search(r\"\\((\\w{2})\\)$\", nome)\n",
    "    uf = None\n",
    "    if m:\n",
    "        uf = m.group(1)\n",
    "        base = nome[:m.start()].strip()\n",
    "    else:\n",
    "        m = re.search(r\"\\s-\\s([A-Z]{2})$\", nome)\n",
    "        if m:\n",
    "            uf = m.group(1)\n",
    "            base = nome[:m.start()].strip()\n",
    "        else:\n",
    "            base = nome\n",
    "    return f\"{base} - {uf}\" if uf else base\n"
   ]
  },
  {
   "cell_type": "code",
   "execution_count": 8,
   "id": "1308c06a",
   "metadata": {},
   "outputs": [
    {
     "data": {
      "application/vnd.microsoft.datawrangler.viewer.v0+json": {
       "columns": [
        {
         "name": "index",
         "rawType": "int64",
         "type": "integer"
        },
        {
         "name": "municipio",
         "rawType": "object",
         "type": "string"
        },
        {
         "name": "code_muni",
         "rawType": "float64",
         "type": "float"
        },
        {
         "name": "valor_pix_total",
         "rawType": "int64",
         "type": "integer"
        },
        {
         "name": "pib_per_capita_2021",
         "rawType": "float64",
         "type": "float"
        },
        {
         "name": "densidade_demografica",
         "rawType": "float64",
         "type": "float"
        },
        {
         "name": "IDHM 2010",
         "rawType": "float64",
         "type": "float"
        },
        {
         "name": "Taxa de Educacao 2010",
         "rawType": "float64",
         "type": "float"
        },
        {
         "name": "prefeito_eleito",
         "rawType": "object",
         "type": "string"
        }
       ],
       "ref": "348d6808-31e3-46df-9407-d1b13cd02b07",
       "rows": [
        [
         "0",
         "ABADIA DE GOIAS - GO",
         "5200050.0",
         "570000000",
         "18491.217063989963",
         "133.39799737437687",
         "0.708",
         "92.19",
         "WANDER SARAIVA"
        ],
        [
         "1",
         "ABADIA DOS DOURADOS - MG",
         "3100104.0",
         "70000000",
         "28184.630102040817",
         "7.127400247351568",
         "0.689",
         "90.88",
         "CIRO"
        ],
        [
         "2",
         "ABADIANIA - GO",
         "5200100.0",
         "291797100",
         "25842.85051067781",
         "16.50935116913498",
         "0.689",
         "89.16",
         "DR ITAMAR"
        ],
        [
         "3",
         "ABAETE - MG",
         "3100203.0",
         "402000000",
         "23869.41565600882",
         "12.47983026005562",
         "0.698",
         "91.28",
         "IVANIR"
        ],
        [
         "4",
         "ABAETETUBA - PA",
         "1500107.0",
         "474994300",
         "12322.938528839102",
         "98.22878551140263",
         "0.628",
         "86.29",
         "FRANCINETI CARVALHO"
        ]
       ],
       "shape": {
        "columns": 8,
        "rows": 5
       }
      },
      "text/html": [
       "<div>\n",
       "<style scoped>\n",
       "    .dataframe tbody tr th:only-of-type {\n",
       "        vertical-align: middle;\n",
       "    }\n",
       "\n",
       "    .dataframe tbody tr th {\n",
       "        vertical-align: top;\n",
       "    }\n",
       "\n",
       "    .dataframe thead th {\n",
       "        text-align: right;\n",
       "    }\n",
       "</style>\n",
       "<table border=\"1\" class=\"dataframe\">\n",
       "  <thead>\n",
       "    <tr style=\"text-align: right;\">\n",
       "      <th></th>\n",
       "      <th>municipio</th>\n",
       "      <th>code_muni</th>\n",
       "      <th>valor_pix_total</th>\n",
       "      <th>pib_per_capita_2021</th>\n",
       "      <th>densidade_demografica</th>\n",
       "      <th>IDHM 2010</th>\n",
       "      <th>Taxa de Educacao 2010</th>\n",
       "      <th>prefeito_eleito</th>\n",
       "    </tr>\n",
       "  </thead>\n",
       "  <tbody>\n",
       "    <tr>\n",
       "      <th>0</th>\n",
       "      <td>ABADIA DE GOIAS - GO</td>\n",
       "      <td>5200050.0</td>\n",
       "      <td>570000000</td>\n",
       "      <td>18491.217064</td>\n",
       "      <td>133.397997</td>\n",
       "      <td>0.708</td>\n",
       "      <td>92.19</td>\n",
       "      <td>WANDER SARAIVA</td>\n",
       "    </tr>\n",
       "    <tr>\n",
       "      <th>1</th>\n",
       "      <td>ABADIA DOS DOURADOS - MG</td>\n",
       "      <td>3100104.0</td>\n",
       "      <td>70000000</td>\n",
       "      <td>28184.630102</td>\n",
       "      <td>7.127400</td>\n",
       "      <td>0.689</td>\n",
       "      <td>90.88</td>\n",
       "      <td>CIRO</td>\n",
       "    </tr>\n",
       "    <tr>\n",
       "      <th>2</th>\n",
       "      <td>ABADIANIA - GO</td>\n",
       "      <td>5200100.0</td>\n",
       "      <td>291797100</td>\n",
       "      <td>25842.850511</td>\n",
       "      <td>16.509351</td>\n",
       "      <td>0.689</td>\n",
       "      <td>89.16</td>\n",
       "      <td>DR ITAMAR</td>\n",
       "    </tr>\n",
       "    <tr>\n",
       "      <th>3</th>\n",
       "      <td>ABAETE - MG</td>\n",
       "      <td>3100203.0</td>\n",
       "      <td>402000000</td>\n",
       "      <td>23869.415656</td>\n",
       "      <td>12.479830</td>\n",
       "      <td>0.698</td>\n",
       "      <td>91.28</td>\n",
       "      <td>IVANIR</td>\n",
       "    </tr>\n",
       "    <tr>\n",
       "      <th>4</th>\n",
       "      <td>ABAETETUBA - PA</td>\n",
       "      <td>1500107.0</td>\n",
       "      <td>474994300</td>\n",
       "      <td>12322.938529</td>\n",
       "      <td>98.228786</td>\n",
       "      <td>0.628</td>\n",
       "      <td>86.29</td>\n",
       "      <td>FRANCINETI CARVALHO</td>\n",
       "    </tr>\n",
       "  </tbody>\n",
       "</table>\n",
       "</div>"
      ],
      "text/plain": [
       "                  municipio  code_muni  valor_pix_total  pib_per_capita_2021  \\\n",
       "0      ABADIA DE GOIAS - GO  5200050.0        570000000         18491.217064   \n",
       "1  ABADIA DOS DOURADOS - MG  3100104.0         70000000         28184.630102   \n",
       "2            ABADIANIA - GO  5200100.0        291797100         25842.850511   \n",
       "3               ABAETE - MG  3100203.0        402000000         23869.415656   \n",
       "4           ABAETETUBA - PA  1500107.0        474994300         12322.938529   \n",
       "\n",
       "   densidade_demografica  IDHM 2010  Taxa de Educacao 2010  \\\n",
       "0             133.397997      0.708                  92.19   \n",
       "1               7.127400      0.689                  90.88   \n",
       "2              16.509351      0.689                  89.16   \n",
       "3              12.479830      0.698                  91.28   \n",
       "4              98.228786      0.628                  86.29   \n",
       "\n",
       "       prefeito_eleito  \n",
       "0       WANDER SARAIVA  \n",
       "1                 CIRO  \n",
       "2            DR ITAMAR  \n",
       "3               IVANIR  \n",
       "4  FRANCINETI CARVALHO  "
      ]
     },
     "execution_count": 8,
     "metadata": {},
     "output_type": "execute_result"
    }
   ],
   "source": [
    "\n",
    "# Carregar emendas com partidos e agregar por município\n",
    "emendas = pd.read_csv('../data/emendas_por_favorecido_partidos.csv', encoding='utf-8-sig')\n",
    "emendas['municipio'] = (emendas['Município Favorecido'] + ' - ' + emendas['UF Favorecido']).apply(normalize_municipio)\n",
    "agg = (emendas.groupby('municipio', as_index=False)['Valor Recebido']\n",
    "               .sum()\n",
    "               .rename(columns={'Valor Recebido': 'valor_pix_total'}))\n",
    "\n",
    "# Indicadores IBGE\n",
    "dens = pd.read_csv('../data/densidade.csv')\n",
    "dens['municipio'] = dens['name_muni_x'].apply(normalize_municipio)\n",
    "dens = dens[['code_muni', 'municipio', 'densidade_demografica']]\n",
    "escolar = pd.read_csv('../data/escolarizacao.csv')\n",
    "escolar['municipio'] = escolar['Territorialidades'].apply(normalize_municipio)\n",
    "escolar = escolar[['municipio', 'Taxa de Educacao 2010']]\n",
    "idhm = pd.read_csv('../data/idhm.csv')\n",
    "idhm['municipio'] = idhm['Territorialidades'].apply(normalize_municipio)\n",
    "idhm = idhm[['municipio', 'IDHM 2010']]\n",
    "pib = pd.read_csv('../data/pib_per_capita.csv')\n",
    "pib['municipio'] = pib['name_muni'].apply(normalize_municipio)\n",
    "pib = pib[['municipio', 'pib_per_capita_2021']]\n",
    "resultados = pd.read_csv('../data/resultados_eleicoes.csv')\n",
    "resultados['municipio'] = (resultados['NM_MUNICIPIO'] + ' - ' + resultados['SG_UF']).apply(normalize_municipio)\n",
    "prefeitos = resultados[resultados['DS_SIT_TOT_TURNO'] == 'ELEITO']\n",
    "prefeitos = prefeitos.drop_duplicates('municipio')[['municipio', 'NM_URNA_CANDIDATO']]                    .rename(columns={'NM_URNA_CANDIDATO': 'prefeito_eleito'})\n",
    "\n",
    "# Merge de todas as bases\n",
    "base = agg.merge(dens, on='municipio', how='left')\n",
    "base = base.merge(pib, on='municipio', how='left')\n",
    "base = base.merge(idhm, on='municipio', how='left')\n",
    "base = base.merge(escolar, on='municipio', how='left')\n",
    "base = base.merge(prefeitos, on='municipio', how='left')\n",
    "\n",
    "# Seleciona colunas principais\n",
    "dados_unificados = base[['municipio', 'code_muni', 'valor_pix_total',\n",
    "                         'pib_per_capita_2021', 'densidade_demografica',\n",
    "                         'IDHM 2010', 'Taxa de Educacao 2010', 'prefeito_eleito']]\n",
    "\n",
    "dados_unificados.to_csv('../data/dados_unificados.csv', index=False, encoding='utf-8-sig')\n",
    "dados_unificados.head()\n"
   ]
  }
 ],
 "metadata": {
  "kernelspec": {
   "display_name": "Python 3",
   "language": "python",
   "name": "python3"
  },
  "language_info": {
   "codemirror_mode": {
    "name": "ipython",
    "version": 3
   },
   "file_extension": ".py",
   "mimetype": "text/x-python",
   "name": "python",
   "nbconvert_exporter": "python",
   "pygments_lexer": "ipython3",
   "version": "3.13.0"
  }
 },
 "nbformat": 4,
 "nbformat_minor": 5
}
