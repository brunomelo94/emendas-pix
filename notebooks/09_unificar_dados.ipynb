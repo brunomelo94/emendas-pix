{
 "cells": [
  {
   "cell_type": "markdown",
   "id": "be7680a0",
   "metadata": {},
   "source": [
    "## Unificação das bases de dados"
   ]
  },
  {
   "cell_type": "code",
   "execution_count": null,
   "id": "752ca407",
   "metadata": {},
   "outputs": [],
   "source": [
    "import pandas as pd\n",
    "import re\n",
    "from unidecode import unidecode"
   ]
  },
  {
   "cell_type": "code",
   "execution_count": null,
   "id": "e24b25b3",
   "metadata": {},
   "outputs": [],
   "source": [
    "\n",
    "def normalize_municipio(nome: str) -> str:\n",
    "    \"\"\"Remove acentos e padroniza como 'MUNICIPIO - UF'\"\"\"\n",
    "    if pd.isna(nome):\n",
    "        return None\n",
    "    nome = unidecode(str(nome)).upper().strip()\n",
    "    m = re.search(r\"\\((\\w{2})\\)$\", nome)\n",
    "    uf = None\n",
    "    if m:\n",
    "        uf = m.group(1)\n",
    "        base = nome[:m.start()].strip()\n",
    "    else:\n",
    "        m = re.search(r\"\\s-\\s([A-Z]{2})$\", nome)\n",
    "        if m:\n",
    "            uf = m.group(1)\n",
    "            base = nome[:m.start()].strip()\n",
    "        else:\n",
    "            base = nome\n",
    "    return f\"{base} - {uf}\" if uf else base\n"
   ]
  },
  {
   "cell_type": "code",
   "execution_count": null,
   "id": "1308c06a",
   "metadata": {},
   "outputs": [],
   "source": [
    "\n",
    "# Carregar emendas com partidos e agregar por município\n",
    "emendas = pd.read_csv('../data/emendas_por_favorecido_partidos.csv', encoding='utf-8-sig')\n",
    "emendas['municipio'] = (emendas['Município Favorecido'] + ' - ' + emendas['UF Favorecido']).apply(normalize_municipio)\n",
    "agg = (emendas.groupby('municipio', as_index=False)['Valor Recebido']\n",
    "               .sum()\n",
    "               .rename(columns={'Valor Recebido': 'valor_pix_total'}))\n",
    "\n",
    "# Indicadores IBGE\n",
    " dens = pd.read_csv('../data/densidade.csv')\n",
    " dens['municipio'] = dens['name_muni_x'].apply(normalize_municipio)\n",
    " dens = dens[['code_muni', 'municipio', 'densidade_demografica']]\n",
    "\n",
    " escolar = pd.read_csv('../data/escolarizacao.csv')\n",
    " escolar['municipio'] = escolar['Territorialidades'].apply(normalize_municipio)\n",
    " escolar = escolar[['municipio', 'Taxa de Educacao 2010']]\n",
    "\n",
    " idhm = pd.read_csv('../data/idhm.csv')\n",
    " idhm['municipio'] = idhm['Territorialidades'].apply(normalize_municipio)\n",
    " idhm = idhm[['municipio', 'IDHM 2010']]\n",
    "\n",
    " pib = pd.read_csv('../data/pib_per_capita.csv')\n",
    " pib['municipio'] = pib['name_muni'].apply(normalize_municipio)\n",
    " pib = pib[['municipio', 'pib_per_capita_2021']]\n",
    "\n",
    " resultados = pd.read_csv('../data/resultados_eleicoes.csv')\n",
    " resultados['municipio'] = (resultados['NM_MUNICIPIO'] + ' - ' + resultados['SG_UF']).apply(normalize_municipio)\n",
    " prefeitos = resultados[resultados['DS_SIT_TOT_TURNO'] == 'ELEITO']\n",
    " prefeitos = prefeitos.drop_duplicates('municipio')[['municipio', 'NM_URNA_CANDIDATO']]                    .rename(columns={'NM_URNA_CANDIDATO': 'prefeito_eleito'})\n",
    "\n",
    "# Merge de todas as bases\n",
    "base = agg.merge(dens, on='municipio', how='left')\n",
    "base = base.merge(pib, on='municipio', how='left')\n",
    "base = base.merge(idhm, on='municipio', how='left')\n",
    "base = base.merge(escolar, on='municipio', how='left')\n",
    "base = base.merge(prefeitos, on='municipio', how='left')\n",
    "\n",
    "# Seleciona colunas principais\n",
    "dados_unificados = base[['municipio', 'code_muni', 'valor_pix_total',\n",
    "                         'pib_per_capita_2021', 'densidade_demografica',\n",
    "                         'IDHM 2010', 'Taxa de Educacao 2010', 'prefeito_eleito']]\n",
    "\n",
    "dados_unificados.to_csv('../data/dados_unificados.csv', index=False, encoding='utf-8-sig')\n",
    "dados_unificados.head()\n"
   ]
  }
 ],
 "metadata": {},
 "nbformat": 4,
 "nbformat_minor": 5
}
